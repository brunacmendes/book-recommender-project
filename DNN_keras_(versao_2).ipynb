{
  "nbformat": 4,
  "nbformat_minor": 0,
  "metadata": {
    "colab": {
      "name": "DNN_keras (versao 2).ipynb",
      "provenance": [],
      "collapsed_sections": [],
      "toc_visible": true,
      "mount_file_id": "1sl5SlsF2zdlBvMT6pOsKq68CGmTVC0za",
      "authorship_tag": "ABX9TyPfCoJvq5h4Ky9yvszs032L",
      "include_colab_link": true
    },
    "kernelspec": {
      "display_name": "Python 3",
      "name": "python3"
    },
    "language_info": {
      "name": "python"
    },
    "accelerator": "GPU"
  },
  "cells": [
    {
      "cell_type": "markdown",
      "metadata": {
        "id": "view-in-github",
        "colab_type": "text"
      },
      "source": [
        "<a href=\"https://colab.research.google.com/github/brunacmendes/book-recommender-project/blob/main/DNN_keras_(versao_2).ipynb\" target=\"_parent\"><img src=\"https://colab.research.google.com/assets/colab-badge.svg\" alt=\"Open In Colab\"/></a>"
      ]
    },
    {
      "cell_type": "code",
      "metadata": {
        "id": "z7hdD_4Tq-kp"
      },
      "source": [
        "from __future__ import print_function, division\n",
        "from builtins import range, input\n",
        "\n",
        "%matplotlib inline\n",
        "from zipfile import ZipFile\n",
        "from pathlib import Path\n",
        "import numpy as np\n",
        "import pandas as pd\n",
        "import pickle\n",
        "import matplotlib.pyplot as plt\n",
        "from sklearn.model_selection import train_test_split\n",
        "from sklearn.preprocessing import LabelEncoder\n",
        "from tensorflow import keras\n",
        "import tensorflow as tf\n"
      ],
      "execution_count": 2,
      "outputs": []
    },
    {
      "cell_type": "markdown",
      "metadata": {
        "id": "vwTC0Rqpv6j3"
      },
      "source": [
        "# Carregar dados e Pre-processamento"
      ]
    },
    {
      "cell_type": "code",
      "metadata": {
        "id": "nuBG5Mcj7443"
      },
      "source": [
        "# Load the Drive helper and mount\n",
        "#from google.colab import drive\n",
        "\n",
        "# This will prompt for authorization.\n",
        "#drive.mount('/content/drive')\n",
        "\n",
        "#df = pd.read_csv('/content/drive/MyDrive/amazon_ratings.csv')"
      ],
      "execution_count": 29,
      "outputs": []
    },
    {
      "cell_type": "code",
      "metadata": {
        "id": "LoFPe6FHgoBm",
        "colab": {
          "base_uri": "https://localhost:8080/"
        },
        "outputId": "75cc4c06-6317-4f48-b511-e0f808c97cff"
      },
      "source": [
        "bookcrossing_data_file_url = (\n",
        "    \"http://www2.informatik.uni-freiburg.de/~cziegler/BX/BX-CSV-Dump.zip\"\n",
        ")\n",
        "BX_zipped_file = keras.utils.get_file(\n",
        "    \"BX-CSV-Dump.zip\", bookcrossing_data_file_url, extract=False\n",
        ")\n",
        "keras_datasets_path = Path(BX_zipped_file).parents[0]\n",
        "BX_dir = keras_datasets_path / 'book-crossing'\n",
        "\n",
        "# Only extract the data the first time the script is run.\n",
        "if not BX_dir.exists():\n",
        "    with ZipFile(BX_zipped_file, \"r\") as zip:\n",
        "        # Extract files\n",
        "        print(\"Extracting all the files now...\")\n",
        "        zip.extractall(path=BX_dir)\n",
        "        print(\"Done!\")\n",
        "\n",
        "ratings_file = BX_dir / 'BX-Book-Ratings.csv'\n",
        "r_cols = ['user_id', 'book_id', 'rating']\n",
        "df = pd.read_csv(ratings_file, sep=';', names=r_cols, encoding='latin-1', low_memory=False)\n",
        "df = df.drop(df.index[0])"
      ],
      "execution_count": 3,
      "outputs": [
        {
          "output_type": "stream",
          "text": [
            "Downloading data from http://www2.informatik.uni-freiburg.de/~cziegler/BX/BX-CSV-Dump.zip\n",
            "26091520/26085508 [==============================] - 0s 0us/step\n",
            "Extracting all the files now...\n",
            "Done!\n"
          ],
          "name": "stdout"
        }
      ]
    },
    {
      "cell_type": "code",
      "metadata": {
        "colab": {
          "base_uri": "https://localhost:8080/",
          "height": 204
        },
        "id": "2ksx4pTV8IsO",
        "outputId": "ca24797b-fcd3-404b-8a2b-e07345cbc457"
      },
      "source": [
        "df.head()"
      ],
      "execution_count": 4,
      "outputs": [
        {
          "output_type": "execute_result",
          "data": {
            "text/html": [
              "<div>\n",
              "<style scoped>\n",
              "    .dataframe tbody tr th:only-of-type {\n",
              "        vertical-align: middle;\n",
              "    }\n",
              "\n",
              "    .dataframe tbody tr th {\n",
              "        vertical-align: top;\n",
              "    }\n",
              "\n",
              "    .dataframe thead th {\n",
              "        text-align: right;\n",
              "    }\n",
              "</style>\n",
              "<table border=\"1\" class=\"dataframe\">\n",
              "  <thead>\n",
              "    <tr style=\"text-align: right;\">\n",
              "      <th></th>\n",
              "      <th>user_id</th>\n",
              "      <th>book_id</th>\n",
              "      <th>rating</th>\n",
              "    </tr>\n",
              "  </thead>\n",
              "  <tbody>\n",
              "    <tr>\n",
              "      <th>1</th>\n",
              "      <td>276725</td>\n",
              "      <td>034545104X</td>\n",
              "      <td>0</td>\n",
              "    </tr>\n",
              "    <tr>\n",
              "      <th>2</th>\n",
              "      <td>276726</td>\n",
              "      <td>0155061224</td>\n",
              "      <td>5</td>\n",
              "    </tr>\n",
              "    <tr>\n",
              "      <th>3</th>\n",
              "      <td>276727</td>\n",
              "      <td>0446520802</td>\n",
              "      <td>0</td>\n",
              "    </tr>\n",
              "    <tr>\n",
              "      <th>4</th>\n",
              "      <td>276729</td>\n",
              "      <td>052165615X</td>\n",
              "      <td>3</td>\n",
              "    </tr>\n",
              "    <tr>\n",
              "      <th>5</th>\n",
              "      <td>276729</td>\n",
              "      <td>0521795028</td>\n",
              "      <td>6</td>\n",
              "    </tr>\n",
              "  </tbody>\n",
              "</table>\n",
              "</div>"
            ],
            "text/plain": [
              "  user_id     book_id rating\n",
              "1  276725  034545104X      0\n",
              "2  276726  0155061224      5\n",
              "3  276727  0446520802      0\n",
              "4  276729  052165615X      3\n",
              "5  276729  0521795028      6"
            ]
          },
          "metadata": {
            "tags": []
          },
          "execution_count": 4
        }
      ]
    },
    {
      "cell_type": "markdown",
      "metadata": {
        "id": "o1oS53Jfv2i0"
      },
      "source": [
        "Agora preciso transformar os ids dos usuários e dos livros em ids únicos sequenciais começando do zero, para ser usado no modelo."
      ]
    },
    {
      "cell_type": "code",
      "metadata": {
        "colab": {
          "base_uri": "https://localhost:8080/"
        },
        "id": "2oEOZR3RuS7x",
        "outputId": "bd0d8c33-09e5-4bd5-ca50-b4af94f5d64f"
      },
      "source": [
        "#transforma ratings em valor float\n",
        "df[\"rating\"] = df[\"rating\"].values.astype(np.float32)\n",
        "\n",
        "\n",
        "#------apenas para o dataset do bookcrossing\n",
        "# manter apenas as avaliações explicitas - nota 0 signfica que o usuario apenas interagiu com o produto de alguma forma\n",
        "df=df.loc[df['rating']>0]\n",
        "\n",
        "#colocar ratings que sao de 1-10 para serem de 0.5 a 5\n",
        "df['rating']=df[\"rating\"].apply(lambda x: x/2)\n",
        "#-------------------------------------------------\n",
        "\n",
        "#transforma os ids dos usuarios e livros \n",
        "user_ids = df[\"user_id\"].unique().tolist()\n",
        "user2user_encoded = {x: i for i, x in enumerate(user_ids)}\n",
        "userencoded2user = {i: x for i, x in enumerate(user_ids)}\n",
        "book_ids = df[\"book_id\"].unique().tolist()\n",
        "book2book_encoded = {x: i for i, x in enumerate(book_ids)}\n",
        "book_encoded2book = {i: x for i, x in enumerate(book_ids)}\n",
        "df[\"user\"] = df[\"user_id\"].map(user2user_encoded)\n",
        "df[\"book\"] = df[\"book_id\"].map(book2book_encoded)\n",
        "\n",
        "n_users = len(user2user_encoded)\n",
        "n_books = len(book_encoded2book)\n",
        "\n",
        "# min and max ratings will be used to normalize the ratings later\n",
        "min_rating = min(df[\"rating\"])\n",
        "max_rating = max(df[\"rating\"])\n",
        "\n",
        "print(\n",
        "    \"Number of users: {}, Number of books: {}, Min rating: {}, Max rating: {}\".format(\n",
        "        n_users, n_books, min_rating, max_rating\n",
        "    )\n",
        ")"
      ],
      "execution_count": 5,
      "outputs": [
        {
          "output_type": "stream",
          "text": [
            "Number of users: 77805, Number of books: 185973, Min rating: 0.5, Max rating: 5.0\n"
          ],
          "name": "stdout"
        }
      ]
    },
    {
      "cell_type": "code",
      "metadata": {
        "colab": {
          "base_uri": "https://localhost:8080/",
          "height": 204
        },
        "id": "A7d1vtqGJNa2",
        "outputId": "c3d4e5ac-8a21-4744-9355-03f4284b9b8f"
      },
      "source": [
        "df.head()"
      ],
      "execution_count": 6,
      "outputs": [
        {
          "output_type": "execute_result",
          "data": {
            "text/html": [
              "<div>\n",
              "<style scoped>\n",
              "    .dataframe tbody tr th:only-of-type {\n",
              "        vertical-align: middle;\n",
              "    }\n",
              "\n",
              "    .dataframe tbody tr th {\n",
              "        vertical-align: top;\n",
              "    }\n",
              "\n",
              "    .dataframe thead th {\n",
              "        text-align: right;\n",
              "    }\n",
              "</style>\n",
              "<table border=\"1\" class=\"dataframe\">\n",
              "  <thead>\n",
              "    <tr style=\"text-align: right;\">\n",
              "      <th></th>\n",
              "      <th>user_id</th>\n",
              "      <th>book_id</th>\n",
              "      <th>rating</th>\n",
              "      <th>user</th>\n",
              "      <th>book</th>\n",
              "    </tr>\n",
              "  </thead>\n",
              "  <tbody>\n",
              "    <tr>\n",
              "      <th>2</th>\n",
              "      <td>276726</td>\n",
              "      <td>0155061224</td>\n",
              "      <td>2.5</td>\n",
              "      <td>0</td>\n",
              "      <td>0</td>\n",
              "    </tr>\n",
              "    <tr>\n",
              "      <th>4</th>\n",
              "      <td>276729</td>\n",
              "      <td>052165615X</td>\n",
              "      <td>1.5</td>\n",
              "      <td>1</td>\n",
              "      <td>1</td>\n",
              "    </tr>\n",
              "    <tr>\n",
              "      <th>5</th>\n",
              "      <td>276729</td>\n",
              "      <td>0521795028</td>\n",
              "      <td>3.0</td>\n",
              "      <td>1</td>\n",
              "      <td>2</td>\n",
              "    </tr>\n",
              "    <tr>\n",
              "      <th>7</th>\n",
              "      <td>276736</td>\n",
              "      <td>3257224281</td>\n",
              "      <td>4.0</td>\n",
              "      <td>2</td>\n",
              "      <td>3</td>\n",
              "    </tr>\n",
              "    <tr>\n",
              "      <th>8</th>\n",
              "      <td>276737</td>\n",
              "      <td>0600570967</td>\n",
              "      <td>3.0</td>\n",
              "      <td>3</td>\n",
              "      <td>4</td>\n",
              "    </tr>\n",
              "  </tbody>\n",
              "</table>\n",
              "</div>"
            ],
            "text/plain": [
              "  user_id     book_id  rating  user  book\n",
              "2  276726  0155061224     2.5     0     0\n",
              "4  276729  052165615X     1.5     1     1\n",
              "5  276729  0521795028     3.0     1     2\n",
              "7  276736  3257224281     4.0     2     3\n",
              "8  276737  0600570967     3.0     3     4"
            ]
          },
          "metadata": {
            "tags": []
          },
          "execution_count": 6
        }
      ]
    },
    {
      "cell_type": "markdown",
      "metadata": {
        "id": "agjLq8vc9Lrf"
      },
      "source": [
        "Para ter uma ideia melhor de como os dados se parecem, podemos transformá-los em uma tabela selecionando os 15 principais usuários/livros dos dados e juntando-os. O resultado mostra como cada um dos principais usuários classificou cada um dos livros principais."
      ]
    },
    {
      "cell_type": "code",
      "metadata": {
        "colab": {
          "base_uri": "https://localhost:8080/",
          "height": 410
        },
        "id": "IO1qmrQG9Y7s",
        "outputId": "2b68a57f-d87c-4937-85d1-b5eb92683269"
      },
      "source": [
        "g = df.groupby('user_id')['rating'].count()\n",
        "top_users = g.sort_values(ascending=False)[:15]\n",
        "\n",
        "g = df.groupby('book_id')['rating'].count()\n",
        "top_books = g.sort_values(ascending=False)[:15]\n",
        "\n",
        "top_r = df.join(top_users, rsuffix='_r', how='inner', on='user_id')\n",
        "top_r = top_r.join(top_books, rsuffix='_r', how='inner', on='book_id')\n",
        "\n",
        "pd.crosstab(top_r.user_id, top_r.book_id, top_r.rating, aggfunc=np.sum)"
      ],
      "execution_count": 7,
      "outputs": [
        {
          "output_type": "execute_result",
          "data": {
            "text/html": [
              "<div>\n",
              "<style scoped>\n",
              "    .dataframe tbody tr th:only-of-type {\n",
              "        vertical-align: middle;\n",
              "    }\n",
              "\n",
              "    .dataframe tbody tr th {\n",
              "        vertical-align: top;\n",
              "    }\n",
              "\n",
              "    .dataframe thead th {\n",
              "        text-align: right;\n",
              "    }\n",
              "</style>\n",
              "<table border=\"1\" class=\"dataframe\">\n",
              "  <thead>\n",
              "    <tr style=\"text-align: right;\">\n",
              "      <th>book_id</th>\n",
              "      <th>0142001740</th>\n",
              "      <th>0312195516</th>\n",
              "      <th>0316666343</th>\n",
              "      <th>0316769487</th>\n",
              "      <th>0385504209</th>\n",
              "      <th>044023722X</th>\n",
              "      <th>0446672211</th>\n",
              "      <th>059035342X</th>\n",
              "      <th>067976402X</th>\n",
              "      <th>0679781587</th>\n",
              "      <th>0971880107</th>\n",
              "    </tr>\n",
              "    <tr>\n",
              "      <th>user_id</th>\n",
              "      <th></th>\n",
              "      <th></th>\n",
              "      <th></th>\n",
              "      <th></th>\n",
              "      <th></th>\n",
              "      <th></th>\n",
              "      <th></th>\n",
              "      <th></th>\n",
              "      <th></th>\n",
              "      <th></th>\n",
              "      <th></th>\n",
              "    </tr>\n",
              "  </thead>\n",
              "  <tbody>\n",
              "    <tr>\n",
              "      <th>11676</th>\n",
              "      <td>NaN</td>\n",
              "      <td>5.0</td>\n",
              "      <td>2.5</td>\n",
              "      <td>NaN</td>\n",
              "      <td>4.5</td>\n",
              "      <td>4.0</td>\n",
              "      <td>5.0</td>\n",
              "      <td>5.0</td>\n",
              "      <td>5.0</td>\n",
              "      <td>NaN</td>\n",
              "      <td>3.0</td>\n",
              "    </tr>\n",
              "    <tr>\n",
              "      <th>153662</th>\n",
              "      <td>NaN</td>\n",
              "      <td>NaN</td>\n",
              "      <td>NaN</td>\n",
              "      <td>NaN</td>\n",
              "      <td>NaN</td>\n",
              "      <td>NaN</td>\n",
              "      <td>NaN</td>\n",
              "      <td>5.0</td>\n",
              "      <td>5.0</td>\n",
              "      <td>NaN</td>\n",
              "      <td>NaN</td>\n",
              "    </tr>\n",
              "    <tr>\n",
              "      <th>16795</th>\n",
              "      <td>5.0</td>\n",
              "      <td>4.5</td>\n",
              "      <td>5.0</td>\n",
              "      <td>4.0</td>\n",
              "      <td>5.0</td>\n",
              "      <td>NaN</td>\n",
              "      <td>4.0</td>\n",
              "      <td>NaN</td>\n",
              "      <td>NaN</td>\n",
              "      <td>NaN</td>\n",
              "      <td>NaN</td>\n",
              "    </tr>\n",
              "    <tr>\n",
              "      <th>189835</th>\n",
              "      <td>NaN</td>\n",
              "      <td>4.5</td>\n",
              "      <td>NaN</td>\n",
              "      <td>NaN</td>\n",
              "      <td>NaN</td>\n",
              "      <td>NaN</td>\n",
              "      <td>NaN</td>\n",
              "      <td>NaN</td>\n",
              "      <td>NaN</td>\n",
              "      <td>NaN</td>\n",
              "      <td>NaN</td>\n",
              "    </tr>\n",
              "    <tr>\n",
              "      <th>235105</th>\n",
              "      <td>NaN</td>\n",
              "      <td>NaN</td>\n",
              "      <td>4.0</td>\n",
              "      <td>NaN</td>\n",
              "      <td>3.0</td>\n",
              "      <td>NaN</td>\n",
              "      <td>NaN</td>\n",
              "      <td>NaN</td>\n",
              "      <td>NaN</td>\n",
              "      <td>NaN</td>\n",
              "      <td>NaN</td>\n",
              "    </tr>\n",
              "    <tr>\n",
              "      <th>23902</th>\n",
              "      <td>NaN</td>\n",
              "      <td>NaN</td>\n",
              "      <td>NaN</td>\n",
              "      <td>NaN</td>\n",
              "      <td>NaN</td>\n",
              "      <td>3.0</td>\n",
              "      <td>NaN</td>\n",
              "      <td>NaN</td>\n",
              "      <td>NaN</td>\n",
              "      <td>NaN</td>\n",
              "      <td>NaN</td>\n",
              "    </tr>\n",
              "    <tr>\n",
              "      <th>248718</th>\n",
              "      <td>NaN</td>\n",
              "      <td>NaN</td>\n",
              "      <td>NaN</td>\n",
              "      <td>NaN</td>\n",
              "      <td>NaN</td>\n",
              "      <td>NaN</td>\n",
              "      <td>NaN</td>\n",
              "      <td>NaN</td>\n",
              "      <td>NaN</td>\n",
              "      <td>2.5</td>\n",
              "      <td>NaN</td>\n",
              "    </tr>\n",
              "    <tr>\n",
              "      <th>35859</th>\n",
              "      <td>4.5</td>\n",
              "      <td>5.0</td>\n",
              "      <td>3.0</td>\n",
              "      <td>NaN</td>\n",
              "      <td>NaN</td>\n",
              "      <td>NaN</td>\n",
              "      <td>NaN</td>\n",
              "      <td>5.0</td>\n",
              "      <td>NaN</td>\n",
              "      <td>NaN</td>\n",
              "      <td>NaN</td>\n",
              "    </tr>\n",
              "    <tr>\n",
              "      <th>56399</th>\n",
              "      <td>NaN</td>\n",
              "      <td>NaN</td>\n",
              "      <td>NaN</td>\n",
              "      <td>NaN</td>\n",
              "      <td>NaN</td>\n",
              "      <td>NaN</td>\n",
              "      <td>NaN</td>\n",
              "      <td>NaN</td>\n",
              "      <td>NaN</td>\n",
              "      <td>NaN</td>\n",
              "      <td>2.5</td>\n",
              "    </tr>\n",
              "    <tr>\n",
              "      <th>98391</th>\n",
              "      <td>NaN</td>\n",
              "      <td>NaN</td>\n",
              "      <td>4.5</td>\n",
              "      <td>NaN</td>\n",
              "      <td>5.0</td>\n",
              "      <td>NaN</td>\n",
              "      <td>NaN</td>\n",
              "      <td>NaN</td>\n",
              "      <td>NaN</td>\n",
              "      <td>NaN</td>\n",
              "      <td>NaN</td>\n",
              "    </tr>\n",
              "  </tbody>\n",
              "</table>\n",
              "</div>"
            ],
            "text/plain": [
              "book_id  0142001740  0312195516  0316666343  ...  067976402X  0679781587  0971880107\n",
              "user_id                                      ...                                    \n",
              "11676           NaN         5.0         2.5  ...         5.0         NaN         3.0\n",
              "153662          NaN         NaN         NaN  ...         5.0         NaN         NaN\n",
              "16795           5.0         4.5         5.0  ...         NaN         NaN         NaN\n",
              "189835          NaN         4.5         NaN  ...         NaN         NaN         NaN\n",
              "235105          NaN         NaN         4.0  ...         NaN         NaN         NaN\n",
              "23902           NaN         NaN         NaN  ...         NaN         NaN         NaN\n",
              "248718          NaN         NaN         NaN  ...         NaN         2.5         NaN\n",
              "35859           4.5         5.0         3.0  ...         NaN         NaN         NaN\n",
              "56399           NaN         NaN         NaN  ...         NaN         NaN         2.5\n",
              "98391           NaN         NaN         4.5  ...         NaN         NaN         NaN\n",
              "\n",
              "[10 rows x 11 columns]"
            ]
          },
          "metadata": {
            "tags": []
          },
          "execution_count": 7
        }
      ]
    },
    {
      "cell_type": "code",
      "metadata": {
        "colab": {
          "base_uri": "https://localhost:8080/"
        },
        "id": "gVBShY_JkYKH",
        "outputId": "28fde604-8090-4107-cccd-627c7f8460da"
      },
      "source": [
        "df.isnull().sum()"
      ],
      "execution_count": 8,
      "outputs": [
        {
          "output_type": "execute_result",
          "data": {
            "text/plain": [
              "user_id    0\n",
              "book_id    0\n",
              "rating     0\n",
              "user       0\n",
              "book       0\n",
              "dtype: int64"
            ]
          },
          "metadata": {
            "tags": []
          },
          "execution_count": 8
        }
      ]
    },
    {
      "cell_type": "markdown",
      "metadata": {
        "id": "zCj5Cn5twXWv"
      },
      "source": [
        "# Preparar dados de treinamento e de teste"
      ]
    },
    {
      "cell_type": "code",
      "metadata": {
        "id": "pzQJuXDFiQln",
        "colab": {
          "base_uri": "https://localhost:8080/"
        },
        "outputId": "f8539a4a-461c-4539-ecaf-e78ded31d45d"
      },
      "source": [
        "# split into train and test\n",
        "\n",
        "df = df.sample(frac=1, random_state=42)\n",
        "x = df[[\"user\", \"book\"]].values\n",
        "# Normalize the targets between 0 and 1. Makes it easy to train.\n",
        "y = df[\"rating\"].apply(lambda x: (x - min_rating) / (max_rating - min_rating)).values\n",
        "# Assuming training on 90% of the data and validating on 10%.\n",
        "train_indices = int(0.9 * df.shape[0])\n",
        "x_train, x_test, y_train, y_test = (\n",
        "    x[:train_indices],\n",
        "    x[train_indices:],\n",
        "    y[:train_indices],\n",
        "    y[train_indices:],\n",
        ")\n",
        "\n",
        "\n",
        "x_train.shape, x_test.shape, y_train.shape, y_test.shape"
      ],
      "execution_count": 10,
      "outputs": [
        {
          "output_type": "execute_result",
          "data": {
            "text/plain": [
              "((390303, 2), (43368, 2), (390303,), (43368,))"
            ]
          },
          "metadata": {
            "tags": []
          },
          "execution_count": 10
        }
      ]
    },
    {
      "cell_type": "markdown",
      "metadata": {
        "id": "a2UB4q9mAbCx"
      },
      "source": [
        "# Construção do modelo"
      ]
    },
    {
      "cell_type": "code",
      "metadata": {
        "id": "f7aUMwB3m3__"
      },
      "source": [
        "from keras.models import Model\n",
        "from keras.layers import Input, Reshape, Dot\n",
        "from keras.layers import Add, Activation, Lambda, BatchNormalization, Flatten\n",
        "from keras.layers import Concatenate, Dense, Dropout\n",
        "from keras.layers.embeddings import Embedding\n",
        "from keras.optimizers import Adam, SGD\n",
        "from keras.regularizers import l2"
      ],
      "execution_count": 24,
      "outputs": []
    },
    {
      "cell_type": "code",
      "metadata": {
        "id": "14Ya86cCB1tt"
      },
      "source": [
        "n_factors = 25\n",
        "\n",
        "X_train_array = [x_train[:, 0], x_train[:, 1]]\n",
        "X_test_array = [x_test[:, 0], x_test[:, 1]]\n",
        "\n",
        "class EmbeddingLayer:\n",
        "    def __init__(self, n_items, n_factors):\n",
        "        self.n_items = n_items\n",
        "        self.n_factors = n_factors\n",
        "        \n",
        "    \n",
        "    def __call__(self, x):\n",
        "        x = Embedding(self.n_items, self.n_factors, embeddings_initializer='he_normal',\n",
        "                      embeddings_regularizer=l2(1e-6))(x)\n",
        "        x = Reshape((self.n_factors,))(x)\n",
        "        #x = Flatten()(x)\n",
        "        return x"
      ],
      "execution_count": 37,
      "outputs": []
    },
    {
      "cell_type": "code",
      "metadata": {
        "id": "VkQjnplOAzPG"
      },
      "source": [
        "def RecommenderNet(n_users, n_books, n_factors, min_rating, max_rating):\n",
        "    user = Input(shape=(1,))\n",
        "    u = EmbeddingLayer(n_users, n_factors)(user)\n",
        "    \n",
        "    book = Input(shape=(1,))\n",
        "    m = EmbeddingLayer(n_books, n_factors)(book)\n",
        "\n",
        "    #as outras caracteristicas dos datasets sao adicionadas como camadas de embedding\n",
        "    \n",
        "    x = Concatenate()([u, m])\n",
        "    x = Dropout(0.05)(x)\n",
        "\n",
        "    x = Dense(20, kernel_initializer='he_normal')(x)\n",
        "    x = BatchNormalization()(x)\n",
        "    x = Activation('relu')(x)\n",
        "    x = Dropout(0.2)(x)\n",
        "\n",
        "    x = Dense(10, kernel_initializer='he_normal')(x)\n",
        "    x = BatchNormalization()(x)\n",
        "    x = Activation('relu')(x)\n",
        "    x = Dropout(0.5)(x)\n",
        "    \n",
        "    x = Dense(1, kernel_initializer='he_normal')(x)\n",
        "    x = Activation('sigmoid')(x)\n",
        "    x = Lambda(lambda x: x * (max_rating - min_rating) + min_rating)(x)\n",
        "\n",
        "    model = Model(inputs=[user, book], outputs=x)\n",
        "    opt = Adam(lr=0.001)\n",
        "    #opt=SGD(lr=0.01, momentum=0.9)\n",
        "    model.compile(loss=tf.keras.losses.BinaryCrossentropy(), optimizer=opt, metrics=['mse','mae'])\n",
        "\n",
        "    return model"
      ],
      "execution_count": 38,
      "outputs": []
    },
    {
      "cell_type": "code",
      "metadata": {
        "id": "F3I57UQJuBFH",
        "colab": {
          "base_uri": "https://localhost:8080/"
        },
        "outputId": "2df0a534-b026-449c-a7dc-82ed9f5fd1e0"
      },
      "source": [
        "model = RecommenderNet(n_users, n_books, n_factors, min_rating, max_rating)\n",
        "model.summary()"
      ],
      "execution_count": 39,
      "outputs": [
        {
          "output_type": "stream",
          "text": [
            "Model: \"model_4\"\n",
            "__________________________________________________________________________________________________\n",
            "Layer (type)                    Output Shape         Param #     Connected to                     \n",
            "==================================================================================================\n",
            "input_9 (InputLayer)            [(None, 1)]          0                                            \n",
            "__________________________________________________________________________________________________\n",
            "input_10 (InputLayer)           [(None, 1)]          0                                            \n",
            "__________________________________________________________________________________________________\n",
            "embedding_8 (Embedding)         (None, 1, 25)        1945125     input_9[0][0]                    \n",
            "__________________________________________________________________________________________________\n",
            "embedding_9 (Embedding)         (None, 1, 25)        4649325     input_10[0][0]                   \n",
            "__________________________________________________________________________________________________\n",
            "reshape_8 (Reshape)             (None, 25)           0           embedding_8[0][0]                \n",
            "__________________________________________________________________________________________________\n",
            "reshape_9 (Reshape)             (None, 25)           0           embedding_9[0][0]                \n",
            "__________________________________________________________________________________________________\n",
            "concatenate_4 (Concatenate)     (None, 50)           0           reshape_8[0][0]                  \n",
            "                                                                 reshape_9[0][0]                  \n",
            "__________________________________________________________________________________________________\n",
            "dropout_12 (Dropout)            (None, 50)           0           concatenate_4[0][0]              \n",
            "__________________________________________________________________________________________________\n",
            "dense_12 (Dense)                (None, 20)           1020        dropout_12[0][0]                 \n",
            "__________________________________________________________________________________________________\n",
            "batch_normalization_4 (BatchNor (None, 20)           80          dense_12[0][0]                   \n",
            "__________________________________________________________________________________________________\n",
            "activation_12 (Activation)      (None, 20)           0           batch_normalization_4[0][0]      \n",
            "__________________________________________________________________________________________________\n",
            "dropout_13 (Dropout)            (None, 20)           0           activation_12[0][0]              \n",
            "__________________________________________________________________________________________________\n",
            "dense_13 (Dense)                (None, 10)           210         dropout_13[0][0]                 \n",
            "__________________________________________________________________________________________________\n",
            "batch_normalization_5 (BatchNor (None, 10)           40          dense_13[0][0]                   \n",
            "__________________________________________________________________________________________________\n",
            "activation_13 (Activation)      (None, 10)           0           batch_normalization_5[0][0]      \n",
            "__________________________________________________________________________________________________\n",
            "dropout_14 (Dropout)            (None, 10)           0           activation_13[0][0]              \n",
            "__________________________________________________________________________________________________\n",
            "dense_14 (Dense)                (None, 1)            11          dropout_14[0][0]                 \n",
            "__________________________________________________________________________________________________\n",
            "activation_14 (Activation)      (None, 1)            0           dense_14[0][0]                   \n",
            "__________________________________________________________________________________________________\n",
            "lambda_1 (Lambda)               (None, 1)            0           activation_14[0][0]              \n",
            "==================================================================================================\n",
            "Total params: 6,595,811\n",
            "Trainable params: 6,595,751\n",
            "Non-trainable params: 60\n",
            "__________________________________________________________________________________________________\n"
          ],
          "name": "stdout"
        }
      ]
    },
    {
      "cell_type": "code",
      "metadata": {
        "colab": {
          "base_uri": "https://localhost:8080/"
        },
        "id": "Bf50Fx7fuHid",
        "outputId": "558d0dd6-c7d3-40ce-d723-fab30ec959a2"
      },
      "source": [
        "history = model.fit(x=X_train_array, \n",
        "                    y=y_train, \n",
        "                    batch_size=128, \n",
        "                    epochs=20,\n",
        "                    verbose=1, \n",
        "                    validation_data=(X_test_array, y_test)\n",
        "                    )"
      ],
      "execution_count": 40,
      "outputs": [
        {
          "output_type": "stream",
          "text": [
            "Epoch 1/20\n",
            "3050/3050 [==============================] - 141s 46ms/step - loss: 2.2893 - mse: 1.1651 - mae: 0.7511 - val_loss: 0.7767 - val_mse: 0.1020 - val_mae: 0.2518\n",
            "Epoch 2/20\n",
            "3050/3050 [==============================] - 140s 46ms/step - loss: 1.0606 - mse: 0.2339 - mae: 0.3342 - val_loss: 0.6860 - val_mse: 0.0856 - val_mae: 0.2513\n",
            "Epoch 3/20\n",
            "3050/3050 [==============================] - 140s 46ms/step - loss: 0.8729 - mse: 0.1399 - mae: 0.2886 - val_loss: 0.6905 - val_mse: 0.0900 - val_mae: 0.2585\n",
            "Epoch 4/20\n",
            "3050/3050 [==============================] - 142s 47ms/step - loss: 0.8031 - mse: 0.1170 - mae: 0.2768 - val_loss: 0.6894 - val_mse: 0.0894 - val_mae: 0.2586\n",
            "Epoch 5/20\n",
            "3050/3050 [==============================] - 141s 46ms/step - loss: 0.7625 - mse: 0.1024 - mae: 0.2670 - val_loss: 0.6931 - val_mse: 0.0875 - val_mae: 0.2556\n",
            "Epoch 6/20\n",
            "3050/3050 [==============================] - 142s 47ms/step - loss: 0.7393 - mse: 0.0934 - mae: 0.2591 - val_loss: 0.6762 - val_mse: 0.0823 - val_mae: 0.2465\n",
            "Epoch 7/20\n",
            "3050/3050 [==============================] - 142s 46ms/step - loss: 0.7177 - mse: 0.0865 - mae: 0.2509 - val_loss: 0.6634 - val_mse: 0.0787 - val_mae: 0.2408\n",
            "Epoch 8/20\n",
            "3050/3050 [==============================] - 141s 46ms/step - loss: 0.7017 - mse: 0.0782 - mae: 0.2381 - val_loss: 0.6374 - val_mse: 0.0666 - val_mae: 0.2199\n",
            "Epoch 9/20\n",
            "3050/3050 [==============================] - 141s 46ms/step - loss: 0.6658 - mse: 0.0618 - mae: 0.2081 - val_loss: 0.5851 - val_mse: 0.0421 - val_mae: 0.1696\n",
            "Epoch 10/20\n",
            "3050/3050 [==============================] - 142s 47ms/step - loss: 0.6215 - mse: 0.0461 - mae: 0.1753 - val_loss: 0.5778 - val_mse: 0.0390 - val_mae: 0.1618\n",
            "Epoch 11/20\n",
            "3050/3050 [==============================] - 142s 47ms/step - loss: 0.6007 - mse: 0.0416 - mae: 0.1642 - val_loss: 0.5678 - val_mse: 0.0351 - val_mae: 0.1482\n",
            "Epoch 12/20\n",
            "3050/3050 [==============================] - 142s 46ms/step - loss: 0.5690 - mse: 0.0353 - mae: 0.1478 - val_loss: 0.5632 - val_mse: 0.0330 - val_mae: 0.1420\n",
            "Epoch 13/20\n",
            "3050/3050 [==============================] - 142s 47ms/step - loss: 0.5505 - mse: 0.0285 - mae: 0.1302 - val_loss: 0.5655 - val_mse: 0.0338 - val_mae: 0.1435\n",
            "Epoch 14/20\n",
            "3050/3050 [==============================] - 142s 47ms/step - loss: 0.5393 - mse: 0.0240 - mae: 0.1184 - val_loss: 0.5703 - val_mse: 0.0357 - val_mae: 0.1461\n",
            "Epoch 15/20\n",
            "3050/3050 [==============================] - 143s 47ms/step - loss: 0.5332 - mse: 0.0217 - mae: 0.1119 - val_loss: 0.5722 - val_mse: 0.0363 - val_mae: 0.1469\n",
            "Epoch 16/20\n",
            "3050/3050 [==============================] - 143s 47ms/step - loss: 0.5303 - mse: 0.0208 - mae: 0.1094 - val_loss: 0.5729 - val_mse: 0.0366 - val_mae: 0.1473\n",
            "Epoch 17/20\n",
            "3050/3050 [==============================] - 144s 47ms/step - loss: 0.5300 - mse: 0.0206 - mae: 0.1085 - val_loss: 0.5736 - val_mse: 0.0367 - val_mae: 0.1475\n",
            "Epoch 18/20\n",
            "3050/3050 [==============================] - 144s 47ms/step - loss: 0.5286 - mse: 0.0202 - mae: 0.1076 - val_loss: 0.5734 - val_mse: 0.0369 - val_mae: 0.1481\n",
            "Epoch 19/20\n",
            "3050/3050 [==============================] - 143s 47ms/step - loss: 0.5278 - mse: 0.0200 - mae: 0.1070 - val_loss: 0.5742 - val_mse: 0.0371 - val_mae: 0.1485\n",
            "Epoch 20/20\n",
            "3050/3050 [==============================] - 143s 47ms/step - loss: 0.5269 - mse: 0.0198 - mae: 0.1063 - val_loss: 0.5741 - val_mse: 0.0372 - val_mae: 0.1485\n"
          ],
          "name": "stdout"
        }
      ]
    },
    {
      "cell_type": "code",
      "metadata": {
        "id": "qCnNtYjiuKnx",
        "colab": {
          "base_uri": "https://localhost:8080/",
          "height": 265
        },
        "outputId": "578826d5-685c-427a-b87c-9dc34aa4b60e"
      },
      "source": [
        "# plot losses\n",
        "plt.plot(history.history['loss'], label=\"train loss\")\n",
        "plt.plot(history.history['val_loss'], label=\"test loss\")\n",
        "plt.legend()\n",
        "plt.show()"
      ],
      "execution_count": 41,
      "outputs": [
        {
          "output_type": "display_data",
          "data": {
            "image/png": "[encoded data removed]",
            "text/plain": [
              "<Figure size 432x288 with 1 Axes>"
            ]
          },
          "metadata": {
            "tags": [],
            "needs_background": "light"
          }
        }
      ]
    },
    {
      "cell_type": "code",
      "metadata": {
        "id": "YwlffFQFMw7K",
        "colab": {
          "base_uri": "https://localhost:8080/",
          "height": 265
        },
        "outputId": "f3c87450-0668-48f1-9f87-318d98de91f2"
      },
      "source": [
        "# plot mse\n",
        "plt.plot(history.history['mse'], label=\"train mse\")\n",
        "plt.plot(history.history['val_mse'], label=\"test mse\")\n",
        "plt.legend()\n",
        "plt.show()"
      ],
      "execution_count": 42,
      "outputs": [
        {
          "output_type": "display_data",
          "data": {
            "image/png": "[encoded data removed]",
            "text/plain": [
              "<Figure size 432x288 with 1 Axes>"
            ]
          },
          "metadata": {
            "tags": [],
            "needs_background": "light"
          }
        }
      ]
    },
    {
      "cell_type": "code",
      "metadata": {
        "colab": {
          "base_uri": "https://localhost:8080/",
          "height": 265
        },
        "id": "lfJ3k6qaHjJf",
        "outputId": "82dd6c8a-c770-4bb5-e5a1-a3df3616728f"
      },
      "source": [
        "# plot mae\n",
        "plt.plot(history.history['mae'], label=\"train mae\")\n",
        "plt.plot(history.history['val_mae'], label=\"test mae\")\n",
        "plt.legend()\n",
        "plt.show()"
      ],
      "execution_count": 43,
      "outputs": [
        {
          "output_type": "display_data",
          "data": {
            "image/png": "[encoded data removed]",
            "text/plain": [
              "<Figure size 432x288 with 1 Axes>"
            ]
          },
          "metadata": {
            "tags": [],
            "needs_background": "light"
          }
        }
      ]
    }
  ]
}