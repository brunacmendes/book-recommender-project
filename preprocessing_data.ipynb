{
 "cells": [
  {
   "cell_type": "markdown",
   "metadata": {
    "papermill": {
     "duration": 0.021915,
     "end_time": "2021-03-03T02:34:19.446672",
     "exception": false,
     "start_time": "2021-03-03T02:34:19.424757",
     "status": "completed"
    },
    "tags": []
   },
   "source": [
    "# Book-Crossing: Analyzing & Cleaning the dataset\n",
    "## About the data\n",
    "\n",
    "This dataset contains 278,858 users (anonymized but with demographic information) providing 1,149,780 ratings (explicit / implicit) about 271,379 books.\n",
    "\n",
    "> ### Dataset description:\n",
    "\n",
    "> **BX-Books.csv** has 8 columns which include information about books.\n",
    "We can uniquely identify each book with the help of ISBN(International Standard Book Number).\n",
    "The title, author,publisher and year of publication of each book have been listed.\n",
    "The last three columns include the URLs for different sizes of images.\n",
    "\n",
    "> **BX-Users.csv** lists the age and location of a user along with their User-ID.\n",
    "\n",
    "> **BX-Book-Ratings.csv** contains book ratings given by users. The User-ID and ISBN have also been provided."
   ]
  },
  {
   "cell_type": "code",
   "execution_count": 1,
   "metadata": {
    "_cell_guid": "b1076dfc-b9ad-4769-8c92-a6c4dae69d19",
    "_uuid": "8f2839f25d086af736a60e9eeb907d3b93b6e0e5",
    "execution": {
     "iopub.execute_input": "2021-03-03T02:34:19.496316Z",
     "iopub.status.busy": "2021-03-03T02:34:19.495492Z",
     "iopub.status.idle": "2021-03-03T02:34:20.385686Z",
     "shell.execute_reply": "2021-03-03T02:34:20.384572Z"
    },
    "papermill": {
     "duration": 0.918122,
     "end_time": "2021-03-03T02:34:20.385923",
     "exception": false,
     "start_time": "2021-03-03T02:34:19.467801",
     "status": "completed"
    },
    "tags": []
   },
   "outputs": [
    {
     "name": "stdout",
     "output_type": "stream",
     "text": [
      "/kaggle/input/bookcrossing-dataset/Books Data with Category Language and Summary/Preprocessed_data.csv\n",
      "/kaggle/input/bookcrossing-dataset/Book reviews/Book reviews/BX_Books.csv\n",
      "/kaggle/input/bookcrossing-dataset/Book reviews/Book reviews/BX-Book-Ratings.csv\n",
      "/kaggle/input/bookcrossing-dataset/Book reviews/Book reviews/BX-Users.csv\n"
     ]
    }
   ],
   "source": [
    "import numpy as np # linear algebra\n",
    "import pandas as pd # data processing, CSV file I/O (e.g. pd.read_csv)\n",
    "import seaborn as sns\n",
    "import matplotlib.pyplot as plt\n",
    "import requests\n",
    "from PIL import Image as im\n",
    "from IPython.core.display import Image\n",
    "\n",
    "\n",
    "import os\n",
    "for dirname, _, filenames in os.walk('/kaggle/input'):\n",
    "    for filename in filenames:\n",
    "        print(os.path.join(dirname, filename))\n"
   ]
  },
  {
   "cell_type": "markdown",
   "metadata": {
    "papermill": {
     "duration": 0.021678,
     "end_time": "2021-03-03T02:34:20.430634",
     "exception": false,
     "start_time": "2021-03-03T02:34:20.408956",
     "status": "completed"
    },
    "tags": []
   },
   "source": [
    "## Reading the data"
   ]
  },
  {
   "cell_type": "code",
   "execution_count": 2,
   "metadata": {
    "execution": {
     "iopub.execute_input": "2021-03-03T02:34:20.481395Z",
     "iopub.status.busy": "2021-03-03T02:34:20.480602Z",
     "iopub.status.idle": "2021-03-03T02:34:25.655952Z",
     "shell.execute_reply": "2021-03-03T02:34:25.655226Z"
    },
    "papermill": {
     "duration": 5.204163,
     "end_time": "2021-03-03T02:34:25.656109",
     "exception": false,
     "start_time": "2021-03-03T02:34:20.451946",
     "status": "completed"
    },
    "tags": []
   },
   "outputs": [],
   "source": [
    "#Users\n",
    "u_cols = ['user_id', 'location', 'age'] #cria novos nomes pra colunas\n",
    "users = pd.read_csv('/kaggle/input/bookcrossing-dataset/Book reviews/Book reviews/BX-Users.csv', sep=';', names=u_cols, encoding='latin-1',low_memory=False)\n",
    "\n",
    "#Books #cria novos nomes pra colunas\n",
    "i_cols = ['isbn', 'book_title' ,'book_author','year_of_publication', 'publisher', 'img_s', 'img_m', 'img_l']\n",
    "books = pd.read_csv('/kaggle/input/bookcrossing-dataset/Book reviews/Book reviews/BX_Books.csv', sep=';', names=i_cols, encoding='latin-1',low_memory=False)\n",
    "\n",
    "#Ratings #cria novos nomes pra colunas\n",
    "r_cols = ['user_id', 'isbn', 'rating']\n",
    "ratings = pd.read_csv('/kaggle/input/bookcrossing-dataset/Book reviews/Book reviews/BX-Book-Ratings.csv', sep=';', names=r_cols, encoding='latin-1',low_memory=False)"
   ]
  },
  {
   "cell_type": "code",
   "execution_count": 3,
   "metadata": {
    "execution": {
     "iopub.execute_input": "2021-03-03T02:34:25.713830Z",
     "iopub.status.busy": "2021-03-03T02:34:25.713088Z",
     "iopub.status.idle": "2021-03-03T02:34:25.732128Z",
     "shell.execute_reply": "2021-03-03T02:34:25.732610Z"
    },
    "papermill": {
     "duration": 0.054743,
     "end_time": "2021-03-03T02:34:25.732821",
     "exception": false,
     "start_time": "2021-03-03T02:34:25.678078",
     "status": "completed"
    },
    "tags": []
   },
   "outputs": [
    {
     "data": {
      "text/html": [
       "<div>\n",
       "<style scoped>\n",
       "    .dataframe tbody tr th:only-of-type {\n",
       "        vertical-align: middle;\n",
       "    }\n",
       "\n",
       "    .dataframe tbody tr th {\n",
       "        vertical-align: top;\n",
       "    }\n",
       "\n",
       "    .dataframe thead th {\n",
       "        text-align: right;\n",
       "    }\n",
       "</style>\n",
       "<table border=\"1\" class=\"dataframe\">\n",
       "  <thead>\n",
       "    <tr style=\"text-align: right;\">\n",
       "      <th></th>\n",
       "      <th>user_id</th>\n",
       "      <th>location</th>\n",
       "      <th>age</th>\n",
       "    </tr>\n",
       "  </thead>\n",
       "  <tbody>\n",
       "    <tr>\n",
       "      <th>0</th>\n",
       "      <td>User-ID</td>\n",
       "      <td>Location</td>\n",
       "      <td>Age</td>\n",
       "    </tr>\n",
       "    <tr>\n",
       "      <th>1</th>\n",
       "      <td>1</td>\n",
       "      <td>nyc, new york, usa</td>\n",
       "      <td>NaN</td>\n",
       "    </tr>\n",
       "    <tr>\n",
       "      <th>2</th>\n",
       "      <td>2</td>\n",
       "      <td>stockton, california, usa</td>\n",
       "      <td>18</td>\n",
       "    </tr>\n",
       "    <tr>\n",
       "      <th>3</th>\n",
       "      <td>3</td>\n",
       "      <td>moscow, yukon territory, russia</td>\n",
       "      <td>NaN</td>\n",
       "    </tr>\n",
       "    <tr>\n",
       "      <th>4</th>\n",
       "      <td>4</td>\n",
       "      <td>porto, v.n.gaia, portugal</td>\n",
       "      <td>17</td>\n",
       "    </tr>\n",
       "  </tbody>\n",
       "</table>\n",
       "</div>"
      ],
      "text/plain": [
       "   user_id                         location  age\n",
       "0  User-ID                         Location  Age\n",
       "1        1               nyc, new york, usa  NaN\n",
       "2        2        stockton, california, usa   18\n",
       "3        3  moscow, yukon territory, russia  NaN\n",
       "4        4        porto, v.n.gaia, portugal   17"
      ]
     },
     "execution_count": 3,
     "metadata": {},
     "output_type": "execute_result"
    }
   ],
   "source": [
    "users.head()"
   ]
  },
  {
   "cell_type": "code",
   "execution_count": 4,
   "metadata": {
    "execution": {
     "iopub.execute_input": "2021-03-03T02:34:25.796394Z",
     "iopub.status.busy": "2021-03-03T02:34:25.795680Z",
     "iopub.status.idle": "2021-03-03T02:34:25.803797Z",
     "shell.execute_reply": "2021-03-03T02:34:25.803032Z"
    },
    "papermill": {
     "duration": 0.047531,
     "end_time": "2021-03-03T02:34:25.803963",
     "exception": false,
     "start_time": "2021-03-03T02:34:25.756432",
     "status": "completed"
    },
    "tags": []
   },
   "outputs": [
    {
     "data": {
      "text/html": [
       "<div>\n",
       "<style scoped>\n",
       "    .dataframe tbody tr th:only-of-type {\n",
       "        vertical-align: middle;\n",
       "    }\n",
       "\n",
       "    .dataframe tbody tr th {\n",
       "        vertical-align: top;\n",
       "    }\n",
       "\n",
       "    .dataframe thead th {\n",
       "        text-align: right;\n",
       "    }\n",
       "</style>\n",
       "<table border=\"1\" class=\"dataframe\">\n",
       "  <thead>\n",
       "    <tr style=\"text-align: right;\">\n",
       "      <th></th>\n",
       "      <th>isbn</th>\n",
       "      <th>book_title</th>\n",
       "      <th>book_author</th>\n",
       "      <th>year_of_publication</th>\n",
       "      <th>publisher</th>\n",
       "      <th>img_s</th>\n",
       "      <th>img_m</th>\n",
       "      <th>img_l</th>\n",
       "    </tr>\n",
       "  </thead>\n",
       "  <tbody>\n",
       "    <tr>\n",
       "      <th>0</th>\n",
       "      <td>ISBN</td>\n",
       "      <td>Book-Title</td>\n",
       "      <td>Book-Author</td>\n",
       "      <td>Year-Of-Publication</td>\n",
       "      <td>Publisher</td>\n",
       "      <td>Image-URL-S</td>\n",
       "      <td>Image-URL-M</td>\n",
       "      <td>Image-URL-L</td>\n",
       "    </tr>\n",
       "    <tr>\n",
       "      <th>1</th>\n",
       "      <td>0195153448</td>\n",
       "      <td>Classical Mythology</td>\n",
       "      <td>Mark P. O. Morford</td>\n",
       "      <td>2002</td>\n",
       "      <td>Oxford University Press</td>\n",
       "      <td>http://images.amazon.com/images/P/0195153448.0...</td>\n",
       "      <td>http://images.amazon.com/images/P/0195153448.0...</td>\n",
       "      <td>http://images.amazon.com/images/P/0195153448.0...</td>\n",
       "    </tr>\n",
       "    <tr>\n",
       "      <th>2</th>\n",
       "      <td>0002005018</td>\n",
       "      <td>Clara Callan</td>\n",
       "      <td>Richard Bruce Wright</td>\n",
       "      <td>2001</td>\n",
       "      <td>HarperFlamingo Canada</td>\n",
       "      <td>http://images.amazon.com/images/P/0002005018.0...</td>\n",
       "      <td>http://images.amazon.com/images/P/0002005018.0...</td>\n",
       "      <td>http://images.amazon.com/images/P/0002005018.0...</td>\n",
       "    </tr>\n",
       "    <tr>\n",
       "      <th>3</th>\n",
       "      <td>0060973129</td>\n",
       "      <td>Decision in Normandy</td>\n",
       "      <td>Carlo D'Este</td>\n",
       "      <td>1991</td>\n",
       "      <td>HarperPerennial</td>\n",
       "      <td>http://images.amazon.com/images/P/0060973129.0...</td>\n",
       "      <td>http://images.amazon.com/images/P/0060973129.0...</td>\n",
       "      <td>http://images.amazon.com/images/P/0060973129.0...</td>\n",
       "    </tr>\n",
       "    <tr>\n",
       "      <th>4</th>\n",
       "      <td>0374157065</td>\n",
       "      <td>Flu: The Story of the Great Influenza Pandemic...</td>\n",
       "      <td>Gina Bari Kolata</td>\n",
       "      <td>1999</td>\n",
       "      <td>Farrar Straus Giroux</td>\n",
       "      <td>http://images.amazon.com/images/P/0374157065.0...</td>\n",
       "      <td>http://images.amazon.com/images/P/0374157065.0...</td>\n",
       "      <td>http://images.amazon.com/images/P/0374157065.0...</td>\n",
       "    </tr>\n",
       "  </tbody>\n",
       "</table>\n",
       "</div>"
      ],
      "text/plain": [
       "         isbn                                         book_title  \\\n",
       "0        ISBN                                         Book-Title   \n",
       "1  0195153448                                Classical Mythology   \n",
       "2  0002005018                                       Clara Callan   \n",
       "3  0060973129                               Decision in Normandy   \n",
       "4  0374157065  Flu: The Story of the Great Influenza Pandemic...   \n",
       "\n",
       "            book_author  year_of_publication                publisher  \\\n",
       "0           Book-Author  Year-Of-Publication                Publisher   \n",
       "1    Mark P. O. Morford                 2002  Oxford University Press   \n",
       "2  Richard Bruce Wright                 2001    HarperFlamingo Canada   \n",
       "3          Carlo D'Este                 1991          HarperPerennial   \n",
       "4      Gina Bari Kolata                 1999     Farrar Straus Giroux   \n",
       "\n",
       "                                               img_s  \\\n",
       "0                                        Image-URL-S   \n",
       "1  http://images.amazon.com/images/P/0195153448.0...   \n",
       "2  http://images.amazon.com/images/P/0002005018.0...   \n",
       "3  http://images.amazon.com/images/P/0060973129.0...   \n",
       "4  http://images.amazon.com/images/P/0374157065.0...   \n",
       "\n",
       "                                               img_m  \\\n",
       "0                                        Image-URL-M   \n",
       "1  http://images.amazon.com/images/P/0195153448.0...   \n",
       "2  http://images.amazon.com/images/P/0002005018.0...   \n",
       "3  http://images.amazon.com/images/P/0060973129.0...   \n",
       "4  http://images.amazon.com/images/P/0374157065.0...   \n",
       "\n",
       "                                               img_l  \n",
       "0                                        Image-URL-L  \n",
       "1  http://images.amazon.com/images/P/0195153448.0...  \n",
       "2  http://images.amazon.com/images/P/0002005018.0...  \n",
       "3  http://images.amazon.com/images/P/0060973129.0...  \n",
       "4  http://images.amazon.com/images/P/0374157065.0...  "
      ]
     },
     "execution_count": 4,
     "metadata": {},
     "output_type": "execute_result"
    }
   ],
   "source": [
    "books.head()"
   ]
  },
  {
   "cell_type": "code",
   "execution_count": 5,
   "metadata": {
    "execution": {
     "iopub.execute_input": "2021-03-03T02:34:25.862113Z",
     "iopub.status.busy": "2021-03-03T02:34:25.861150Z",
     "iopub.status.idle": "2021-03-03T02:34:25.866220Z",
     "shell.execute_reply": "2021-03-03T02:34:25.865714Z"
    },
    "papermill": {
     "duration": 0.038858,
     "end_time": "2021-03-03T02:34:25.866385",
     "exception": false,
     "start_time": "2021-03-03T02:34:25.827527",
     "status": "completed"
    },
    "tags": []
   },
   "outputs": [
    {
     "data": {
      "text/html": [
       "<div>\n",
       "<style scoped>\n",
       "    .dataframe tbody tr th:only-of-type {\n",
       "        vertical-align: middle;\n",
       "    }\n",
       "\n",
       "    .dataframe tbody tr th {\n",
       "        vertical-align: top;\n",
       "    }\n",
       "\n",
       "    .dataframe thead th {\n",
       "        text-align: right;\n",
       "    }\n",
       "</style>\n",
       "<table border=\"1\" class=\"dataframe\">\n",
       "  <thead>\n",
       "    <tr style=\"text-align: right;\">\n",
       "      <th></th>\n",
       "      <th>user_id</th>\n",
       "      <th>isbn</th>\n",
       "      <th>rating</th>\n",
       "    </tr>\n",
       "  </thead>\n",
       "  <tbody>\n",
       "    <tr>\n",
       "      <th>0</th>\n",
       "      <td>User-ID</td>\n",
       "      <td>ISBN</td>\n",
       "      <td>Book-Rating</td>\n",
       "    </tr>\n",
       "    <tr>\n",
       "      <th>1</th>\n",
       "      <td>276725</td>\n",
       "      <td>034545104X</td>\n",
       "      <td>0</td>\n",
       "    </tr>\n",
       "    <tr>\n",
       "      <th>2</th>\n",
       "      <td>276726</td>\n",
       "      <td>0155061224</td>\n",
       "      <td>5</td>\n",
       "    </tr>\n",
       "    <tr>\n",
       "      <th>3</th>\n",
       "      <td>276727</td>\n",
       "      <td>0446520802</td>\n",
       "      <td>0</td>\n",
       "    </tr>\n",
       "    <tr>\n",
       "      <th>4</th>\n",
       "      <td>276729</td>\n",
       "      <td>052165615X</td>\n",
       "      <td>3</td>\n",
       "    </tr>\n",
       "  </tbody>\n",
       "</table>\n",
       "</div>"
      ],
      "text/plain": [
       "   user_id        isbn       rating\n",
       "0  User-ID        ISBN  Book-Rating\n",
       "1   276725  034545104X            0\n",
       "2   276726  0155061224            5\n",
       "3   276727  0446520802            0\n",
       "4   276729  052165615X            3"
      ]
     },
     "execution_count": 5,
     "metadata": {},
     "output_type": "execute_result"
    }
   ],
   "source": [
    "ratings.head()"
   ]
  },
  {
   "cell_type": "code",
   "execution_count": 6,
   "metadata": {
    "execution": {
     "iopub.execute_input": "2021-03-03T02:34:25.919497Z",
     "iopub.status.busy": "2021-03-03T02:34:25.918407Z",
     "iopub.status.idle": "2021-03-03T02:34:26.083624Z",
     "shell.execute_reply": "2021-03-03T02:34:26.082879Z"
    },
    "papermill": {
     "duration": 0.194037,
     "end_time": "2021-03-03T02:34:26.083778",
     "exception": false,
     "start_time": "2021-03-03T02:34:25.889741",
     "status": "completed"
    },
    "tags": []
   },
   "outputs": [],
   "source": [
    "#elimina a linha 0 de todos os datasets (que sao os antigos nomes das colunas do dataset)\n",
    "users = users.drop(users.index[0])\n",
    "books = books.drop(books.index[0])\n",
    "ratings = ratings.drop(ratings.index[0])"
   ]
  },
  {
   "cell_type": "markdown",
   "metadata": {
    "papermill": {
     "duration": 0.023974,
     "end_time": "2021-03-03T02:34:26.132648",
     "exception": false,
     "start_time": "2021-03-03T02:34:26.108674",
     "status": "completed"
    },
    "tags": []
   },
   "source": [
    "## Changing variable types"
   ]
  },
  {
   "cell_type": "code",
   "execution_count": 7,
   "metadata": {
    "execution": {
     "iopub.execute_input": "2021-03-03T02:34:26.187126Z",
     "iopub.status.busy": "2021-03-03T02:34:26.186288Z",
     "iopub.status.idle": "2021-03-03T02:34:26.190795Z",
     "shell.execute_reply": "2021-03-03T02:34:26.190228Z"
    },
    "papermill": {
     "duration": 0.034895,
     "end_time": "2021-03-03T02:34:26.190935",
     "exception": false,
     "start_time": "2021-03-03T02:34:26.156040",
     "status": "completed"
    },
    "tags": []
   },
   "outputs": [
    {
     "data": {
      "text/plain": [
       "user_id    object\n",
       "isbn       object\n",
       "rating     object\n",
       "dtype: object"
      ]
     },
     "execution_count": 7,
     "metadata": {},
     "output_type": "execute_result"
    }
   ],
   "source": [
    "ratings.dtypes"
   ]
  },
  {
   "cell_type": "code",
   "execution_count": 8,
   "metadata": {
    "execution": {
     "iopub.execute_input": "2021-03-03T02:34:26.247103Z",
     "iopub.status.busy": "2021-03-03T02:34:26.246257Z",
     "iopub.status.idle": "2021-03-03T02:34:26.250884Z",
     "shell.execute_reply": "2021-03-03T02:34:26.250251Z"
    },
    "papermill": {
     "duration": 0.036436,
     "end_time": "2021-03-03T02:34:26.251033",
     "exception": false,
     "start_time": "2021-03-03T02:34:26.214597",
     "status": "completed"
    },
    "tags": []
   },
   "outputs": [
    {
     "data": {
      "text/plain": [
       "user_id     object\n",
       "location    object\n",
       "age         object\n",
       "dtype: object"
      ]
     },
     "execution_count": 8,
     "metadata": {},
     "output_type": "execute_result"
    }
   ],
   "source": [
    "users.dtypes"
   ]
  },
  {
   "cell_type": "code",
   "execution_count": 9,
   "metadata": {
    "execution": {
     "iopub.execute_input": "2021-03-03T02:34:26.307675Z",
     "iopub.status.busy": "2021-03-03T02:34:26.306656Z",
     "iopub.status.idle": "2021-03-03T02:34:26.311710Z",
     "shell.execute_reply": "2021-03-03T02:34:26.311169Z"
    },
    "papermill": {
     "duration": 0.03639,
     "end_time": "2021-03-03T02:34:26.311860",
     "exception": false,
     "start_time": "2021-03-03T02:34:26.275470",
     "status": "completed"
    },
    "tags": []
   },
   "outputs": [
    {
     "data": {
      "text/plain": [
       "isbn                   object\n",
       "book_title             object\n",
       "book_author            object\n",
       "year_of_publication    object\n",
       "publisher              object\n",
       "img_s                  object\n",
       "img_m                  object\n",
       "img_l                  object\n",
       "dtype: object"
      ]
     },
     "execution_count": 9,
     "metadata": {},
     "output_type": "execute_result"
    }
   ],
   "source": [
    "books.dtypes"
   ]
  },
  {
   "cell_type": "code",
   "execution_count": 10,
   "metadata": {
    "execution": {
     "iopub.execute_input": "2021-03-03T02:34:26.404465Z",
     "iopub.status.busy": "2021-03-03T02:34:26.403002Z",
     "iopub.status.idle": "2021-03-03T02:34:26.977688Z",
     "shell.execute_reply": "2021-03-03T02:34:26.976940Z"
    },
    "papermill": {
     "duration": 0.641195,
     "end_time": "2021-03-03T02:34:26.977837",
     "exception": false,
     "start_time": "2021-03-03T02:34:26.336642",
     "status": "completed"
    },
    "tags": []
   },
   "outputs": [],
   "source": [
    "#mudando os dtypes das variáveis de object para float e int\n",
    "users['age'] = users['age'].astype(float)\n",
    "users['user_id'] = users['user_id'].astype(int)\n",
    "ratings['user_id'] = ratings['user_id'].astype(int)\n",
    "ratings['rating'] = ratings['rating'].astype(int)\n",
    "books['year_of_publication'] = books['year_of_publication'].astype(int)"
   ]
  },
  {
   "cell_type": "markdown",
   "metadata": {
    "papermill": {
     "duration": 0.02458,
     "end_time": "2021-03-03T02:34:27.028914",
     "exception": false,
     "start_time": "2021-03-03T02:34:27.004334",
     "status": "completed"
    },
    "tags": []
   },
   "source": [
    "## Dealing with missing data\n",
    "\n",
    "### User dataset"
   ]
  },
  {
   "cell_type": "code",
   "execution_count": 11,
   "metadata": {
    "execution": {
     "iopub.execute_input": "2021-03-03T02:34:27.115372Z",
     "iopub.status.busy": "2021-03-03T02:34:27.114310Z",
     "iopub.status.idle": "2021-03-03T02:34:27.124013Z",
     "shell.execute_reply": "2021-03-03T02:34:27.123335Z"
    },
    "papermill": {
     "duration": 0.070286,
     "end_time": "2021-03-03T02:34:27.124159",
     "exception": false,
     "start_time": "2021-03-03T02:34:27.053873",
     "status": "completed"
    },
    "tags": []
   },
   "outputs": [
    {
     "data": {
      "text/plain": [
       "user_id          0\n",
       "location         0\n",
       "age         110762\n",
       "dtype: int64"
      ]
     },
     "execution_count": 11,
     "metadata": {},
     "output_type": "execute_result"
    }
   ],
   "source": [
    "#quantos valores nulos tem no dataset\n",
    "users.isnull().sum()"
   ]
  },
  {
   "cell_type": "code",
   "execution_count": 12,
   "metadata": {
    "execution": {
     "iopub.execute_input": "2021-03-03T02:34:27.182599Z",
     "iopub.status.busy": "2021-03-03T02:34:27.181603Z",
     "iopub.status.idle": "2021-03-03T02:34:27.202936Z",
     "shell.execute_reply": "2021-03-03T02:34:27.202293Z"
    },
    "papermill": {
     "duration": 0.053369,
     "end_time": "2021-03-03T02:34:27.203135",
     "exception": false,
     "start_time": "2021-03-03T02:34:27.149766",
     "status": "completed"
    },
    "tags": []
   },
   "outputs": [
    {
     "data": {
      "text/plain": [
       "count    168096.000000\n",
       "mean         34.751434\n",
       "std          14.428097\n",
       "min           0.000000\n",
       "25%          24.000000\n",
       "50%          32.000000\n",
       "75%          44.000000\n",
       "max         244.000000\n",
       "Name: age, dtype: float64"
      ]
     },
     "execution_count": 12,
     "metadata": {},
     "output_type": "execute_result"
    }
   ],
   "source": [
    "#descreve os valores estatitisticos para a variavel da idade\n",
    "users.age.describe()"
   ]
  },
  {
   "cell_type": "markdown",
   "metadata": {
    "papermill": {
     "duration": 0.025584,
     "end_time": "2021-03-03T02:34:27.254511",
     "exception": false,
     "start_time": "2021-03-03T02:34:27.228927",
     "status": "completed"
    },
    "tags": []
   },
   "source": [
    "De acordo com a função Describe(), a idade máxima no dataset é 244, e a mínima é 0. O que indica a presença de Outliers."
   ]
  },
  {
   "cell_type": "code",
   "execution_count": 13,
   "metadata": {
    "execution": {
     "iopub.execute_input": "2021-03-03T02:34:27.312113Z",
     "iopub.status.busy": "2021-03-03T02:34:27.311389Z",
     "iopub.status.idle": "2021-03-03T02:34:27.340762Z",
     "shell.execute_reply": "2021-03-03T02:34:27.341292Z"
    },
    "papermill": {
     "duration": 0.061125,
     "end_time": "2021-03-03T02:34:27.341493",
     "exception": false,
     "start_time": "2021-03-03T02:34:27.280368",
     "status": "completed"
    },
    "tags": []
   },
   "outputs": [],
   "source": [
    "#se idade > 99 e <5, transformar em valor nulo\n",
    "users.loc[(users.age>99) | (users.age<5),'age'] = np.nan\n",
    "#substituir todas as idades nulas pela média de idades no dataset\n",
    "users.age = users.age.fillna(users.age.mean())"
   ]
  },
  {
   "cell_type": "markdown",
   "metadata": {
    "papermill": {
     "duration": 0.025687,
     "end_time": "2021-03-03T02:34:27.393979",
     "exception": false,
     "start_time": "2021-03-03T02:34:27.368292",
     "status": "completed"
    },
    "tags": []
   },
   "source": [
    "### Ratings dataset"
   ]
  },
  {
   "cell_type": "code",
   "execution_count": 14,
   "metadata": {
    "execution": {
     "iopub.execute_input": "2021-03-03T02:34:27.588547Z",
     "iopub.status.busy": "2021-03-03T02:34:27.587523Z",
     "iopub.status.idle": "2021-03-03T02:34:27.600030Z",
     "shell.execute_reply": "2021-03-03T02:34:27.599366Z"
    },
    "papermill": {
     "duration": 0.180266,
     "end_time": "2021-03-03T02:34:27.600185",
     "exception": false,
     "start_time": "2021-03-03T02:34:27.419919",
     "status": "completed"
    },
    "tags": []
   },
   "outputs": [
    {
     "data": {
      "text/plain": [
       "user_id    0\n",
       "isbn       0\n",
       "rating     0\n",
       "dtype: int64"
      ]
     },
     "execution_count": 14,
     "metadata": {},
     "output_type": "execute_result"
    }
   ],
   "source": [
    "#quantos valores nulos tem no dataset\n",
    "ratings.isnull().sum()"
   ]
  },
  {
   "cell_type": "markdown",
   "metadata": {
    "papermill": {
     "duration": 0.026634,
     "end_time": "2021-03-03T02:34:27.653213",
     "exception": false,
     "start_time": "2021-03-03T02:34:27.626579",
     "status": "completed"
    },
    "tags": []
   },
   "source": [
    "### Book dataset"
   ]
  },
  {
   "cell_type": "code",
   "execution_count": 15,
   "metadata": {
    "execution": {
     "iopub.execute_input": "2021-03-03T02:34:27.907142Z",
     "iopub.status.busy": "2021-03-03T02:34:27.906185Z",
     "iopub.status.idle": "2021-03-03T02:34:27.917030Z",
     "shell.execute_reply": "2021-03-03T02:34:27.916411Z"
    },
    "papermill": {
     "duration": 0.237463,
     "end_time": "2021-03-03T02:34:27.917173",
     "exception": false,
     "start_time": "2021-03-03T02:34:27.679710",
     "status": "completed"
    },
    "tags": []
   },
   "outputs": [
    {
     "data": {
      "text/plain": [
       "isbn                   0\n",
       "book_title             0\n",
       "book_author            1\n",
       "year_of_publication    0\n",
       "publisher              2\n",
       "img_s                  0\n",
       "img_m                  0\n",
       "img_l                  0\n",
       "dtype: int64"
      ]
     },
     "execution_count": 15,
     "metadata": {},
     "output_type": "execute_result"
    }
   ],
   "source": [
    "#quantos valores nulos tem no dataset\n",
    "books.isnull().sum()"
   ]
  },
  {
   "cell_type": "code",
   "execution_count": 16,
   "metadata": {
    "execution": {
     "iopub.execute_input": "2021-03-03T02:34:28.005294Z",
     "iopub.status.busy": "2021-03-03T02:34:28.004163Z",
     "iopub.status.idle": "2021-03-03T02:34:28.020763Z",
     "shell.execute_reply": "2021-03-03T02:34:28.020041Z"
    },
    "papermill": {
     "duration": 0.076899,
     "end_time": "2021-03-03T02:34:28.020910",
     "exception": false,
     "start_time": "2021-03-03T02:34:27.944011",
     "status": "completed"
    },
    "tags": []
   },
   "outputs": [
    {
     "data": {
      "text/html": [
       "<div>\n",
       "<style scoped>\n",
       "    .dataframe tbody tr th:only-of-type {\n",
       "        vertical-align: middle;\n",
       "    }\n",
       "\n",
       "    .dataframe tbody tr th {\n",
       "        vertical-align: top;\n",
       "    }\n",
       "\n",
       "    .dataframe thead th {\n",
       "        text-align: right;\n",
       "    }\n",
       "</style>\n",
       "<table border=\"1\" class=\"dataframe\">\n",
       "  <thead>\n",
       "    <tr style=\"text-align: right;\">\n",
       "      <th></th>\n",
       "      <th>isbn</th>\n",
       "      <th>book_title</th>\n",
       "      <th>book_author</th>\n",
       "      <th>year_of_publication</th>\n",
       "      <th>publisher</th>\n",
       "      <th>img_s</th>\n",
       "      <th>img_m</th>\n",
       "      <th>img_l</th>\n",
       "    </tr>\n",
       "  </thead>\n",
       "  <tbody>\n",
       "    <tr>\n",
       "      <th>128897</th>\n",
       "      <td>193169656X</td>\n",
       "      <td>Tyrant Moon</td>\n",
       "      <td>Elaine Corvidae</td>\n",
       "      <td>2002</td>\n",
       "      <td>NaN</td>\n",
       "      <td>http://images.amazon.com/images/P/193169656X.0...</td>\n",
       "      <td>http://images.amazon.com/images/P/193169656X.0...</td>\n",
       "      <td>http://images.amazon.com/images/P/193169656X.0...</td>\n",
       "    </tr>\n",
       "    <tr>\n",
       "      <th>129044</th>\n",
       "      <td>1931696993</td>\n",
       "      <td>Finders Keepers</td>\n",
       "      <td>Linnea Sinclair</td>\n",
       "      <td>2001</td>\n",
       "      <td>NaN</td>\n",
       "      <td>http://images.amazon.com/images/P/1931696993.0...</td>\n",
       "      <td>http://images.amazon.com/images/P/1931696993.0...</td>\n",
       "      <td>http://images.amazon.com/images/P/1931696993.0...</td>\n",
       "    </tr>\n",
       "  </tbody>\n",
       "</table>\n",
       "</div>"
      ],
      "text/plain": [
       "              isbn       book_title      book_author  year_of_publication  \\\n",
       "128897  193169656X      Tyrant Moon  Elaine Corvidae                 2002   \n",
       "129044  1931696993  Finders Keepers  Linnea Sinclair                 2001   \n",
       "\n",
       "       publisher                                              img_s  \\\n",
       "128897       NaN  http://images.amazon.com/images/P/193169656X.0...   \n",
       "129044       NaN  http://images.amazon.com/images/P/1931696993.0...   \n",
       "\n",
       "                                                    img_m  \\\n",
       "128897  http://images.amazon.com/images/P/193169656X.0...   \n",
       "129044  http://images.amazon.com/images/P/1931696993.0...   \n",
       "\n",
       "                                                    img_l  \n",
       "128897  http://images.amazon.com/images/P/193169656X.0...  \n",
       "129044  http://images.amazon.com/images/P/1931696993.0...  "
      ]
     },
     "execution_count": 16,
     "metadata": {},
     "output_type": "execute_result"
    }
   ],
   "source": [
    "#mostrar quais livros tem o publisher faltando\n",
    "books.loc[books.publisher.isnull(),:]"
   ]
  },
  {
   "cell_type": "code",
   "execution_count": 17,
   "metadata": {
    "execution": {
     "iopub.execute_input": "2021-03-03T02:34:28.123376Z",
     "iopub.status.busy": "2021-03-03T02:34:28.122408Z",
     "iopub.status.idle": "2021-03-03T02:34:28.178778Z",
     "shell.execute_reply": "2021-03-03T02:34:28.177971Z"
    },
    "papermill": {
     "duration": 0.129967,
     "end_time": "2021-03-03T02:34:28.178936",
     "exception": false,
     "start_time": "2021-03-03T02:34:28.048969",
     "status": "completed"
    },
    "tags": []
   },
   "outputs": [],
   "source": [
    "#fornece a informação para os publishers que estão em falta \n",
    "books.loc[books.isbn=='193169656X','publisher']='Mundania Press LLC'\n",
    "books.loc[books.isbn=='1931696993','publisher']='Novelbooks Incorporated'"
   ]
  },
  {
   "cell_type": "code",
   "execution_count": 18,
   "metadata": {
    "execution": {
     "iopub.execute_input": "2021-03-03T02:34:28.281039Z",
     "iopub.status.busy": "2021-03-03T02:34:28.271941Z",
     "iopub.status.idle": "2021-03-03T02:34:28.287499Z",
     "shell.execute_reply": "2021-03-03T02:34:28.286823Z"
    },
    "papermill": {
     "duration": 0.079924,
     "end_time": "2021-03-03T02:34:28.287658",
     "exception": false,
     "start_time": "2021-03-03T02:34:28.207734",
     "status": "completed"
    },
    "tags": []
   },
   "outputs": [
    {
     "data": {
      "text/html": [
       "<div>\n",
       "<style scoped>\n",
       "    .dataframe tbody tr th:only-of-type {\n",
       "        vertical-align: middle;\n",
       "    }\n",
       "\n",
       "    .dataframe tbody tr th {\n",
       "        vertical-align: top;\n",
       "    }\n",
       "\n",
       "    .dataframe thead th {\n",
       "        text-align: right;\n",
       "    }\n",
       "</style>\n",
       "<table border=\"1\" class=\"dataframe\">\n",
       "  <thead>\n",
       "    <tr style=\"text-align: right;\">\n",
       "      <th></th>\n",
       "      <th>isbn</th>\n",
       "      <th>book_title</th>\n",
       "      <th>book_author</th>\n",
       "      <th>year_of_publication</th>\n",
       "      <th>publisher</th>\n",
       "      <th>img_s</th>\n",
       "      <th>img_m</th>\n",
       "      <th>img_l</th>\n",
       "    </tr>\n",
       "  </thead>\n",
       "  <tbody>\n",
       "    <tr>\n",
       "      <th>187701</th>\n",
       "      <td>9627982032</td>\n",
       "      <td>The Credit Suisse Guide to Managing Your Perso...</td>\n",
       "      <td>NaN</td>\n",
       "      <td>1995</td>\n",
       "      <td>Edinburgh Financial Publishing</td>\n",
       "      <td>http://images.amazon.com/images/P/9627982032.0...</td>\n",
       "      <td>http://images.amazon.com/images/P/9627982032.0...</td>\n",
       "      <td>http://images.amazon.com/images/P/9627982032.0...</td>\n",
       "    </tr>\n",
       "  </tbody>\n",
       "</table>\n",
       "</div>"
      ],
      "text/plain": [
       "              isbn                                         book_title  \\\n",
       "187701  9627982032  The Credit Suisse Guide to Managing Your Perso...   \n",
       "\n",
       "       book_author  year_of_publication                       publisher  \\\n",
       "187701         NaN                 1995  Edinburgh Financial Publishing   \n",
       "\n",
       "                                                    img_s  \\\n",
       "187701  http://images.amazon.com/images/P/9627982032.0...   \n",
       "\n",
       "                                                    img_m  \\\n",
       "187701  http://images.amazon.com/images/P/9627982032.0...   \n",
       "\n",
       "                                                    img_l  \n",
       "187701  http://images.amazon.com/images/P/9627982032.0...  "
      ]
     },
     "execution_count": 18,
     "metadata": {},
     "output_type": "execute_result"
    }
   ],
   "source": [
    "#mostrar qual livro tem o autor faltando\n",
    "books.loc[books.book_author.isnull(),:]"
   ]
  },
  {
   "cell_type": "code",
   "execution_count": 19,
   "metadata": {
    "execution": {
     "iopub.execute_input": "2021-03-03T02:34:28.392726Z",
     "iopub.status.busy": "2021-03-03T02:34:28.391590Z",
     "iopub.status.idle": "2021-03-03T02:34:28.406138Z",
     "shell.execute_reply": "2021-03-03T02:34:28.405528Z"
    },
    "papermill": {
     "duration": 0.090333,
     "end_time": "2021-03-03T02:34:28.406301",
     "exception": false,
     "start_time": "2021-03-03T02:34:28.315968",
     "status": "completed"
    },
    "tags": []
   },
   "outputs": [],
   "source": [
    "#fornece a informação do autor que está em falta \n",
    "books.loc[books.isbn=='9627982032','book_author']='Larissa Anne Downe'"
   ]
  },
  {
   "cell_type": "code",
   "execution_count": 20,
   "metadata": {
    "execution": {
     "iopub.execute_input": "2021-03-03T02:34:28.470523Z",
     "iopub.status.busy": "2021-03-03T02:34:28.469865Z",
     "iopub.status.idle": "2021-03-03T02:34:28.475702Z",
     "shell.execute_reply": "2021-03-03T02:34:28.476192Z"
    },
    "papermill": {
     "duration": 0.041519,
     "end_time": "2021-03-03T02:34:28.476383",
     "exception": false,
     "start_time": "2021-03-03T02:34:28.434864",
     "status": "completed"
    },
    "tags": []
   },
   "outputs": [
    {
     "name": "stdout",
     "output_type": "stream",
     "text": [
      "[0, 1376, 1378, 1806, 1897, 1900, 1901, 1902, 1904, 1906, 1908, 1909, 1910, 1911, 1914, 1917, 1919, 1920, 1921, 1922, 1923, 1924, 1925, 1926, 1927, 1928, 1929, 1930, 1931, 1932, 1933, 1934, 1935, 1936, 1937, 1938, 1939, 1940, 1941, 1942, 1943, 1944, 1945, 1946, 1947, 1948, 1949, 1950, 1951, 1952, 1953, 1954, 1955, 1956, 1957, 1958, 1959, 1960, 1961, 1962, 1963, 1964, 1965, 1966, 1967, 1968, 1969, 1970, 1971, 1972, 1973, 1974, 1975, 1976, 1977, 1978, 1979, 1980, 1981, 1982, 1983, 1984, 1985, 1986, 1987, 1988, 1989, 1990, 1991, 1992, 1993, 1994, 1995, 1996, 1997, 1998, 1999, 2000, 2001, 2002, 2003, 2004, 2005, 2006, 2008, 2010, 2011, 2012, 2020, 2021, 2024, 2026, 2030, 2037, 2038, 2050]\n"
     ]
    }
   ],
   "source": [
    "print(sorted(books['year_of_publication'].unique()))"
   ]
  },
  {
   "cell_type": "code",
   "execution_count": 21,
   "metadata": {
    "execution": {
     "iopub.execute_input": "2021-03-03T02:34:28.540390Z",
     "iopub.status.busy": "2021-03-03T02:34:28.539673Z",
     "iopub.status.idle": "2021-03-03T02:34:28.556801Z",
     "shell.execute_reply": "2021-03-03T02:34:28.556032Z"
    },
    "papermill": {
     "duration": 0.051743,
     "end_time": "2021-03-03T02:34:28.556963",
     "exception": false,
     "start_time": "2021-03-03T02:34:28.505220",
     "status": "completed"
    },
    "tags": []
   },
   "outputs": [
    {
     "data": {
      "text/plain": [
       "count    271379.000000\n",
       "mean       1959.756050\n",
       "std         258.011363\n",
       "min           0.000000\n",
       "25%        1989.000000\n",
       "50%        1995.000000\n",
       "75%        2000.000000\n",
       "max        2050.000000\n",
       "Name: year_of_publication, dtype: float64"
      ]
     },
     "execution_count": 21,
     "metadata": {},
     "output_type": "execute_result"
    }
   ],
   "source": [
    "#descreve os valores estatitisticos para a variavel do ano\n",
    "books.year_of_publication.describe()"
   ]
  },
  {
   "cell_type": "markdown",
   "metadata": {
    "papermill": {
     "duration": 0.02894,
     "end_time": "2021-03-03T02:34:28.615092",
     "exception": false,
     "start_time": "2021-03-03T02:34:28.586152",
     "status": "completed"
    },
    "tags": []
   },
   "source": [
    "OBS: É possível perceber que a informação sobre o ano de lançamento de alguns livros está errada, mas considerando que a informação do ano não é relevante para uma recomendação, eu não vou tratar esses valores."
   ]
  },
  {
   "cell_type": "markdown",
   "metadata": {
    "papermill": {
     "duration": 0.029243,
     "end_time": "2021-03-03T02:34:28.673794",
     "exception": false,
     "start_time": "2021-03-03T02:34:28.644551",
     "status": "completed"
    },
    "tags": []
   },
   "source": [
    "## Rating Distribution\n",
    "\n",
    "> 📌Note: This dataset contains both explicit ratings, on a 1–10 scale and implicit actions of unspecified nature.\n",
    "\n",
    "> 0 values indicate all interactions without rating values."
   ]
  },
  {
   "cell_type": "code",
   "execution_count": 22,
   "metadata": {
    "execution": {
     "iopub.execute_input": "2021-03-03T02:34:28.739151Z",
     "iopub.status.busy": "2021-03-03T02:34:28.738487Z",
     "iopub.status.idle": "2021-03-03T02:34:28.754810Z",
     "shell.execute_reply": "2021-03-03T02:34:28.754236Z"
    },
    "papermill": {
     "duration": 0.051836,
     "end_time": "2021-03-03T02:34:28.754965",
     "exception": false,
     "start_time": "2021-03-03T02:34:28.703129",
     "status": "completed"
    },
    "tags": []
   },
   "outputs": [
    {
     "data": {
      "text/plain": [
       "0     716109\n",
       "8     103736\n",
       "10     78610\n",
       "7      76457\n",
       "9      67541\n",
       "5      50974\n",
       "6      36924\n",
       "4       8904\n",
       "3       5996\n",
       "2       2759\n",
       "1       1770\n",
       "Name: rating, dtype: int64"
      ]
     },
     "execution_count": 22,
     "metadata": {},
     "output_type": "execute_result"
    }
   ],
   "source": [
    "ratings['rating'].value_counts()"
   ]
  },
  {
   "cell_type": "code",
   "execution_count": 23,
   "metadata": {
    "execution": {
     "iopub.execute_input": "2021-03-03T02:34:28.823943Z",
     "iopub.status.busy": "2021-03-03T02:34:28.822803Z",
     "iopub.status.idle": "2021-03-03T02:34:29.148554Z",
     "shell.execute_reply": "2021-03-03T02:34:29.147869Z"
    },
    "papermill": {
     "duration": 0.363908,
     "end_time": "2021-03-03T02:34:29.148702",
     "exception": false,
     "start_time": "2021-03-03T02:34:28.784794",
     "status": "completed"
    },
    "tags": []
   },
   "outputs": [
    {
     "data": {
      "image/png": "[encoded data removed]",
      "text/plain": [
       "<Figure size 720x576 with 1 Axes>"
      ]
     },
     "metadata": {
      "needs_background": "light"
     },
     "output_type": "display_data"
    }
   ],
   "source": [
    "plt.figure(figsize=(10,8))\n",
    "sns.countplot(x='rating',data=ratings)\n",
    "plt.title('Rating Distribution',size=20)\n",
    "plt.show()"
   ]
  },
  {
   "cell_type": "code",
   "execution_count": 24,
   "metadata": {
    "execution": {
     "iopub.execute_input": "2021-03-03T02:34:29.224081Z",
     "iopub.status.busy": "2021-03-03T02:34:29.223364Z",
     "iopub.status.idle": "2021-03-03T02:34:29.244850Z",
     "shell.execute_reply": "2021-03-03T02:34:29.244130Z"
    },
    "papermill": {
     "duration": 0.065236,
     "end_time": "2021-03-03T02:34:29.245009",
     "exception": false,
     "start_time": "2021-03-03T02:34:29.179773",
     "status": "completed"
    },
    "tags": []
   },
   "outputs": [],
   "source": [
    "#muda o index\n",
    "users.set_index('user_id', inplace=True)\n",
    "books.set_index('isbn',inplace=True)\n",
    "ratings.set_index('user_id', inplace=True)"
   ]
  },
  {
   "cell_type": "code",
   "execution_count": 25,
   "metadata": {
    "execution": {
     "iopub.execute_input": "2021-03-03T02:34:29.313013Z",
     "iopub.status.busy": "2021-03-03T02:34:29.312358Z",
     "iopub.status.idle": "2021-03-03T02:34:29.315500Z",
     "shell.execute_reply": "2021-03-03T02:34:29.316061Z"
    },
    "papermill": {
     "duration": 0.038774,
     "end_time": "2021-03-03T02:34:29.316230",
     "exception": false,
     "start_time": "2021-03-03T02:34:29.277456",
     "status": "completed"
    },
    "tags": []
   },
   "outputs": [],
   "source": [
    "import os\n",
    "os.chdir(r'/kaggle/working')"
   ]
  },
  {
   "cell_type": "code",
   "execution_count": 26,
   "metadata": {
    "execution": {
     "iopub.execute_input": "2021-03-03T02:34:29.384398Z",
     "iopub.status.busy": "2021-03-03T02:34:29.383646Z",
     "iopub.status.idle": "2021-03-03T02:34:37.621298Z",
     "shell.execute_reply": "2021-03-03T02:34:37.620414Z"
    },
    "papermill": {
     "duration": 8.273841,
     "end_time": "2021-03-03T02:34:37.621568",
     "exception": false,
     "start_time": "2021-03-03T02:34:29.347727",
     "status": "completed"
    },
    "tags": []
   },
   "outputs": [],
   "source": [
    "books.to_csv(r'books.csv')\n",
    "users.to_csv(r'users.csv')\n",
    "ratings.to_csv(r'ratings.csv')"
   ]
  },
  {
   "cell_type": "code",
   "execution_count": 27,
   "metadata": {
    "execution": {
     "iopub.execute_input": "2021-03-03T02:34:37.691186Z",
     "iopub.status.busy": "2021-03-03T02:34:37.690246Z",
     "iopub.status.idle": "2021-03-03T02:34:37.694822Z",
     "shell.execute_reply": "2021-03-03T02:34:37.694135Z"
    },
    "papermill": {
     "duration": 0.041373,
     "end_time": "2021-03-03T02:34:37.694966",
     "exception": false,
     "start_time": "2021-03-03T02:34:37.653593",
     "status": "completed"
    },
    "tags": []
   },
   "outputs": [
    {
     "data": {
      "text/html": [
       "<a href='books.csv' target='_blank'>books.csv</a><br>"
      ],
      "text/plain": [
       "/kaggle/working/books.csv"
      ]
     },
     "execution_count": 27,
     "metadata": {},
     "output_type": "execute_result"
    }
   ],
   "source": [
    "from IPython.display import FileLink\n",
    "\n",
    "FileLink(r'books.csv')"
   ]
  },
  {
   "cell_type": "code",
   "execution_count": 28,
   "metadata": {
    "execution": {
     "iopub.execute_input": "2021-03-03T02:34:37.766158Z",
     "iopub.status.busy": "2021-03-03T02:34:37.765235Z",
     "iopub.status.idle": "2021-03-03T02:34:37.770256Z",
     "shell.execute_reply": "2021-03-03T02:34:37.769710Z"
    },
    "papermill": {
     "duration": 0.042482,
     "end_time": "2021-03-03T02:34:37.770438",
     "exception": false,
     "start_time": "2021-03-03T02:34:37.727956",
     "status": "completed"
    },
    "tags": []
   },
   "outputs": [
    {
     "data": {
      "text/html": [
       "<a href='users.csv' target='_blank'>users.csv</a><br>"
      ],
      "text/plain": [
       "/kaggle/working/users.csv"
      ]
     },
     "execution_count": 28,
     "metadata": {},
     "output_type": "execute_result"
    }
   ],
   "source": [
    "FileLink(r'users.csv')"
   ]
  },
  {
   "cell_type": "code",
   "execution_count": 29,
   "metadata": {
    "execution": {
     "iopub.execute_input": "2021-03-03T02:34:37.840932Z",
     "iopub.status.busy": "2021-03-03T02:34:37.840177Z",
     "iopub.status.idle": "2021-03-03T02:34:37.845689Z",
     "shell.execute_reply": "2021-03-03T02:34:37.844991Z"
    },
    "papermill": {
     "duration": 0.042433,
     "end_time": "2021-03-03T02:34:37.845839",
     "exception": false,
     "start_time": "2021-03-03T02:34:37.803406",
     "status": "completed"
    },
    "tags": []
   },
   "outputs": [
    {
     "data": {
      "text/html": [
       "<a href='ratings.csv' target='_blank'>ratings.csv</a><br>"
      ],
      "text/plain": [
       "/kaggle/working/ratings.csv"
      ]
     },
     "execution_count": 29,
     "metadata": {},
     "output_type": "execute_result"
    }
   ],
   "source": [
    "FileLink(r'ratings.csv')"
   ]
  }
 ],
 "metadata": {
  "kernelspec": {
   "display_name": "Python 3",
   "language": "python",
   "name": "python3"
  },
  "language_info": {
   "codemirror_mode": {
    "name": "ipython",
    "version": 3
   },
   "file_extension": ".py",
   "mimetype": "text/x-python",
   "name": "python",
   "nbconvert_exporter": "python",
   "pygments_lexer": "ipython3",
   "version": "3.7.9"
  },
  "papermill": {
   "default_parameters": {},
   "duration": 25.440083,
   "end_time": "2021-03-03T02:34:38.689831",
   "environment_variables": {},
   "exception": null,
   "input_path": "__notebook__.ipynb",
   "output_path": "__notebook__.ipynb",
   "parameters": {},
   "start_time": "2021-03-03T02:34:13.249748",
   "version": "2.2.2"
  }
 },
 "nbformat": 4,
 "nbformat_minor": 4
}
