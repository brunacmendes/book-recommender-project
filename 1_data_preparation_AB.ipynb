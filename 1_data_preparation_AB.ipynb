{
  "nbformat": 4,
  "nbformat_minor": 0,
  "metadata": {
    "colab": {
      "name": "1.data_preparation_AB.ipynb",
      "provenance": [],
      "collapsed_sections": [],
      "toc_visible": true,
      "authorship_tag": "ABX9TyOQlBg/J193V0J39uVliBib",
      "include_colab_link": true
    },
    "kernelspec": {
      "name": "python3",
      "display_name": "Python 3"
    },
    "language_info": {
      "name": "python"
    }
  },
  "cells": [
    {
      "cell_type": "markdown",
      "metadata": {
        "id": "view-in-github",
        "colab_type": "text"
      },
      "source": [
        "<a href=\"https://colab.research.google.com/github/brunacmendes/book-recommender-project/blob/main/1_data_preparation_AB.ipynb\" target=\"_parent\"><img src=\"https://colab.research.google.com/assets/colab-badge.svg\" alt=\"Open In Colab\"/></a>"
      ]
    },
    {
      "cell_type": "markdown",
      "metadata": {
        "id": "-LHi6nnTwjfB"
      },
      "source": [
        "# Amazon Book Reviews: Analyzing & Cleaning the dataset\n",
        "\n",
        "## About the data\n",
        "\n",
        "These dataset includes only (item, user, rating, timestamp) tuples.\n",
        "\n",
        "Ratings are expressed on a scale from 0-5 (higher values denoting higher appreciation)\n",
        "\n",
        "\n",
        "## Reading the data"
      ]
    },
    {
      "cell_type": "code",
      "metadata": {
        "id": "o_NhpG_hwH5Z"
      },
      "source": [
        "import numpy as np # linear algebra\n",
        "import pandas as pd # data processing, CSV file I/O (e.g. pd.read_csv)\n",
        "\n",
        "datapath = 'http://deepyeti.ucsd.edu/jianmo/amazon/categoryFilesSmall/Books.csv'\n",
        "r_cols = ['book_id', 'user_id', 'rating','timestamp']\n",
        "ratings = pd.read_csv(datapath, names=r_cols)"
      ],
      "execution_count": 1,
      "outputs": []
    },
    {
      "cell_type": "code",
      "metadata": {
        "colab": {
          "base_uri": "https://localhost:8080/",
          "height": 204
        },
        "id": "Yi1q9kWT50yO",
        "outputId": "913f332c-b479-4152-c4eb-090b64e1d40e"
      },
      "source": [
        "ratings.head()"
      ],
      "execution_count": 2,
      "outputs": [
        {
          "output_type": "execute_result",
          "data": {
            "text/html": [
              "<div>\n",
              "<style scoped>\n",
              "    .dataframe tbody tr th:only-of-type {\n",
              "        vertical-align: middle;\n",
              "    }\n",
              "\n",
              "    .dataframe tbody tr th {\n",
              "        vertical-align: top;\n",
              "    }\n",
              "\n",
              "    .dataframe thead th {\n",
              "        text-align: right;\n",
              "    }\n",
              "</style>\n",
              "<table border=\"1\" class=\"dataframe\">\n",
              "  <thead>\n",
              "    <tr style=\"text-align: right;\">\n",
              "      <th></th>\n",
              "      <th>book_id</th>\n",
              "      <th>user_id</th>\n",
              "      <th>rating</th>\n",
              "      <th>timestamp</th>\n",
              "    </tr>\n",
              "  </thead>\n",
              "  <tbody>\n",
              "    <tr>\n",
              "      <th>0</th>\n",
              "      <td>0001713353</td>\n",
              "      <td>A1C6M8LCIX4M6M</td>\n",
              "      <td>5.0</td>\n",
              "      <td>1123804800</td>\n",
              "    </tr>\n",
              "    <tr>\n",
              "      <th>1</th>\n",
              "      <td>0001713353</td>\n",
              "      <td>A1REUF3A1YCPHM</td>\n",
              "      <td>5.0</td>\n",
              "      <td>1112140800</td>\n",
              "    </tr>\n",
              "    <tr>\n",
              "      <th>2</th>\n",
              "      <td>0001713353</td>\n",
              "      <td>A1YRBRK2XM5D5</td>\n",
              "      <td>5.0</td>\n",
              "      <td>1081036800</td>\n",
              "    </tr>\n",
              "    <tr>\n",
              "      <th>3</th>\n",
              "      <td>0001713353</td>\n",
              "      <td>A1V8ZR5P78P4ZU</td>\n",
              "      <td>5.0</td>\n",
              "      <td>1077321600</td>\n",
              "    </tr>\n",
              "    <tr>\n",
              "      <th>4</th>\n",
              "      <td>0001713353</td>\n",
              "      <td>A2ZB06582NXCIV</td>\n",
              "      <td>5.0</td>\n",
              "      <td>1475452800</td>\n",
              "    </tr>\n",
              "  </tbody>\n",
              "</table>\n",
              "</div>"
            ],
            "text/plain": [
              "      book_id         user_id  rating   timestamp\n",
              "0  0001713353  A1C6M8LCIX4M6M     5.0  1123804800\n",
              "1  0001713353  A1REUF3A1YCPHM     5.0  1112140800\n",
              "2  0001713353   A1YRBRK2XM5D5     5.0  1081036800\n",
              "3  0001713353  A1V8ZR5P78P4ZU     5.0  1077321600\n",
              "4  0001713353  A2ZB06582NXCIV     5.0  1475452800"
            ]
          },
          "metadata": {
            "tags": []
          },
          "execution_count": 2
        }
      ]
    },
    {
      "cell_type": "code",
      "metadata": {
        "colab": {
          "base_uri": "https://localhost:8080/"
        },
        "id": "c-chTW1B8m_Y",
        "outputId": "86b82f60-3b6e-4a35-acd9-c757a749f9f4"
      },
      "source": [
        "ratings.dtypes"
      ],
      "execution_count": 3,
      "outputs": [
        {
          "output_type": "execute_result",
          "data": {
            "text/plain": [
              "book_id       object\n",
              "user_id       object\n",
              "rating       float64\n",
              "timestamp      int64\n",
              "dtype: object"
            ]
          },
          "metadata": {
            "tags": []
          },
          "execution_count": 3
        }
      ]
    },
    {
      "cell_type": "code",
      "metadata": {
        "colab": {
          "base_uri": "https://localhost:8080/"
        },
        "id": "Gn0mLSrt9d3f",
        "outputId": "116548b3-c773-4d1a-c0c5-ed895eb9c50a"
      },
      "source": [
        "#tamanho do dataset\n",
        "ratings.shape"
      ],
      "execution_count": 4,
      "outputs": [
        {
          "output_type": "execute_result",
          "data": {
            "text/plain": [
              "(51311621, 4)"
            ]
          },
          "metadata": {
            "tags": []
          },
          "execution_count": 4
        }
      ]
    },
    {
      "cell_type": "markdown",
      "metadata": {
        "id": "VKOflIqgDNcB"
      },
      "source": [
        "## Pre-processing"
      ]
    },
    {
      "cell_type": "code",
      "metadata": {
        "colab": {
          "base_uri": "https://localhost:8080/"
        },
        "id": "kdzMKt7K81HY",
        "outputId": "4bd8c93f-93e2-4a6b-a684-646e50976b58"
      },
      "source": [
        "#quantos valores nulos tem no dataset\n",
        "ratings.isnull().sum()"
      ],
      "execution_count": 5,
      "outputs": [
        {
          "output_type": "execute_result",
          "data": {
            "text/plain": [
              "book_id      0\n",
              "user_id      0\n",
              "rating       0\n",
              "timestamp    0\n",
              "dtype: int64"
            ]
          },
          "metadata": {
            "tags": []
          },
          "execution_count": 5
        }
      ]
    },
    {
      "cell_type": "code",
      "metadata": {
        "colab": {
          "base_uri": "https://localhost:8080/"
        },
        "id": "J3dlesF-9PO_",
        "outputId": "fe3f53b1-664f-4f88-a2e1-3dbb34500691"
      },
      "source": [
        "#rating distribution\n",
        "ratings['rating'].value_counts()"
      ],
      "execution_count": 6,
      "outputs": [
        {
          "output_type": "execute_result",
          "data": {
            "text/plain": [
              "5.0    33979736\n",
              "4.0     9557650\n",
              "3.0     3835225\n",
              "1.0     2088314\n",
              "2.0     1850688\n",
              "0.0           8\n",
              "Name: rating, dtype: int64"
            ]
          },
          "metadata": {
            "tags": []
          },
          "execution_count": 6
        }
      ]
    },
    {
      "cell_type": "code",
      "metadata": {
        "id": "kbE0Cj0B-MFK"
      },
      "source": [
        "#elimina as ratings de nota 0\n",
        "ratings=ratings.loc[ratings['rating']>0]"
      ],
      "execution_count": 10,
      "outputs": []
    },
    {
      "cell_type": "code",
      "metadata": {
        "colab": {
          "base_uri": "https://localhost:8080/",
          "height": 518
        },
        "id": "PUglhCHW9aU2",
        "outputId": "2b6d4a98-99d2-48a4-c294-f0e1c287d13a"
      },
      "source": [
        "import matplotlib.pyplot as plt\n",
        "import seaborn as sns\n",
        "plt.figure(figsize=(10,8))\n",
        "sns.countplot(x='rating',data=ratings)\n",
        "plt.title('Rating Distribution',size=20)\n",
        "plt.show()"
      ],
      "execution_count": 11,
      "outputs": [
        {
          "output_type": "display_data",
          "data": {
            "image/png": "[encoded data removed]",
            "text/plain": [
              "<Figure size 720x576 with 1 Axes>"
            ]
          },
          "metadata": {
            "tags": [],
            "needs_background": "light"
          }
        }
      ]
    },
    {
      "cell_type": "code",
      "metadata": {
        "id": "MgOP-hwH-jH3"
      },
      "source": [
        "#descarta coluna timestamp\n",
        "\n",
        "ratings.drop(['timestamp'],axis=1,inplace=True)"
      ],
      "execution_count": 12,
      "outputs": []
    },
    {
      "cell_type": "code",
      "metadata": {
        "id": "p_9Vzbsi-vTZ"
      },
      "source": [
        "#salva dataset\n",
        "\n",
        "ratings.to_csv(r'amazon_ratings.csv',index=False,sep=',')"
      ],
      "execution_count": 13,
      "outputs": []
    }
  ]
}