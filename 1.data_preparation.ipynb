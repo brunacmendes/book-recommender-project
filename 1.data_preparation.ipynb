{
 "cells": [
  {
   "cell_type": "markdown",
   "metadata": {
    "papermill": {
     "duration": 0.024322,
     "end_time": "2021-03-16T12:13:35.724632",
     "exception": false,
     "start_time": "2021-03-16T12:13:35.700310",
     "status": "completed"
    },
    "tags": []
   },
   "source": [
    "# Book-Crossing: Analyzing & Cleaning the dataset\n",
    "## About the data\n",
    "\n",
    "This dataset contains 278,858 users (anonymized but with demographic information) providing 1,149,780 ratings (explicit / implicit) about 271,379 books.\n",
    "\n",
    "> ### Dataset description:\n",
    "\n",
    "> **BX-Books.csv** has 8 columns which include information about books.\n",
    "We can uniquely identify each book with the help of ISBN(International Standard Book Number).\n",
    "The title, author,publisher and year of publication of each book have been listed.\n",
    "The last three columns include the URLs for different sizes of images.\n",
    "\n",
    "> **BX-Users.csv** lists the age and location of a user along with their User-ID.\n",
    "\n",
    "> **BX-Book-Ratings.csv** contains book ratings given by users. The User-ID and ISBN have also been provided."
   ]
  },
  {
   "cell_type": "code",
   "execution_count": 1,
   "metadata": {
    "_cell_guid": "b1076dfc-b9ad-4769-8c92-a6c4dae69d19",
    "_uuid": "8f2839f25d086af736a60e9eeb907d3b93b6e0e5",
    "execution": {
     "iopub.execute_input": "2021-03-16T12:13:35.778280Z",
     "iopub.status.busy": "2021-03-16T12:13:35.777564Z",
     "iopub.status.idle": "2021-03-16T12:13:36.786290Z",
     "shell.execute_reply": "2021-03-16T12:13:36.786947Z"
    },
    "papermill": {
     "duration": 1.039453,
     "end_time": "2021-03-16T12:13:36.787317",
     "exception": false,
     "start_time": "2021-03-16T12:13:35.747864",
     "status": "completed"
    },
    "tags": []
   },
   "outputs": [
    {
     "name": "stdout",
     "output_type": "stream",
     "text": [
      "/kaggle/input/bookcrossing-dataset/Books Data with Category Language and Summary/Preprocessed_data.csv\n",
      "/kaggle/input/bookcrossing-dataset/Book reviews/Book reviews/BX_Books.csv\n",
      "/kaggle/input/bookcrossing-dataset/Book reviews/Book reviews/BX-Book-Ratings.csv\n",
      "/kaggle/input/bookcrossing-dataset/Book reviews/Book reviews/BX-Users.csv\n"
     ]
    }
   ],
   "source": [
    "import numpy as np # linear algebra\n",
    "import pandas as pd # data processing, CSV file I/O (e.g. pd.read_csv)\n",
    "import seaborn as sns\n",
    "import matplotlib.pyplot as plt\n",
    "import requests\n",
    "from PIL import Image as im\n",
    "from IPython.core.display import Image\n",
    "\n",
    "\n",
    "import os\n",
    "for dirname, _, filenames in os.walk('/kaggle/input'):\n",
    "    for filename in filenames:\n",
    "        print(os.path.join(dirname, filename))\n"
   ]
  },
  {
   "cell_type": "markdown",
   "metadata": {
    "papermill": {
     "duration": 0.023248,
     "end_time": "2021-03-16T12:13:36.835490",
     "exception": false,
     "start_time": "2021-03-16T12:13:36.812242",
     "status": "completed"
    },
    "tags": []
   },
   "source": [
    "## Reading the data"
   ]
  },
  {
   "cell_type": "code",
   "execution_count": 2,
   "metadata": {
    "execution": {
     "iopub.execute_input": "2021-03-16T12:13:36.891525Z",
     "iopub.status.busy": "2021-03-16T12:13:36.890823Z",
     "iopub.status.idle": "2021-03-16T12:13:41.312113Z",
     "shell.execute_reply": "2021-03-16T12:13:41.311254Z"
    },
    "papermill": {
     "duration": 4.453118,
     "end_time": "2021-03-16T12:13:41.312286",
     "exception": false,
     "start_time": "2021-03-16T12:13:36.859168",
     "status": "completed"
    },
    "tags": []
   },
   "outputs": [],
   "source": [
    "#Users\n",
    "u_cols = ['user_id', 'location', 'age'] #cria novos nomes pra colunas\n",
    "users = pd.read_csv('/kaggle/input/bookcrossing-dataset/Book reviews/Book reviews/BX-Users.csv', sep=';', names=u_cols, encoding='latin-1',low_memory=False)\n",
    "\n",
    "#Books #cria novos nomes pra colunas\n",
    "i_cols = ['isbn', 'book_title' ,'book_author','year_of_publication', 'publisher', 'img_s', 'img_m', 'img_l']\n",
    "books = pd.read_csv('/kaggle/input/bookcrossing-dataset/Book reviews/Book reviews/BX_Books.csv', sep=';', names=i_cols, encoding='latin-1',low_memory=False)\n",
    "\n",
    "#Ratings #cria novos nomes pra colunas\n",
    "r_cols = ['user_id', 'isbn', 'rating']\n",
    "ratings = pd.read_csv('/kaggle/input/bookcrossing-dataset/Book reviews/Book reviews/BX-Book-Ratings.csv', sep=';', names=r_cols, encoding='latin-1',low_memory=False)"
   ]
  },
  {
   "cell_type": "code",
   "execution_count": 3,
   "metadata": {
    "execution": {
     "iopub.execute_input": "2021-03-16T12:13:41.373922Z",
     "iopub.status.busy": "2021-03-16T12:13:41.373290Z",
     "iopub.status.idle": "2021-03-16T12:13:41.392480Z",
     "shell.execute_reply": "2021-03-16T12:13:41.392998Z"
    },
    "papermill": {
     "duration": 0.055636,
     "end_time": "2021-03-16T12:13:41.393190",
     "exception": false,
     "start_time": "2021-03-16T12:13:41.337554",
     "status": "completed"
    },
    "tags": []
   },
   "outputs": [
    {
     "data": {
      "text/html": [
       "<div>\n",
       "<style scoped>\n",
       "    .dataframe tbody tr th:only-of-type {\n",
       "        vertical-align: middle;\n",
       "    }\n",
       "\n",
       "    .dataframe tbody tr th {\n",
       "        vertical-align: top;\n",
       "    }\n",
       "\n",
       "    .dataframe thead th {\n",
       "        text-align: right;\n",
       "    }\n",
       "</style>\n",
       "<table border=\"1\" class=\"dataframe\">\n",
       "  <thead>\n",
       "    <tr style=\"text-align: right;\">\n",
       "      <th></th>\n",
       "      <th>user_id</th>\n",
       "      <th>location</th>\n",
       "      <th>age</th>\n",
       "    </tr>\n",
       "  </thead>\n",
       "  <tbody>\n",
       "    <tr>\n",
       "      <th>0</th>\n",
       "      <td>User-ID</td>\n",
       "      <td>Location</td>\n",
       "      <td>Age</td>\n",
       "    </tr>\n",
       "    <tr>\n",
       "      <th>1</th>\n",
       "      <td>1</td>\n",
       "      <td>nyc, new york, usa</td>\n",
       "      <td>NaN</td>\n",
       "    </tr>\n",
       "    <tr>\n",
       "      <th>2</th>\n",
       "      <td>2</td>\n",
       "      <td>stockton, california, usa</td>\n",
       "      <td>18</td>\n",
       "    </tr>\n",
       "    <tr>\n",
       "      <th>3</th>\n",
       "      <td>3</td>\n",
       "      <td>moscow, yukon territory, russia</td>\n",
       "      <td>NaN</td>\n",
       "    </tr>\n",
       "    <tr>\n",
       "      <th>4</th>\n",
       "      <td>4</td>\n",
       "      <td>porto, v.n.gaia, portugal</td>\n",
       "      <td>17</td>\n",
       "    </tr>\n",
       "  </tbody>\n",
       "</table>\n",
       "</div>"
      ],
      "text/plain": [
       "   user_id                         location  age\n",
       "0  User-ID                         Location  Age\n",
       "1        1               nyc, new york, usa  NaN\n",
       "2        2        stockton, california, usa   18\n",
       "3        3  moscow, yukon territory, russia  NaN\n",
       "4        4        porto, v.n.gaia, portugal   17"
      ]
     },
     "execution_count": 3,
     "metadata": {},
     "output_type": "execute_result"
    }
   ],
   "source": [
    "users.head()"
   ]
  },
  {
   "cell_type": "code",
   "execution_count": 4,
   "metadata": {
    "execution": {
     "iopub.execute_input": "2021-03-16T12:13:41.458538Z",
     "iopub.status.busy": "2021-03-16T12:13:41.457804Z",
     "iopub.status.idle": "2021-03-16T12:13:41.461507Z",
     "shell.execute_reply": "2021-03-16T12:13:41.461998Z"
    },
    "papermill": {
     "duration": 0.044303,
     "end_time": "2021-03-16T12:13:41.462188",
     "exception": false,
     "start_time": "2021-03-16T12:13:41.417885",
     "status": "completed"
    },
    "tags": []
   },
   "outputs": [
    {
     "data": {
      "text/html": [
       "<div>\n",
       "<style scoped>\n",
       "    .dataframe tbody tr th:only-of-type {\n",
       "        vertical-align: middle;\n",
       "    }\n",
       "\n",
       "    .dataframe tbody tr th {\n",
       "        vertical-align: top;\n",
       "    }\n",
       "\n",
       "    .dataframe thead th {\n",
       "        text-align: right;\n",
       "    }\n",
       "</style>\n",
       "<table border=\"1\" class=\"dataframe\">\n",
       "  <thead>\n",
       "    <tr style=\"text-align: right;\">\n",
       "      <th></th>\n",
       "      <th>isbn</th>\n",
       "      <th>book_title</th>\n",
       "      <th>book_author</th>\n",
       "      <th>year_of_publication</th>\n",
       "      <th>publisher</th>\n",
       "      <th>img_s</th>\n",
       "      <th>img_m</th>\n",
       "      <th>img_l</th>\n",
       "    </tr>\n",
       "  </thead>\n",
       "  <tbody>\n",
       "    <tr>\n",
       "      <th>0</th>\n",
       "      <td>ISBN</td>\n",
       "      <td>Book-Title</td>\n",
       "      <td>Book-Author</td>\n",
       "      <td>Year-Of-Publication</td>\n",
       "      <td>Publisher</td>\n",
       "      <td>Image-URL-S</td>\n",
       "      <td>Image-URL-M</td>\n",
       "      <td>Image-URL-L</td>\n",
       "    </tr>\n",
       "    <tr>\n",
       "      <th>1</th>\n",
       "      <td>0195153448</td>\n",
       "      <td>Classical Mythology</td>\n",
       "      <td>Mark P. O. Morford</td>\n",
       "      <td>2002</td>\n",
       "      <td>Oxford University Press</td>\n",
       "      <td>http://images.amazon.com/images/P/0195153448.0...</td>\n",
       "      <td>http://images.amazon.com/images/P/0195153448.0...</td>\n",
       "      <td>http://images.amazon.com/images/P/0195153448.0...</td>\n",
       "    </tr>\n",
       "    <tr>\n",
       "      <th>2</th>\n",
       "      <td>0002005018</td>\n",
       "      <td>Clara Callan</td>\n",
       "      <td>Richard Bruce Wright</td>\n",
       "      <td>2001</td>\n",
       "      <td>HarperFlamingo Canada</td>\n",
       "      <td>http://images.amazon.com/images/P/0002005018.0...</td>\n",
       "      <td>http://images.amazon.com/images/P/0002005018.0...</td>\n",
       "      <td>http://images.amazon.com/images/P/0002005018.0...</td>\n",
       "    </tr>\n",
       "    <tr>\n",
       "      <th>3</th>\n",
       "      <td>0060973129</td>\n",
       "      <td>Decision in Normandy</td>\n",
       "      <td>Carlo D'Este</td>\n",
       "      <td>1991</td>\n",
       "      <td>HarperPerennial</td>\n",
       "      <td>http://images.amazon.com/images/P/0060973129.0...</td>\n",
       "      <td>http://images.amazon.com/images/P/0060973129.0...</td>\n",
       "      <td>http://images.amazon.com/images/P/0060973129.0...</td>\n",
       "    </tr>\n",
       "    <tr>\n",
       "      <th>4</th>\n",
       "      <td>0374157065</td>\n",
       "      <td>Flu: The Story of the Great Influenza Pandemic...</td>\n",
       "      <td>Gina Bari Kolata</td>\n",
       "      <td>1999</td>\n",
       "      <td>Farrar Straus Giroux</td>\n",
       "      <td>http://images.amazon.com/images/P/0374157065.0...</td>\n",
       "      <td>http://images.amazon.com/images/P/0374157065.0...</td>\n",
       "      <td>http://images.amazon.com/images/P/0374157065.0...</td>\n",
       "    </tr>\n",
       "  </tbody>\n",
       "</table>\n",
       "</div>"
      ],
      "text/plain": [
       "         isbn                                         book_title  \\\n",
       "0        ISBN                                         Book-Title   \n",
       "1  0195153448                                Classical Mythology   \n",
       "2  0002005018                                       Clara Callan   \n",
       "3  0060973129                               Decision in Normandy   \n",
       "4  0374157065  Flu: The Story of the Great Influenza Pandemic...   \n",
       "\n",
       "            book_author  year_of_publication                publisher  \\\n",
       "0           Book-Author  Year-Of-Publication                Publisher   \n",
       "1    Mark P. O. Morford                 2002  Oxford University Press   \n",
       "2  Richard Bruce Wright                 2001    HarperFlamingo Canada   \n",
       "3          Carlo D'Este                 1991          HarperPerennial   \n",
       "4      Gina Bari Kolata                 1999     Farrar Straus Giroux   \n",
       "\n",
       "                                               img_s  \\\n",
       "0                                        Image-URL-S   \n",
       "1  http://images.amazon.com/images/P/0195153448.0...   \n",
       "2  http://images.amazon.com/images/P/0002005018.0...   \n",
       "3  http://images.amazon.com/images/P/0060973129.0...   \n",
       "4  http://images.amazon.com/images/P/0374157065.0...   \n",
       "\n",
       "                                               img_m  \\\n",
       "0                                        Image-URL-M   \n",
       "1  http://images.amazon.com/images/P/0195153448.0...   \n",
       "2  http://images.amazon.com/images/P/0002005018.0...   \n",
       "3  http://images.amazon.com/images/P/0060973129.0...   \n",
       "4  http://images.amazon.com/images/P/0374157065.0...   \n",
       "\n",
       "                                               img_l  \n",
       "0                                        Image-URL-L  \n",
       "1  http://images.amazon.com/images/P/0195153448.0...  \n",
       "2  http://images.amazon.com/images/P/0002005018.0...  \n",
       "3  http://images.amazon.com/images/P/0060973129.0...  \n",
       "4  http://images.amazon.com/images/P/0374157065.0...  "
      ]
     },
     "execution_count": 4,
     "metadata": {},
     "output_type": "execute_result"
    }
   ],
   "source": [
    "books.head()"
   ]
  },
  {
   "cell_type": "code",
   "execution_count": 5,
   "metadata": {
    "execution": {
     "iopub.execute_input": "2021-03-16T12:13:41.523238Z",
     "iopub.status.busy": "2021-03-16T12:13:41.522558Z",
     "iopub.status.idle": "2021-03-16T12:13:41.525644Z",
     "shell.execute_reply": "2021-03-16T12:13:41.526250Z"
    },
    "papermill": {
     "duration": 0.038939,
     "end_time": "2021-03-16T12:13:41.526434",
     "exception": false,
     "start_time": "2021-03-16T12:13:41.487495",
     "status": "completed"
    },
    "tags": []
   },
   "outputs": [
    {
     "data": {
      "text/html": [
       "<div>\n",
       "<style scoped>\n",
       "    .dataframe tbody tr th:only-of-type {\n",
       "        vertical-align: middle;\n",
       "    }\n",
       "\n",
       "    .dataframe tbody tr th {\n",
       "        vertical-align: top;\n",
       "    }\n",
       "\n",
       "    .dataframe thead th {\n",
       "        text-align: right;\n",
       "    }\n",
       "</style>\n",
       "<table border=\"1\" class=\"dataframe\">\n",
       "  <thead>\n",
       "    <tr style=\"text-align: right;\">\n",
       "      <th></th>\n",
       "      <th>user_id</th>\n",
       "      <th>isbn</th>\n",
       "      <th>rating</th>\n",
       "    </tr>\n",
       "  </thead>\n",
       "  <tbody>\n",
       "    <tr>\n",
       "      <th>0</th>\n",
       "      <td>User-ID</td>\n",
       "      <td>ISBN</td>\n",
       "      <td>Book-Rating</td>\n",
       "    </tr>\n",
       "    <tr>\n",
       "      <th>1</th>\n",
       "      <td>276725</td>\n",
       "      <td>034545104X</td>\n",
       "      <td>0</td>\n",
       "    </tr>\n",
       "    <tr>\n",
       "      <th>2</th>\n",
       "      <td>276726</td>\n",
       "      <td>0155061224</td>\n",
       "      <td>5</td>\n",
       "    </tr>\n",
       "    <tr>\n",
       "      <th>3</th>\n",
       "      <td>276727</td>\n",
       "      <td>0446520802</td>\n",
       "      <td>0</td>\n",
       "    </tr>\n",
       "    <tr>\n",
       "      <th>4</th>\n",
       "      <td>276729</td>\n",
       "      <td>052165615X</td>\n",
       "      <td>3</td>\n",
       "    </tr>\n",
       "  </tbody>\n",
       "</table>\n",
       "</div>"
      ],
      "text/plain": [
       "   user_id        isbn       rating\n",
       "0  User-ID        ISBN  Book-Rating\n",
       "1   276725  034545104X            0\n",
       "2   276726  0155061224            5\n",
       "3   276727  0446520802            0\n",
       "4   276729  052165615X            3"
      ]
     },
     "execution_count": 5,
     "metadata": {},
     "output_type": "execute_result"
    }
   ],
   "source": [
    "ratings.head()"
   ]
  },
  {
   "cell_type": "code",
   "execution_count": 6,
   "metadata": {
    "execution": {
     "iopub.execute_input": "2021-03-16T12:13:41.581313Z",
     "iopub.status.busy": "2021-03-16T12:13:41.580654Z",
     "iopub.status.idle": "2021-03-16T12:13:41.744817Z",
     "shell.execute_reply": "2021-03-16T12:13:41.744247Z"
    },
    "papermill": {
     "duration": 0.192778,
     "end_time": "2021-03-16T12:13:41.744972",
     "exception": false,
     "start_time": "2021-03-16T12:13:41.552194",
     "status": "completed"
    },
    "tags": []
   },
   "outputs": [],
   "source": [
    "#elimina a linha 0 de todos os datasets (que sao os antigos nomes das colunas do dataset)\n",
    "users = users.drop(users.index[0])\n",
    "books = books.drop(books.index[0])\n",
    "ratings = ratings.drop(ratings.index[0])"
   ]
  },
  {
   "cell_type": "markdown",
   "metadata": {
    "papermill": {
     "duration": 0.02587,
     "end_time": "2021-03-16T12:13:41.796497",
     "exception": false,
     "start_time": "2021-03-16T12:13:41.770627",
     "status": "completed"
    },
    "tags": []
   },
   "source": [
    "## Changing variable types"
   ]
  },
  {
   "cell_type": "code",
   "execution_count": 7,
   "metadata": {
    "execution": {
     "iopub.execute_input": "2021-03-16T12:13:41.856731Z",
     "iopub.status.busy": "2021-03-16T12:13:41.855732Z",
     "iopub.status.idle": "2021-03-16T12:13:41.860289Z",
     "shell.execute_reply": "2021-03-16T12:13:41.859755Z"
    },
    "papermill": {
     "duration": 0.037138,
     "end_time": "2021-03-16T12:13:41.860433",
     "exception": false,
     "start_time": "2021-03-16T12:13:41.823295",
     "status": "completed"
    },
    "tags": []
   },
   "outputs": [
    {
     "data": {
      "text/plain": [
       "user_id    object\n",
       "isbn       object\n",
       "rating     object\n",
       "dtype: object"
      ]
     },
     "execution_count": 7,
     "metadata": {},
     "output_type": "execute_result"
    }
   ],
   "source": [
    "ratings.dtypes"
   ]
  },
  {
   "cell_type": "code",
   "execution_count": 8,
   "metadata": {
    "execution": {
     "iopub.execute_input": "2021-03-16T12:13:41.920556Z",
     "iopub.status.busy": "2021-03-16T12:13:41.919607Z",
     "iopub.status.idle": "2021-03-16T12:13:41.923400Z",
     "shell.execute_reply": "2021-03-16T12:13:41.923986Z"
    },
    "papermill": {
     "duration": 0.03725,
     "end_time": "2021-03-16T12:13:41.924176",
     "exception": false,
     "start_time": "2021-03-16T12:13:41.886926",
     "status": "completed"
    },
    "tags": []
   },
   "outputs": [
    {
     "data": {
      "text/plain": [
       "user_id     object\n",
       "location    object\n",
       "age         object\n",
       "dtype: object"
      ]
     },
     "execution_count": 8,
     "metadata": {},
     "output_type": "execute_result"
    }
   ],
   "source": [
    "users.dtypes"
   ]
  },
  {
   "cell_type": "code",
   "execution_count": 9,
   "metadata": {
    "execution": {
     "iopub.execute_input": "2021-03-16T12:13:41.984501Z",
     "iopub.status.busy": "2021-03-16T12:13:41.983818Z",
     "iopub.status.idle": "2021-03-16T12:13:41.988390Z",
     "shell.execute_reply": "2021-03-16T12:13:41.987769Z"
    },
    "papermill": {
     "duration": 0.037648,
     "end_time": "2021-03-16T12:13:41.988582",
     "exception": false,
     "start_time": "2021-03-16T12:13:41.950934",
     "status": "completed"
    },
    "tags": []
   },
   "outputs": [
    {
     "data": {
      "text/plain": [
       "isbn                   object\n",
       "book_title             object\n",
       "book_author            object\n",
       "year_of_publication    object\n",
       "publisher              object\n",
       "img_s                  object\n",
       "img_m                  object\n",
       "img_l                  object\n",
       "dtype: object"
      ]
     },
     "execution_count": 9,
     "metadata": {},
     "output_type": "execute_result"
    }
   ],
   "source": [
    "books.dtypes"
   ]
  },
  {
   "cell_type": "code",
   "execution_count": 10,
   "metadata": {
    "execution": {
     "iopub.execute_input": "2021-03-16T12:13:42.082588Z",
     "iopub.status.busy": "2021-03-16T12:13:42.081817Z",
     "iopub.status.idle": "2021-03-16T12:13:42.652026Z",
     "shell.execute_reply": "2021-03-16T12:13:42.651462Z"
    },
    "papermill": {
     "duration": 0.636466,
     "end_time": "2021-03-16T12:13:42.652208",
     "exception": false,
     "start_time": "2021-03-16T12:13:42.015742",
     "status": "completed"
    },
    "tags": []
   },
   "outputs": [],
   "source": [
    "#mudando os dtypes das variáveis de object para float e int\n",
    "users['age'] = users['age'].astype(float)\n",
    "users['user_id'] = users['user_id'].astype(int)\n",
    "ratings['user_id'] = ratings['user_id'].astype(int)\n",
    "ratings['rating'] = ratings['rating'].astype(int)\n",
    "books['year_of_publication'] = books['year_of_publication'].astype(int)"
   ]
  },
  {
   "cell_type": "markdown",
   "metadata": {
    "papermill": {
     "duration": 0.028815,
     "end_time": "2021-03-16T12:13:42.708324",
     "exception": false,
     "start_time": "2021-03-16T12:13:42.679509",
     "status": "completed"
    },
    "tags": []
   },
   "source": [
    "## Dealing with missing data\n",
    "\n",
    "### User dataset"
   ]
  },
  {
   "cell_type": "code",
   "execution_count": 11,
   "metadata": {
    "execution": {
     "iopub.execute_input": "2021-03-16T12:13:42.798519Z",
     "iopub.status.busy": "2021-03-16T12:13:42.797760Z",
     "iopub.status.idle": "2021-03-16T12:13:42.806676Z",
     "shell.execute_reply": "2021-03-16T12:13:42.806038Z"
    },
    "papermill": {
     "duration": 0.071017,
     "end_time": "2021-03-16T12:13:42.806822",
     "exception": false,
     "start_time": "2021-03-16T12:13:42.735805",
     "status": "completed"
    },
    "tags": []
   },
   "outputs": [
    {
     "data": {
      "text/plain": [
       "user_id          0\n",
       "location         0\n",
       "age         110762\n",
       "dtype: int64"
      ]
     },
     "execution_count": 11,
     "metadata": {},
     "output_type": "execute_result"
    }
   ],
   "source": [
    "#quantos valores nulos tem no dataset\n",
    "users.isnull().sum()"
   ]
  },
  {
   "cell_type": "code",
   "execution_count": 12,
   "metadata": {
    "execution": {
     "iopub.execute_input": "2021-03-16T12:13:42.869207Z",
     "iopub.status.busy": "2021-03-16T12:13:42.868482Z",
     "iopub.status.idle": "2021-03-16T12:13:42.890021Z",
     "shell.execute_reply": "2021-03-16T12:13:42.889293Z"
    },
    "papermill": {
     "duration": 0.055353,
     "end_time": "2021-03-16T12:13:42.890188",
     "exception": false,
     "start_time": "2021-03-16T12:13:42.834835",
     "status": "completed"
    },
    "tags": []
   },
   "outputs": [
    {
     "data": {
      "text/plain": [
       "count    168096.000000\n",
       "mean         34.751434\n",
       "std          14.428097\n",
       "min           0.000000\n",
       "25%          24.000000\n",
       "50%          32.000000\n",
       "75%          44.000000\n",
       "max         244.000000\n",
       "Name: age, dtype: float64"
      ]
     },
     "execution_count": 12,
     "metadata": {},
     "output_type": "execute_result"
    }
   ],
   "source": [
    "#descreve os valores estatitisticos para a variavel da idade\n",
    "users.age.describe()"
   ]
  },
  {
   "cell_type": "markdown",
   "metadata": {
    "papermill": {
     "duration": 0.028117,
     "end_time": "2021-03-16T12:13:42.946536",
     "exception": false,
     "start_time": "2021-03-16T12:13:42.918419",
     "status": "completed"
    },
    "tags": []
   },
   "source": [
    "De acordo com a função Describe(), a idade máxima no dataset é 244, e a mínima é 0. O que indica a presença de Outliers."
   ]
  },
  {
   "cell_type": "code",
   "execution_count": 13,
   "metadata": {
    "execution": {
     "iopub.execute_input": "2021-03-16T12:13:43.009449Z",
     "iopub.status.busy": "2021-03-16T12:13:43.008741Z",
     "iopub.status.idle": "2021-03-16T12:13:43.042511Z",
     "shell.execute_reply": "2021-03-16T12:13:43.041895Z"
    },
    "papermill": {
     "duration": 0.067778,
     "end_time": "2021-03-16T12:13:43.042652",
     "exception": false,
     "start_time": "2021-03-16T12:13:42.974874",
     "status": "completed"
    },
    "tags": []
   },
   "outputs": [],
   "source": [
    "#se idade > 99 e <5, transformar em valor nulo\n",
    "users.loc[(users.age>99) | (users.age<5),'age'] = np.nan\n",
    "#substituir todas as idades nulas pela média de idades no dataset\n",
    "users.age = users.age.fillna(users.age.mean())"
   ]
  },
  {
   "cell_type": "markdown",
   "metadata": {
    "papermill": {
     "duration": 0.028264,
     "end_time": "2021-03-16T12:13:43.099573",
     "exception": false,
     "start_time": "2021-03-16T12:13:43.071309",
     "status": "completed"
    },
    "tags": []
   },
   "source": [
    "### Ratings dataset"
   ]
  },
  {
   "cell_type": "code",
   "execution_count": 14,
   "metadata": {
    "execution": {
     "iopub.execute_input": "2021-03-16T12:13:43.296993Z",
     "iopub.status.busy": "2021-03-16T12:13:43.296230Z",
     "iopub.status.idle": "2021-03-16T12:13:43.309209Z",
     "shell.execute_reply": "2021-03-16T12:13:43.308658Z"
    },
    "papermill": {
     "duration": 0.181514,
     "end_time": "2021-03-16T12:13:43.309369",
     "exception": false,
     "start_time": "2021-03-16T12:13:43.127855",
     "status": "completed"
    },
    "tags": []
   },
   "outputs": [
    {
     "data": {
      "text/plain": [
       "user_id    0\n",
       "isbn       0\n",
       "rating     0\n",
       "dtype: int64"
      ]
     },
     "execution_count": 14,
     "metadata": {},
     "output_type": "execute_result"
    }
   ],
   "source": [
    "#quantos valores nulos tem no dataset\n",
    "ratings.isnull().sum()"
   ]
  },
  {
   "cell_type": "markdown",
   "metadata": {
    "papermill": {
     "duration": 0.028873,
     "end_time": "2021-03-16T12:13:43.367599",
     "exception": false,
     "start_time": "2021-03-16T12:13:43.338726",
     "status": "completed"
    },
    "tags": []
   },
   "source": [
    "### Book dataset"
   ]
  },
  {
   "cell_type": "code",
   "execution_count": 15,
   "metadata": {
    "execution": {
     "iopub.execute_input": "2021-03-16T12:13:43.627699Z",
     "iopub.status.busy": "2021-03-16T12:13:43.626927Z",
     "iopub.status.idle": "2021-03-16T12:13:43.639358Z",
     "shell.execute_reply": "2021-03-16T12:13:43.638632Z"
    },
    "papermill": {
     "duration": 0.242995,
     "end_time": "2021-03-16T12:13:43.639506",
     "exception": false,
     "start_time": "2021-03-16T12:13:43.396511",
     "status": "completed"
    },
    "tags": []
   },
   "outputs": [
    {
     "data": {
      "text/plain": [
       "isbn                   0\n",
       "book_title             0\n",
       "book_author            1\n",
       "year_of_publication    0\n",
       "publisher              2\n",
       "img_s                  0\n",
       "img_m                  0\n",
       "img_l                  0\n",
       "dtype: int64"
      ]
     },
     "execution_count": 15,
     "metadata": {},
     "output_type": "execute_result"
    }
   ],
   "source": [
    "#quantos valores nulos tem no dataset\n",
    "books.isnull().sum()"
   ]
  },
  {
   "cell_type": "code",
   "execution_count": 16,
   "metadata": {
    "execution": {
     "iopub.execute_input": "2021-03-16T12:13:43.740103Z",
     "iopub.status.busy": "2021-03-16T12:13:43.730418Z",
     "iopub.status.idle": "2021-03-16T12:13:43.744425Z",
     "shell.execute_reply": "2021-03-16T12:13:43.744881Z"
    },
    "papermill": {
     "duration": 0.076171,
     "end_time": "2021-03-16T12:13:43.745075",
     "exception": false,
     "start_time": "2021-03-16T12:13:43.668904",
     "status": "completed"
    },
    "tags": []
   },
   "outputs": [
    {
     "data": {
      "text/html": [
       "<div>\n",
       "<style scoped>\n",
       "    .dataframe tbody tr th:only-of-type {\n",
       "        vertical-align: middle;\n",
       "    }\n",
       "\n",
       "    .dataframe tbody tr th {\n",
       "        vertical-align: top;\n",
       "    }\n",
       "\n",
       "    .dataframe thead th {\n",
       "        text-align: right;\n",
       "    }\n",
       "</style>\n",
       "<table border=\"1\" class=\"dataframe\">\n",
       "  <thead>\n",
       "    <tr style=\"text-align: right;\">\n",
       "      <th></th>\n",
       "      <th>isbn</th>\n",
       "      <th>book_title</th>\n",
       "      <th>book_author</th>\n",
       "      <th>year_of_publication</th>\n",
       "      <th>publisher</th>\n",
       "      <th>img_s</th>\n",
       "      <th>img_m</th>\n",
       "      <th>img_l</th>\n",
       "    </tr>\n",
       "  </thead>\n",
       "  <tbody>\n",
       "    <tr>\n",
       "      <th>128897</th>\n",
       "      <td>193169656X</td>\n",
       "      <td>Tyrant Moon</td>\n",
       "      <td>Elaine Corvidae</td>\n",
       "      <td>2002</td>\n",
       "      <td>NaN</td>\n",
       "      <td>http://images.amazon.com/images/P/193169656X.0...</td>\n",
       "      <td>http://images.amazon.com/images/P/193169656X.0...</td>\n",
       "      <td>http://images.amazon.com/images/P/193169656X.0...</td>\n",
       "    </tr>\n",
       "    <tr>\n",
       "      <th>129044</th>\n",
       "      <td>1931696993</td>\n",
       "      <td>Finders Keepers</td>\n",
       "      <td>Linnea Sinclair</td>\n",
       "      <td>2001</td>\n",
       "      <td>NaN</td>\n",
       "      <td>http://images.amazon.com/images/P/1931696993.0...</td>\n",
       "      <td>http://images.amazon.com/images/P/1931696993.0...</td>\n",
       "      <td>http://images.amazon.com/images/P/1931696993.0...</td>\n",
       "    </tr>\n",
       "  </tbody>\n",
       "</table>\n",
       "</div>"
      ],
      "text/plain": [
       "              isbn       book_title      book_author  year_of_publication  \\\n",
       "128897  193169656X      Tyrant Moon  Elaine Corvidae                 2002   \n",
       "129044  1931696993  Finders Keepers  Linnea Sinclair                 2001   \n",
       "\n",
       "       publisher                                              img_s  \\\n",
       "128897       NaN  http://images.amazon.com/images/P/193169656X.0...   \n",
       "129044       NaN  http://images.amazon.com/images/P/1931696993.0...   \n",
       "\n",
       "                                                    img_m  \\\n",
       "128897  http://images.amazon.com/images/P/193169656X.0...   \n",
       "129044  http://images.amazon.com/images/P/1931696993.0...   \n",
       "\n",
       "                                                    img_l  \n",
       "128897  http://images.amazon.com/images/P/193169656X.0...  \n",
       "129044  http://images.amazon.com/images/P/1931696993.0...  "
      ]
     },
     "execution_count": 16,
     "metadata": {},
     "output_type": "execute_result"
    }
   ],
   "source": [
    "#mostrar quais livros tem o publisher faltando\n",
    "books.loc[books.publisher.isnull(),:]"
   ]
  },
  {
   "cell_type": "code",
   "execution_count": 17,
   "metadata": {
    "execution": {
     "iopub.execute_input": "2021-03-16T12:13:43.851576Z",
     "iopub.status.busy": "2021-03-16T12:13:43.850787Z",
     "iopub.status.idle": "2021-03-16T12:13:43.905228Z",
     "shell.execute_reply": "2021-03-16T12:13:43.904622Z"
    },
    "papermill": {
     "duration": 0.13042,
     "end_time": "2021-03-16T12:13:43.905431",
     "exception": false,
     "start_time": "2021-03-16T12:13:43.775011",
     "status": "completed"
    },
    "tags": []
   },
   "outputs": [],
   "source": [
    "#fornece a informação para os publishers que estão em falta \n",
    "books.loc[books.isbn=='193169656X','publisher']='Mundania Press LLC'\n",
    "books.loc[books.isbn=='1931696993','publisher']='Novelbooks Incorporated'"
   ]
  },
  {
   "cell_type": "code",
   "execution_count": 18,
   "metadata": {
    "execution": {
     "iopub.execute_input": "2021-03-16T12:13:44.000968Z",
     "iopub.status.busy": "2021-03-16T12:13:44.000152Z",
     "iopub.status.idle": "2021-03-16T12:13:44.013181Z",
     "shell.execute_reply": "2021-03-16T12:13:44.013679Z"
    },
    "papermill": {
     "duration": 0.078108,
     "end_time": "2021-03-16T12:13:44.013861",
     "exception": false,
     "start_time": "2021-03-16T12:13:43.935753",
     "status": "completed"
    },
    "tags": []
   },
   "outputs": [
    {
     "data": {
      "text/html": [
       "<div>\n",
       "<style scoped>\n",
       "    .dataframe tbody tr th:only-of-type {\n",
       "        vertical-align: middle;\n",
       "    }\n",
       "\n",
       "    .dataframe tbody tr th {\n",
       "        vertical-align: top;\n",
       "    }\n",
       "\n",
       "    .dataframe thead th {\n",
       "        text-align: right;\n",
       "    }\n",
       "</style>\n",
       "<table border=\"1\" class=\"dataframe\">\n",
       "  <thead>\n",
       "    <tr style=\"text-align: right;\">\n",
       "      <th></th>\n",
       "      <th>isbn</th>\n",
       "      <th>book_title</th>\n",
       "      <th>book_author</th>\n",
       "      <th>year_of_publication</th>\n",
       "      <th>publisher</th>\n",
       "      <th>img_s</th>\n",
       "      <th>img_m</th>\n",
       "      <th>img_l</th>\n",
       "    </tr>\n",
       "  </thead>\n",
       "  <tbody>\n",
       "    <tr>\n",
       "      <th>187701</th>\n",
       "      <td>9627982032</td>\n",
       "      <td>The Credit Suisse Guide to Managing Your Perso...</td>\n",
       "      <td>NaN</td>\n",
       "      <td>1995</td>\n",
       "      <td>Edinburgh Financial Publishing</td>\n",
       "      <td>http://images.amazon.com/images/P/9627982032.0...</td>\n",
       "      <td>http://images.amazon.com/images/P/9627982032.0...</td>\n",
       "      <td>http://images.amazon.com/images/P/9627982032.0...</td>\n",
       "    </tr>\n",
       "  </tbody>\n",
       "</table>\n",
       "</div>"
      ],
      "text/plain": [
       "              isbn                                         book_title  \\\n",
       "187701  9627982032  The Credit Suisse Guide to Managing Your Perso...   \n",
       "\n",
       "       book_author  year_of_publication                       publisher  \\\n",
       "187701         NaN                 1995  Edinburgh Financial Publishing   \n",
       "\n",
       "                                                    img_s  \\\n",
       "187701  http://images.amazon.com/images/P/9627982032.0...   \n",
       "\n",
       "                                                    img_m  \\\n",
       "187701  http://images.amazon.com/images/P/9627982032.0...   \n",
       "\n",
       "                                                    img_l  \n",
       "187701  http://images.amazon.com/images/P/9627982032.0...  "
      ]
     },
     "execution_count": 18,
     "metadata": {},
     "output_type": "execute_result"
    }
   ],
   "source": [
    "#mostrar qual livro tem o autor faltando\n",
    "books.loc[books.book_author.isnull(),:]"
   ]
  },
  {
   "cell_type": "code",
   "execution_count": 19,
   "metadata": {
    "execution": {
     "iopub.execute_input": "2021-03-16T12:13:44.122438Z",
     "iopub.status.busy": "2021-03-16T12:13:44.121697Z",
     "iopub.status.idle": "2021-03-16T12:13:44.136253Z",
     "shell.execute_reply": "2021-03-16T12:13:44.135634Z"
    },
    "papermill": {
     "duration": 0.09155,
     "end_time": "2021-03-16T12:13:44.136400",
     "exception": false,
     "start_time": "2021-03-16T12:13:44.044850",
     "status": "completed"
    },
    "tags": []
   },
   "outputs": [],
   "source": [
    "#fornece a informação do autor que está em falta \n",
    "books.loc[books.isbn=='9627982032','book_author']='Larissa Anne Downe'"
   ]
  },
  {
   "cell_type": "code",
   "execution_count": 20,
   "metadata": {
    "execution": {
     "iopub.execute_input": "2021-03-16T12:13:44.205745Z",
     "iopub.status.busy": "2021-03-16T12:13:44.204756Z",
     "iopub.status.idle": "2021-03-16T12:13:44.211616Z",
     "shell.execute_reply": "2021-03-16T12:13:44.212274Z"
    },
    "papermill": {
     "duration": 0.045044,
     "end_time": "2021-03-16T12:13:44.212516",
     "exception": false,
     "start_time": "2021-03-16T12:13:44.167472",
     "status": "completed"
    },
    "tags": []
   },
   "outputs": [
    {
     "name": "stdout",
     "output_type": "stream",
     "text": [
      "[0, 1376, 1378, 1806, 1897, 1900, 1901, 1902, 1904, 1906, 1908, 1909, 1910, 1911, 1914, 1917, 1919, 1920, 1921, 1922, 1923, 1924, 1925, 1926, 1927, 1928, 1929, 1930, 1931, 1932, 1933, 1934, 1935, 1936, 1937, 1938, 1939, 1940, 1941, 1942, 1943, 1944, 1945, 1946, 1947, 1948, 1949, 1950, 1951, 1952, 1953, 1954, 1955, 1956, 1957, 1958, 1959, 1960, 1961, 1962, 1963, 1964, 1965, 1966, 1967, 1968, 1969, 1970, 1971, 1972, 1973, 1974, 1975, 1976, 1977, 1978, 1979, 1980, 1981, 1982, 1983, 1984, 1985, 1986, 1987, 1988, 1989, 1990, 1991, 1992, 1993, 1994, 1995, 1996, 1997, 1998, 1999, 2000, 2001, 2002, 2003, 2004, 2005, 2006, 2008, 2010, 2011, 2012, 2020, 2021, 2024, 2026, 2030, 2037, 2038, 2050]\n"
     ]
    }
   ],
   "source": [
    "print(sorted(books['year_of_publication'].unique()))"
   ]
  },
  {
   "cell_type": "code",
   "execution_count": 21,
   "metadata": {
    "execution": {
     "iopub.execute_input": "2021-03-16T12:13:44.281493Z",
     "iopub.status.busy": "2021-03-16T12:13:44.280539Z",
     "iopub.status.idle": "2021-03-16T12:13:44.298636Z",
     "shell.execute_reply": "2021-03-16T12:13:44.298072Z"
    },
    "papermill": {
     "duration": 0.054164,
     "end_time": "2021-03-16T12:13:44.298775",
     "exception": false,
     "start_time": "2021-03-16T12:13:44.244611",
     "status": "completed"
    },
    "tags": []
   },
   "outputs": [
    {
     "data": {
      "text/plain": [
       "count    271379.000000\n",
       "mean       1959.756050\n",
       "std         258.011363\n",
       "min           0.000000\n",
       "25%        1989.000000\n",
       "50%        1995.000000\n",
       "75%        2000.000000\n",
       "max        2050.000000\n",
       "Name: year_of_publication, dtype: float64"
      ]
     },
     "execution_count": 21,
     "metadata": {},
     "output_type": "execute_result"
    }
   ],
   "source": [
    "#descreve os valores estatitisticos para a variavel do ano\n",
    "books.year_of_publication.describe()"
   ]
  },
  {
   "cell_type": "markdown",
   "metadata": {
    "papermill": {
     "duration": 0.031428,
     "end_time": "2021-03-16T12:13:44.361889",
     "exception": false,
     "start_time": "2021-03-16T12:13:44.330461",
     "status": "completed"
    },
    "tags": []
   },
   "source": [
    "OBS: É possível perceber que a informação sobre o ano de lançamento de alguns livros está errada, mas considerando que a informação do ano não é relevante para uma recomendação, eu não vou tratar esses valores."
   ]
  },
  {
   "cell_type": "markdown",
   "metadata": {
    "papermill": {
     "duration": 0.031595,
     "end_time": "2021-03-16T12:13:44.425231",
     "exception": false,
     "start_time": "2021-03-16T12:13:44.393636",
     "status": "completed"
    },
    "tags": []
   },
   "source": [
    "## Rating Distribution\n",
    "\n",
    "> 📌Note: This dataset contains both explicit ratings, on a 1–10 scale and implicit actions of unspecified nature.\n",
    "\n",
    "> 0 values indicate all interactions without rating values."
   ]
  },
  {
   "cell_type": "code",
   "execution_count": 22,
   "metadata": {
    "execution": {
     "iopub.execute_input": "2021-03-16T12:13:44.495391Z",
     "iopub.status.busy": "2021-03-16T12:13:44.494410Z",
     "iopub.status.idle": "2021-03-16T12:13:44.511175Z",
     "shell.execute_reply": "2021-03-16T12:13:44.510556Z"
    },
    "papermill": {
     "duration": 0.054284,
     "end_time": "2021-03-16T12:13:44.511319",
     "exception": false,
     "start_time": "2021-03-16T12:13:44.457035",
     "status": "completed"
    },
    "tags": []
   },
   "outputs": [
    {
     "data": {
      "text/plain": [
       "0     716109\n",
       "8     103736\n",
       "10     78610\n",
       "7      76457\n",
       "9      67541\n",
       "5      50974\n",
       "6      36924\n",
       "4       8904\n",
       "3       5996\n",
       "2       2759\n",
       "1       1770\n",
       "Name: rating, dtype: int64"
      ]
     },
     "execution_count": 22,
     "metadata": {},
     "output_type": "execute_result"
    }
   ],
   "source": [
    "ratings['rating'].value_counts()"
   ]
  },
  {
   "cell_type": "code",
   "execution_count": 23,
   "metadata": {
    "execution": {
     "iopub.execute_input": "2021-03-16T12:13:44.582984Z",
     "iopub.status.busy": "2021-03-16T12:13:44.582021Z",
     "iopub.status.idle": "2021-03-16T12:13:44.635242Z",
     "shell.execute_reply": "2021-03-16T12:13:44.634681Z"
    },
    "papermill": {
     "duration": 0.091947,
     "end_time": "2021-03-16T12:13:44.635391",
     "exception": false,
     "start_time": "2021-03-16T12:13:44.543444",
     "status": "completed"
    },
    "tags": []
   },
   "outputs": [],
   "source": [
    "# manter apenas as avaliações explicitas - nota 0 signfica que o usuario apenas interagiu com o produto de alguma forma\n",
    "ratings=ratings.loc[ratings['rating']>0]"
   ]
  },
  {
   "cell_type": "code",
   "execution_count": 24,
   "metadata": {
    "execution": {
     "iopub.execute_input": "2021-03-16T12:13:44.707504Z",
     "iopub.status.busy": "2021-03-16T12:13:44.706441Z",
     "iopub.status.idle": "2021-03-16T12:13:44.983866Z",
     "shell.execute_reply": "2021-03-16T12:13:44.983229Z"
    },
    "papermill": {
     "duration": 0.316504,
     "end_time": "2021-03-16T12:13:44.984004",
     "exception": false,
     "start_time": "2021-03-16T12:13:44.667500",
     "status": "completed"
    },
    "tags": []
   },
   "outputs": [
    {
     "data": {
      "image/png": "[encoded data removed]",
      "text/plain": [
       "<Figure size 720x576 with 1 Axes>"
      ]
     },
     "metadata": {
      "needs_background": "light"
     },
     "output_type": "display_data"
    }
   ],
   "source": [
    "plt.figure(figsize=(10,8))\n",
    "sns.countplot(x='rating',data=ratings)\n",
    "plt.title('Rating Distribution',size=20)\n",
    "plt.show()"
   ]
  },
  {
   "cell_type": "code",
   "execution_count": 25,
   "metadata": {
    "execution": {
     "iopub.execute_input": "2021-03-16T12:13:45.056928Z",
     "iopub.status.busy": "2021-03-16T12:13:45.056230Z",
     "iopub.status.idle": "2021-03-16T12:13:45.058939Z",
     "shell.execute_reply": "2021-03-16T12:13:45.059439Z"
    },
    "papermill": {
     "duration": 0.041334,
     "end_time": "2021-03-16T12:13:45.059604",
     "exception": false,
     "start_time": "2021-03-16T12:13:45.018270",
     "status": "completed"
    },
    "tags": []
   },
   "outputs": [
    {
     "data": {
      "text/plain": [
       "(433671, 3)"
      ]
     },
     "execution_count": 25,
     "metadata": {},
     "output_type": "execute_result"
    }
   ],
   "source": [
    "ratings.shape"
   ]
  },
  {
   "cell_type": "code",
   "execution_count": 26,
   "metadata": {
    "execution": {
     "iopub.execute_input": "2021-03-16T12:13:45.130829Z",
     "iopub.status.busy": "2021-03-16T12:13:45.130221Z",
     "iopub.status.idle": "2021-03-16T12:13:45.336205Z",
     "shell.execute_reply": "2021-03-16T12:13:45.336679Z"
    },
    "papermill": {
     "duration": 0.242619,
     "end_time": "2021-03-16T12:13:45.336864",
     "exception": false,
     "start_time": "2021-03-16T12:13:45.094245",
     "status": "completed"
    },
    "tags": []
   },
   "outputs": [],
   "source": [
    "#faz mapeamento dos users e books\n",
    "user_to_idx={j:i+1 for i, j in enumerate(ratings['user_id'].unique())}\n",
    "book_to_idx={j:i+1 for i,j in enumerate(ratings['isbn'].unique())}\n",
    "#idx_to_user={i+1:j for i, j in enumerate(ratings['user_id'].unique())}\n",
    "#idx_to_book={i+1:j for i,j in enumerate(ratings['isbn'].unique())}"
   ]
  },
  {
   "cell_type": "code",
   "execution_count": 27,
   "metadata": {
    "execution": {
     "iopub.execute_input": "2021-03-16T12:13:45.423907Z",
     "iopub.status.busy": "2021-03-16T12:13:45.418769Z",
     "iopub.status.idle": "2021-03-16T12:13:46.283240Z",
     "shell.execute_reply": "2021-03-16T12:13:46.282687Z"
    },
    "papermill": {
     "duration": 0.912788,
     "end_time": "2021-03-16T12:13:46.283392",
     "exception": false,
     "start_time": "2021-03-16T12:13:45.370604",
     "status": "completed"
    },
    "tags": []
   },
   "outputs": [],
   "source": [
    "ratings['user_idx']=[user_to_idx[i] for i in ratings['user_id']]\n",
    "ratings['book_idx']=[book_to_idx[i] for i in ratings['isbn']]"
   ]
  },
  {
   "cell_type": "code",
   "execution_count": 28,
   "metadata": {
    "execution": {
     "iopub.execute_input": "2021-03-16T12:13:46.365983Z",
     "iopub.status.busy": "2021-03-16T12:13:46.364885Z",
     "iopub.status.idle": "2021-03-16T12:13:46.387035Z",
     "shell.execute_reply": "2021-03-16T12:13:46.386373Z"
    },
    "papermill": {
     "duration": 0.070061,
     "end_time": "2021-03-16T12:13:46.387194",
     "exception": false,
     "start_time": "2021-03-16T12:13:46.317133",
     "status": "completed"
    },
    "tags": []
   },
   "outputs": [],
   "source": [
    "#muda o index\n",
    "users.set_index('user_id', inplace=True)\n",
    "books.set_index('isbn',inplace=True)\n",
    "ratings.set_index('user_id', inplace=True)"
   ]
  },
  {
   "cell_type": "code",
   "execution_count": 29,
   "metadata": {
    "execution": {
     "iopub.execute_input": "2021-03-16T12:13:46.466406Z",
     "iopub.status.busy": "2021-03-16T12:13:46.460967Z",
     "iopub.status.idle": "2021-03-16T12:13:46.470941Z",
     "shell.execute_reply": "2021-03-16T12:13:46.470427Z"
    },
    "papermill": {
     "duration": 0.049831,
     "end_time": "2021-03-16T12:13:46.471105",
     "exception": false,
     "start_time": "2021-03-16T12:13:46.421274",
     "status": "completed"
    },
    "tags": []
   },
   "outputs": [
    {
     "data": {
      "text/html": [
       "<div>\n",
       "<style scoped>\n",
       "    .dataframe tbody tr th:only-of-type {\n",
       "        vertical-align: middle;\n",
       "    }\n",
       "\n",
       "    .dataframe tbody tr th {\n",
       "        vertical-align: top;\n",
       "    }\n",
       "\n",
       "    .dataframe thead th {\n",
       "        text-align: right;\n",
       "    }\n",
       "</style>\n",
       "<table border=\"1\" class=\"dataframe\">\n",
       "  <thead>\n",
       "    <tr style=\"text-align: right;\">\n",
       "      <th></th>\n",
       "      <th>isbn</th>\n",
       "      <th>rating</th>\n",
       "      <th>user_idx</th>\n",
       "      <th>book_idx</th>\n",
       "    </tr>\n",
       "    <tr>\n",
       "      <th>user_id</th>\n",
       "      <th></th>\n",
       "      <th></th>\n",
       "      <th></th>\n",
       "      <th></th>\n",
       "    </tr>\n",
       "  </thead>\n",
       "  <tbody>\n",
       "    <tr>\n",
       "      <th>276726</th>\n",
       "      <td>0155061224</td>\n",
       "      <td>5</td>\n",
       "      <td>1</td>\n",
       "      <td>1</td>\n",
       "    </tr>\n",
       "    <tr>\n",
       "      <th>276729</th>\n",
       "      <td>052165615X</td>\n",
       "      <td>3</td>\n",
       "      <td>2</td>\n",
       "      <td>2</td>\n",
       "    </tr>\n",
       "    <tr>\n",
       "      <th>276729</th>\n",
       "      <td>0521795028</td>\n",
       "      <td>6</td>\n",
       "      <td>2</td>\n",
       "      <td>3</td>\n",
       "    </tr>\n",
       "    <tr>\n",
       "      <th>276736</th>\n",
       "      <td>3257224281</td>\n",
       "      <td>8</td>\n",
       "      <td>3</td>\n",
       "      <td>4</td>\n",
       "    </tr>\n",
       "    <tr>\n",
       "      <th>276737</th>\n",
       "      <td>0600570967</td>\n",
       "      <td>6</td>\n",
       "      <td>4</td>\n",
       "      <td>5</td>\n",
       "    </tr>\n",
       "  </tbody>\n",
       "</table>\n",
       "</div>"
      ],
      "text/plain": [
       "               isbn  rating  user_idx  book_idx\n",
       "user_id                                        \n",
       "276726   0155061224       5         1         1\n",
       "276729   052165615X       3         2         2\n",
       "276729   0521795028       6         2         3\n",
       "276736   3257224281       8         3         4\n",
       "276737   0600570967       6         4         5"
      ]
     },
     "execution_count": 29,
     "metadata": {},
     "output_type": "execute_result"
    }
   ],
   "source": [
    "ratings.head()"
   ]
  },
  {
   "cell_type": "code",
   "execution_count": 30,
   "metadata": {
    "execution": {
     "iopub.execute_input": "2021-03-16T12:13:46.545458Z",
     "iopub.status.busy": "2021-03-16T12:13:46.544777Z",
     "iopub.status.idle": "2021-03-16T12:13:46.548279Z",
     "shell.execute_reply": "2021-03-16T12:13:46.547736Z"
    },
    "papermill": {
     "duration": 0.042448,
     "end_time": "2021-03-16T12:13:46.548441",
     "exception": false,
     "start_time": "2021-03-16T12:13:46.505993",
     "status": "completed"
    },
    "tags": []
   },
   "outputs": [],
   "source": [
    "import os\n",
    "os.chdir(r'/kaggle/working')"
   ]
  },
  {
   "cell_type": "code",
   "execution_count": 31,
   "metadata": {
    "execution": {
     "iopub.execute_input": "2021-03-16T12:13:46.624690Z",
     "iopub.status.busy": "2021-03-16T12:13:46.623674Z",
     "iopub.status.idle": "2021-03-16T12:13:53.078815Z",
     "shell.execute_reply": "2021-03-16T12:13:53.079358Z"
    },
    "papermill": {
     "duration": 6.493704,
     "end_time": "2021-03-16T12:13:53.079549",
     "exception": false,
     "start_time": "2021-03-16T12:13:46.585845",
     "status": "completed"
    },
    "tags": []
   },
   "outputs": [],
   "source": [
    "books.to_csv(r'books.csv')\n",
    "users.to_csv(r'users.csv')\n",
    "ratings.to_csv(r'ratings.csv')"
   ]
  },
  {
   "cell_type": "code",
   "execution_count": 32,
   "metadata": {
    "execution": {
     "iopub.execute_input": "2021-03-16T12:13:53.153395Z",
     "iopub.status.busy": "2021-03-16T12:13:53.152752Z",
     "iopub.status.idle": "2021-03-16T12:13:53.157368Z",
     "shell.execute_reply": "2021-03-16T12:13:53.157824Z"
    },
    "papermill": {
     "duration": 0.043349,
     "end_time": "2021-03-16T12:13:53.158010",
     "exception": false,
     "start_time": "2021-03-16T12:13:53.114661",
     "status": "completed"
    },
    "tags": []
   },
   "outputs": [
    {
     "data": {
      "text/html": [
       "<a href='books.csv' target='_blank'>books.csv</a><br>"
      ],
      "text/plain": [
       "/kaggle/working/books.csv"
      ]
     },
     "execution_count": 32,
     "metadata": {},
     "output_type": "execute_result"
    }
   ],
   "source": [
    "from IPython.display import FileLink\n",
    "\n",
    "FileLink(r'books.csv')"
   ]
  },
  {
   "cell_type": "code",
   "execution_count": 33,
   "metadata": {
    "execution": {
     "iopub.execute_input": "2021-03-16T12:13:53.235309Z",
     "iopub.status.busy": "2021-03-16T12:13:53.234631Z",
     "iopub.status.idle": "2021-03-16T12:13:53.237625Z",
     "shell.execute_reply": "2021-03-16T12:13:53.238216Z"
    },
    "papermill": {
     "duration": 0.044474,
     "end_time": "2021-03-16T12:13:53.238383",
     "exception": false,
     "start_time": "2021-03-16T12:13:53.193909",
     "status": "completed"
    },
    "tags": []
   },
   "outputs": [
    {
     "data": {
      "text/html": [
       "<a href='users.csv' target='_blank'>users.csv</a><br>"
      ],
      "text/plain": [
       "/kaggle/working/users.csv"
      ]
     },
     "execution_count": 33,
     "metadata": {},
     "output_type": "execute_result"
    }
   ],
   "source": [
    "FileLink(r'users.csv')"
   ]
  },
  {
   "cell_type": "code",
   "execution_count": 34,
   "metadata": {
    "execution": {
     "iopub.execute_input": "2021-03-16T12:13:53.313326Z",
     "iopub.status.busy": "2021-03-16T12:13:53.312694Z",
     "iopub.status.idle": "2021-03-16T12:13:53.318962Z",
     "shell.execute_reply": "2021-03-16T12:13:53.318457Z"
    },
    "papermill": {
     "duration": 0.044948,
     "end_time": "2021-03-16T12:13:53.319140",
     "exception": false,
     "start_time": "2021-03-16T12:13:53.274192",
     "status": "completed"
    },
    "tags": []
   },
   "outputs": [
    {
     "data": {
      "text/html": [
       "<a href='ratings.csv' target='_blank'>ratings.csv</a><br>"
      ],
      "text/plain": [
       "/kaggle/working/ratings.csv"
      ]
     },
     "execution_count": 34,
     "metadata": {},
     "output_type": "execute_result"
    }
   ],
   "source": [
    "FileLink(r'ratings.csv')"
   ]
  }
 ],
 "metadata": {
  "kernelspec": {
   "display_name": "Python 3",
   "language": "python",
   "name": "python3"
  },
  "language_info": {
   "codemirror_mode": {
    "name": "ipython",
    "version": 3
   },
   "file_extension": ".py",
   "mimetype": "text/x-python",
   "name": "python",
   "nbconvert_exporter": "python",
   "pygments_lexer": "ipython3",
   "version": "3.7.9"
  },
  "papermill": {
   "default_parameters": {},
   "duration": 24.369158,
   "end_time": "2021-03-16T12:13:54.166523",
   "environment_variables": {},
   "exception": null,
   "input_path": "__notebook__.ipynb",
   "output_path": "__notebook__.ipynb",
   "parameters": {},
   "start_time": "2021-03-16T12:13:29.797365",
   "version": "2.2.2"
  }
 },
 "nbformat": 4,
 "nbformat_minor": 4
}
