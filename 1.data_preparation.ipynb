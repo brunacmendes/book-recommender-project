{
 "cells": [
  {
   "cell_type": "markdown",
   "metadata": {
    "papermill": {
     "duration": 0.022112,
     "end_time": "2021-03-15T23:56:50.644084",
     "exception": false,
     "start_time": "2021-03-15T23:56:50.621972",
     "status": "completed"
    },
    "tags": []
   },
   "source": [
    "# Book-Crossing: Analyzing & Cleaning the dataset\n",
    "## About the data\n",
    "\n",
    "This dataset contains 278,858 users (anonymized but with demographic information) providing 1,149,780 ratings (explicit / implicit) about 271,379 books.\n",
    "\n",
    "> ### Dataset description:\n",
    "\n",
    "> **BX-Books.csv** has 8 columns which include information about books.\n",
    "We can uniquely identify each book with the help of ISBN(International Standard Book Number).\n",
    "The title, author,publisher and year of publication of each book have been listed.\n",
    "The last three columns include the URLs for different sizes of images.\n",
    "\n",
    "> **BX-Users.csv** lists the age and location of a user along with their User-ID.\n",
    "\n",
    "> **BX-Book-Ratings.csv** contains book ratings given by users. The User-ID and ISBN have also been provided."
   ]
  },
  {
   "cell_type": "code",
   "execution_count": 1,
   "metadata": {
    "_cell_guid": "b1076dfc-b9ad-4769-8c92-a6c4dae69d19",
    "_uuid": "8f2839f25d086af736a60e9eeb907d3b93b6e0e5",
    "execution": {
     "iopub.execute_input": "2021-03-15T23:56:50.693509Z",
     "iopub.status.busy": "2021-03-15T23:56:50.692788Z",
     "iopub.status.idle": "2021-03-15T23:56:51.738935Z",
     "shell.execute_reply": "2021-03-15T23:56:51.739606Z"
    },
    "papermill": {
     "duration": 1.074797,
     "end_time": "2021-03-15T23:56:51.739933",
     "exception": false,
     "start_time": "2021-03-15T23:56:50.665136",
     "status": "completed"
    },
    "tags": []
   },
   "outputs": [
    {
     "name": "stdout",
     "output_type": "stream",
     "text": [
      "/kaggle/input/bookcrossing-dataset/Books Data with Category Language and Summary/Preprocessed_data.csv\n",
      "/kaggle/input/bookcrossing-dataset/Book reviews/Book reviews/BX_Books.csv\n",
      "/kaggle/input/bookcrossing-dataset/Book reviews/Book reviews/BX-Book-Ratings.csv\n",
      "/kaggle/input/bookcrossing-dataset/Book reviews/Book reviews/BX-Users.csv\n"
     ]
    }
   ],
   "source": [
    "import numpy as np # linear algebra\n",
    "import pandas as pd # data processing, CSV file I/O (e.g. pd.read_csv)\n",
    "import seaborn as sns\n",
    "import matplotlib.pyplot as plt\n",
    "import requests\n",
    "from PIL import Image as im\n",
    "from IPython.core.display import Image\n",
    "\n",
    "\n",
    "import os\n",
    "for dirname, _, filenames in os.walk('/kaggle/input'):\n",
    "    for filename in filenames:\n",
    "        print(os.path.join(dirname, filename))\n"
   ]
  },
  {
   "cell_type": "markdown",
   "metadata": {
    "papermill": {
     "duration": 0.021104,
     "end_time": "2021-03-15T23:56:51.783299",
     "exception": false,
     "start_time": "2021-03-15T23:56:51.762195",
     "status": "completed"
    },
    "tags": []
   },
   "source": [
    "## Reading the data"
   ]
  },
  {
   "cell_type": "code",
   "execution_count": 2,
   "metadata": {
    "execution": {
     "iopub.execute_input": "2021-03-15T23:56:51.834749Z",
     "iopub.status.busy": "2021-03-15T23:56:51.834017Z",
     "iopub.status.idle": "2021-03-15T23:56:56.443557Z",
     "shell.execute_reply": "2021-03-15T23:56:56.442828Z"
    },
    "papermill": {
     "duration": 4.638915,
     "end_time": "2021-03-15T23:56:56.443722",
     "exception": false,
     "start_time": "2021-03-15T23:56:51.804807",
     "status": "completed"
    },
    "tags": []
   },
   "outputs": [],
   "source": [
    "#Users\n",
    "u_cols = ['user_id', 'location', 'age'] #cria novos nomes pra colunas\n",
    "users = pd.read_csv('/kaggle/input/bookcrossing-dataset/Book reviews/Book reviews/BX-Users.csv', sep=';', names=u_cols, encoding='latin-1',low_memory=False)\n",
    "\n",
    "#Books #cria novos nomes pra colunas\n",
    "i_cols = ['isbn', 'book_title' ,'book_author','year_of_publication', 'publisher', 'img_s', 'img_m', 'img_l']\n",
    "books = pd.read_csv('/kaggle/input/bookcrossing-dataset/Book reviews/Book reviews/BX_Books.csv', sep=';', names=i_cols, encoding='latin-1',low_memory=False)\n",
    "\n",
    "#Ratings #cria novos nomes pra colunas\n",
    "r_cols = ['user_id', 'isbn', 'rating']\n",
    "ratings = pd.read_csv('/kaggle/input/bookcrossing-dataset/Book reviews/Book reviews/BX-Book-Ratings.csv', sep=';', names=r_cols, encoding='latin-1',low_memory=False)"
   ]
  },
  {
   "cell_type": "code",
   "execution_count": 3,
   "metadata": {
    "execution": {
     "iopub.execute_input": "2021-03-15T23:56:56.502367Z",
     "iopub.status.busy": "2021-03-15T23:56:56.501698Z",
     "iopub.status.idle": "2021-03-15T23:56:56.521446Z",
     "shell.execute_reply": "2021-03-15T23:56:56.521957Z"
    },
    "papermill": {
     "duration": 0.055115,
     "end_time": "2021-03-15T23:56:56.522148",
     "exception": false,
     "start_time": "2021-03-15T23:56:56.467033",
     "status": "completed"
    },
    "tags": []
   },
   "outputs": [
    {
     "data": {
      "text/html": [
       "<div>\n",
       "<style scoped>\n",
       "    .dataframe tbody tr th:only-of-type {\n",
       "        vertical-align: middle;\n",
       "    }\n",
       "\n",
       "    .dataframe tbody tr th {\n",
       "        vertical-align: top;\n",
       "    }\n",
       "\n",
       "    .dataframe thead th {\n",
       "        text-align: right;\n",
       "    }\n",
       "</style>\n",
       "<table border=\"1\" class=\"dataframe\">\n",
       "  <thead>\n",
       "    <tr style=\"text-align: right;\">\n",
       "      <th></th>\n",
       "      <th>user_id</th>\n",
       "      <th>location</th>\n",
       "      <th>age</th>\n",
       "    </tr>\n",
       "  </thead>\n",
       "  <tbody>\n",
       "    <tr>\n",
       "      <th>0</th>\n",
       "      <td>User-ID</td>\n",
       "      <td>Location</td>\n",
       "      <td>Age</td>\n",
       "    </tr>\n",
       "    <tr>\n",
       "      <th>1</th>\n",
       "      <td>1</td>\n",
       "      <td>nyc, new york, usa</td>\n",
       "      <td>NaN</td>\n",
       "    </tr>\n",
       "    <tr>\n",
       "      <th>2</th>\n",
       "      <td>2</td>\n",
       "      <td>stockton, california, usa</td>\n",
       "      <td>18</td>\n",
       "    </tr>\n",
       "    <tr>\n",
       "      <th>3</th>\n",
       "      <td>3</td>\n",
       "      <td>moscow, yukon territory, russia</td>\n",
       "      <td>NaN</td>\n",
       "    </tr>\n",
       "    <tr>\n",
       "      <th>4</th>\n",
       "      <td>4</td>\n",
       "      <td>porto, v.n.gaia, portugal</td>\n",
       "      <td>17</td>\n",
       "    </tr>\n",
       "  </tbody>\n",
       "</table>\n",
       "</div>"
      ],
      "text/plain": [
       "   user_id                         location  age\n",
       "0  User-ID                         Location  Age\n",
       "1        1               nyc, new york, usa  NaN\n",
       "2        2        stockton, california, usa   18\n",
       "3        3  moscow, yukon territory, russia  NaN\n",
       "4        4        porto, v.n.gaia, portugal   17"
      ]
     },
     "execution_count": 3,
     "metadata": {},
     "output_type": "execute_result"
    }
   ],
   "source": [
    "users.head()"
   ]
  },
  {
   "cell_type": "code",
   "execution_count": 4,
   "metadata": {
    "execution": {
     "iopub.execute_input": "2021-03-15T23:56:56.570197Z",
     "iopub.status.busy": "2021-03-15T23:56:56.569583Z",
     "iopub.status.idle": "2021-03-15T23:56:56.584216Z",
     "shell.execute_reply": "2021-03-15T23:56:56.584806Z"
    },
    "papermill": {
     "duration": 0.040352,
     "end_time": "2021-03-15T23:56:56.584987",
     "exception": false,
     "start_time": "2021-03-15T23:56:56.544635",
     "status": "completed"
    },
    "tags": []
   },
   "outputs": [
    {
     "data": {
      "text/html": [
       "<div>\n",
       "<style scoped>\n",
       "    .dataframe tbody tr th:only-of-type {\n",
       "        vertical-align: middle;\n",
       "    }\n",
       "\n",
       "    .dataframe tbody tr th {\n",
       "        vertical-align: top;\n",
       "    }\n",
       "\n",
       "    .dataframe thead th {\n",
       "        text-align: right;\n",
       "    }\n",
       "</style>\n",
       "<table border=\"1\" class=\"dataframe\">\n",
       "  <thead>\n",
       "    <tr style=\"text-align: right;\">\n",
       "      <th></th>\n",
       "      <th>isbn</th>\n",
       "      <th>book_title</th>\n",
       "      <th>book_author</th>\n",
       "      <th>year_of_publication</th>\n",
       "      <th>publisher</th>\n",
       "      <th>img_s</th>\n",
       "      <th>img_m</th>\n",
       "      <th>img_l</th>\n",
       "    </tr>\n",
       "  </thead>\n",
       "  <tbody>\n",
       "    <tr>\n",
       "      <th>0</th>\n",
       "      <td>ISBN</td>\n",
       "      <td>Book-Title</td>\n",
       "      <td>Book-Author</td>\n",
       "      <td>Year-Of-Publication</td>\n",
       "      <td>Publisher</td>\n",
       "      <td>Image-URL-S</td>\n",
       "      <td>Image-URL-M</td>\n",
       "      <td>Image-URL-L</td>\n",
       "    </tr>\n",
       "    <tr>\n",
       "      <th>1</th>\n",
       "      <td>0195153448</td>\n",
       "      <td>Classical Mythology</td>\n",
       "      <td>Mark P. O. Morford</td>\n",
       "      <td>2002</td>\n",
       "      <td>Oxford University Press</td>\n",
       "      <td>http://images.amazon.com/images/P/0195153448.0...</td>\n",
       "      <td>http://images.amazon.com/images/P/0195153448.0...</td>\n",
       "      <td>http://images.amazon.com/images/P/0195153448.0...</td>\n",
       "    </tr>\n",
       "    <tr>\n",
       "      <th>2</th>\n",
       "      <td>0002005018</td>\n",
       "      <td>Clara Callan</td>\n",
       "      <td>Richard Bruce Wright</td>\n",
       "      <td>2001</td>\n",
       "      <td>HarperFlamingo Canada</td>\n",
       "      <td>http://images.amazon.com/images/P/0002005018.0...</td>\n",
       "      <td>http://images.amazon.com/images/P/0002005018.0...</td>\n",
       "      <td>http://images.amazon.com/images/P/0002005018.0...</td>\n",
       "    </tr>\n",
       "    <tr>\n",
       "      <th>3</th>\n",
       "      <td>0060973129</td>\n",
       "      <td>Decision in Normandy</td>\n",
       "      <td>Carlo D'Este</td>\n",
       "      <td>1991</td>\n",
       "      <td>HarperPerennial</td>\n",
       "      <td>http://images.amazon.com/images/P/0060973129.0...</td>\n",
       "      <td>http://images.amazon.com/images/P/0060973129.0...</td>\n",
       "      <td>http://images.amazon.com/images/P/0060973129.0...</td>\n",
       "    </tr>\n",
       "    <tr>\n",
       "      <th>4</th>\n",
       "      <td>0374157065</td>\n",
       "      <td>Flu: The Story of the Great Influenza Pandemic...</td>\n",
       "      <td>Gina Bari Kolata</td>\n",
       "      <td>1999</td>\n",
       "      <td>Farrar Straus Giroux</td>\n",
       "      <td>http://images.amazon.com/images/P/0374157065.0...</td>\n",
       "      <td>http://images.amazon.com/images/P/0374157065.0...</td>\n",
       "      <td>http://images.amazon.com/images/P/0374157065.0...</td>\n",
       "    </tr>\n",
       "  </tbody>\n",
       "</table>\n",
       "</div>"
      ],
      "text/plain": [
       "         isbn                                         book_title  \\\n",
       "0        ISBN                                         Book-Title   \n",
       "1  0195153448                                Classical Mythology   \n",
       "2  0002005018                                       Clara Callan   \n",
       "3  0060973129                               Decision in Normandy   \n",
       "4  0374157065  Flu: The Story of the Great Influenza Pandemic...   \n",
       "\n",
       "            book_author  year_of_publication                publisher  \\\n",
       "0           Book-Author  Year-Of-Publication                Publisher   \n",
       "1    Mark P. O. Morford                 2002  Oxford University Press   \n",
       "2  Richard Bruce Wright                 2001    HarperFlamingo Canada   \n",
       "3          Carlo D'Este                 1991          HarperPerennial   \n",
       "4      Gina Bari Kolata                 1999     Farrar Straus Giroux   \n",
       "\n",
       "                                               img_s  \\\n",
       "0                                        Image-URL-S   \n",
       "1  http://images.amazon.com/images/P/0195153448.0...   \n",
       "2  http://images.amazon.com/images/P/0002005018.0...   \n",
       "3  http://images.amazon.com/images/P/0060973129.0...   \n",
       "4  http://images.amazon.com/images/P/0374157065.0...   \n",
       "\n",
       "                                               img_m  \\\n",
       "0                                        Image-URL-M   \n",
       "1  http://images.amazon.com/images/P/0195153448.0...   \n",
       "2  http://images.amazon.com/images/P/0002005018.0...   \n",
       "3  http://images.amazon.com/images/P/0060973129.0...   \n",
       "4  http://images.amazon.com/images/P/0374157065.0...   \n",
       "\n",
       "                                               img_l  \n",
       "0                                        Image-URL-L  \n",
       "1  http://images.amazon.com/images/P/0195153448.0...  \n",
       "2  http://images.amazon.com/images/P/0002005018.0...  \n",
       "3  http://images.amazon.com/images/P/0060973129.0...  \n",
       "4  http://images.amazon.com/images/P/0374157065.0...  "
      ]
     },
     "execution_count": 4,
     "metadata": {},
     "output_type": "execute_result"
    }
   ],
   "source": [
    "books.head()"
   ]
  },
  {
   "cell_type": "code",
   "execution_count": 5,
   "metadata": {
    "execution": {
     "iopub.execute_input": "2021-03-15T23:56:56.639840Z",
     "iopub.status.busy": "2021-03-15T23:56:56.638663Z",
     "iopub.status.idle": "2021-03-15T23:56:56.647073Z",
     "shell.execute_reply": "2021-03-15T23:56:56.647658Z"
    },
    "papermill": {
     "duration": 0.039286,
     "end_time": "2021-03-15T23:56:56.647846",
     "exception": false,
     "start_time": "2021-03-15T23:56:56.608560",
     "status": "completed"
    },
    "tags": []
   },
   "outputs": [
    {
     "data": {
      "text/html": [
       "<div>\n",
       "<style scoped>\n",
       "    .dataframe tbody tr th:only-of-type {\n",
       "        vertical-align: middle;\n",
       "    }\n",
       "\n",
       "    .dataframe tbody tr th {\n",
       "        vertical-align: top;\n",
       "    }\n",
       "\n",
       "    .dataframe thead th {\n",
       "        text-align: right;\n",
       "    }\n",
       "</style>\n",
       "<table border=\"1\" class=\"dataframe\">\n",
       "  <thead>\n",
       "    <tr style=\"text-align: right;\">\n",
       "      <th></th>\n",
       "      <th>user_id</th>\n",
       "      <th>isbn</th>\n",
       "      <th>rating</th>\n",
       "    </tr>\n",
       "  </thead>\n",
       "  <tbody>\n",
       "    <tr>\n",
       "      <th>0</th>\n",
       "      <td>User-ID</td>\n",
       "      <td>ISBN</td>\n",
       "      <td>Book-Rating</td>\n",
       "    </tr>\n",
       "    <tr>\n",
       "      <th>1</th>\n",
       "      <td>276725</td>\n",
       "      <td>034545104X</td>\n",
       "      <td>0</td>\n",
       "    </tr>\n",
       "    <tr>\n",
       "      <th>2</th>\n",
       "      <td>276726</td>\n",
       "      <td>0155061224</td>\n",
       "      <td>5</td>\n",
       "    </tr>\n",
       "    <tr>\n",
       "      <th>3</th>\n",
       "      <td>276727</td>\n",
       "      <td>0446520802</td>\n",
       "      <td>0</td>\n",
       "    </tr>\n",
       "    <tr>\n",
       "      <th>4</th>\n",
       "      <td>276729</td>\n",
       "      <td>052165615X</td>\n",
       "      <td>3</td>\n",
       "    </tr>\n",
       "  </tbody>\n",
       "</table>\n",
       "</div>"
      ],
      "text/plain": [
       "   user_id        isbn       rating\n",
       "0  User-ID        ISBN  Book-Rating\n",
       "1   276725  034545104X            0\n",
       "2   276726  0155061224            5\n",
       "3   276727  0446520802            0\n",
       "4   276729  052165615X            3"
      ]
     },
     "execution_count": 5,
     "metadata": {},
     "output_type": "execute_result"
    }
   ],
   "source": [
    "ratings.head()"
   ]
  },
  {
   "cell_type": "code",
   "execution_count": 6,
   "metadata": {
    "execution": {
     "iopub.execute_input": "2021-03-15T23:56:56.698591Z",
     "iopub.status.busy": "2021-03-15T23:56:56.697860Z",
     "iopub.status.idle": "2021-03-15T23:56:56.871727Z",
     "shell.execute_reply": "2021-03-15T23:56:56.871187Z"
    },
    "papermill": {
     "duration": 0.200563,
     "end_time": "2021-03-15T23:56:56.871968",
     "exception": false,
     "start_time": "2021-03-15T23:56:56.671405",
     "status": "completed"
    },
    "tags": []
   },
   "outputs": [],
   "source": [
    "#elimina a linha 0 de todos os datasets (que sao os antigos nomes das colunas do dataset)\n",
    "users = users.drop(users.index[0])\n",
    "books = books.drop(books.index[0])\n",
    "ratings = ratings.drop(ratings.index[0])"
   ]
  },
  {
   "cell_type": "markdown",
   "metadata": {
    "papermill": {
     "duration": 0.023474,
     "end_time": "2021-03-15T23:56:56.919460",
     "exception": false,
     "start_time": "2021-03-15T23:56:56.895986",
     "status": "completed"
    },
    "tags": []
   },
   "source": [
    "## Changing variable types"
   ]
  },
  {
   "cell_type": "code",
   "execution_count": 7,
   "metadata": {
    "execution": {
     "iopub.execute_input": "2021-03-15T23:56:56.974924Z",
     "iopub.status.busy": "2021-03-15T23:56:56.974048Z",
     "iopub.status.idle": "2021-03-15T23:56:56.979200Z",
     "shell.execute_reply": "2021-03-15T23:56:56.978684Z"
    },
    "papermill": {
     "duration": 0.035686,
     "end_time": "2021-03-15T23:56:56.979334",
     "exception": false,
     "start_time": "2021-03-15T23:56:56.943648",
     "status": "completed"
    },
    "tags": []
   },
   "outputs": [
    {
     "data": {
      "text/plain": [
       "user_id    object\n",
       "isbn       object\n",
       "rating     object\n",
       "dtype: object"
      ]
     },
     "execution_count": 7,
     "metadata": {},
     "output_type": "execute_result"
    }
   ],
   "source": [
    "ratings.dtypes"
   ]
  },
  {
   "cell_type": "code",
   "execution_count": 8,
   "metadata": {
    "execution": {
     "iopub.execute_input": "2021-03-15T23:56:57.035169Z",
     "iopub.status.busy": "2021-03-15T23:56:57.034295Z",
     "iopub.status.idle": "2021-03-15T23:56:57.039195Z",
     "shell.execute_reply": "2021-03-15T23:56:57.038689Z"
    },
    "papermill": {
     "duration": 0.035702,
     "end_time": "2021-03-15T23:56:57.039331",
     "exception": false,
     "start_time": "2021-03-15T23:56:57.003629",
     "status": "completed"
    },
    "tags": []
   },
   "outputs": [
    {
     "data": {
      "text/plain": [
       "user_id     object\n",
       "location    object\n",
       "age         object\n",
       "dtype: object"
      ]
     },
     "execution_count": 8,
     "metadata": {},
     "output_type": "execute_result"
    }
   ],
   "source": [
    "users.dtypes"
   ]
  },
  {
   "cell_type": "code",
   "execution_count": 9,
   "metadata": {
    "execution": {
     "iopub.execute_input": "2021-03-15T23:56:57.095134Z",
     "iopub.status.busy": "2021-03-15T23:56:57.091343Z",
     "iopub.status.idle": "2021-03-15T23:56:57.099104Z",
     "shell.execute_reply": "2021-03-15T23:56:57.099568Z"
    },
    "papermill": {
     "duration": 0.035832,
     "end_time": "2021-03-15T23:56:57.099749",
     "exception": false,
     "start_time": "2021-03-15T23:56:57.063917",
     "status": "completed"
    },
    "tags": []
   },
   "outputs": [
    {
     "data": {
      "text/plain": [
       "isbn                   object\n",
       "book_title             object\n",
       "book_author            object\n",
       "year_of_publication    object\n",
       "publisher              object\n",
       "img_s                  object\n",
       "img_m                  object\n",
       "img_l                  object\n",
       "dtype: object"
      ]
     },
     "execution_count": 9,
     "metadata": {},
     "output_type": "execute_result"
    }
   ],
   "source": [
    "books.dtypes"
   ]
  },
  {
   "cell_type": "code",
   "execution_count": 10,
   "metadata": {
    "execution": {
     "iopub.execute_input": "2021-03-15T23:56:57.153706Z",
     "iopub.status.busy": "2021-03-15T23:56:57.152761Z",
     "iopub.status.idle": "2021-03-15T23:56:57.758650Z",
     "shell.execute_reply": "2021-03-15T23:56:57.759125Z"
    },
    "papermill": {
     "duration": 0.634351,
     "end_time": "2021-03-15T23:56:57.759310",
     "exception": false,
     "start_time": "2021-03-15T23:56:57.124959",
     "status": "completed"
    },
    "tags": []
   },
   "outputs": [],
   "source": [
    "#mudando os dtypes das variáveis de object para float e int\n",
    "users['age'] = users['age'].astype(float)\n",
    "users['user_id'] = users['user_id'].astype(int)\n",
    "ratings['user_id'] = ratings['user_id'].astype(int)\n",
    "ratings['rating'] = ratings['rating'].astype(int)\n",
    "books['year_of_publication'] = books['year_of_publication'].astype(int)"
   ]
  },
  {
   "cell_type": "markdown",
   "metadata": {
    "papermill": {
     "duration": 0.025372,
     "end_time": "2021-03-15T23:56:57.810214",
     "exception": false,
     "start_time": "2021-03-15T23:56:57.784842",
     "status": "completed"
    },
    "tags": []
   },
   "source": [
    "## Dealing with missing data\n",
    "\n",
    "### User dataset"
   ]
  },
  {
   "cell_type": "code",
   "execution_count": 11,
   "metadata": {
    "execution": {
     "iopub.execute_input": "2021-03-15T23:56:57.896952Z",
     "iopub.status.busy": "2021-03-15T23:56:57.896212Z",
     "iopub.status.idle": "2021-03-15T23:56:57.904675Z",
     "shell.execute_reply": "2021-03-15T23:56:57.904076Z"
    },
    "papermill": {
     "duration": 0.069016,
     "end_time": "2021-03-15T23:56:57.904835",
     "exception": false,
     "start_time": "2021-03-15T23:56:57.835819",
     "status": "completed"
    },
    "tags": []
   },
   "outputs": [
    {
     "data": {
      "text/plain": [
       "user_id          0\n",
       "location         0\n",
       "age         110762\n",
       "dtype: int64"
      ]
     },
     "execution_count": 11,
     "metadata": {},
     "output_type": "execute_result"
    }
   ],
   "source": [
    "#quantos valores nulos tem no dataset\n",
    "users.isnull().sum()"
   ]
  },
  {
   "cell_type": "code",
   "execution_count": 12,
   "metadata": {
    "execution": {
     "iopub.execute_input": "2021-03-15T23:56:57.961847Z",
     "iopub.status.busy": "2021-03-15T23:56:57.961155Z",
     "iopub.status.idle": "2021-03-15T23:56:57.982767Z",
     "shell.execute_reply": "2021-03-15T23:56:57.983225Z"
    },
    "papermill": {
     "duration": 0.052806,
     "end_time": "2021-03-15T23:56:57.983415",
     "exception": false,
     "start_time": "2021-03-15T23:56:57.930609",
     "status": "completed"
    },
    "tags": []
   },
   "outputs": [
    {
     "data": {
      "text/plain": [
       "count    168096.000000\n",
       "mean         34.751434\n",
       "std          14.428097\n",
       "min           0.000000\n",
       "25%          24.000000\n",
       "50%          32.000000\n",
       "75%          44.000000\n",
       "max         244.000000\n",
       "Name: age, dtype: float64"
      ]
     },
     "execution_count": 12,
     "metadata": {},
     "output_type": "execute_result"
    }
   ],
   "source": [
    "#descreve os valores estatitisticos para a variavel da idade\n",
    "users.age.describe()"
   ]
  },
  {
   "cell_type": "markdown",
   "metadata": {
    "papermill": {
     "duration": 0.026562,
     "end_time": "2021-03-15T23:56:58.037043",
     "exception": false,
     "start_time": "2021-03-15T23:56:58.010481",
     "status": "completed"
    },
    "tags": []
   },
   "source": [
    "De acordo com a função Describe(), a idade máxima no dataset é 244, e a mínima é 0. O que indica a presença de Outliers."
   ]
  },
  {
   "cell_type": "code",
   "execution_count": 13,
   "metadata": {
    "execution": {
     "iopub.execute_input": "2021-03-15T23:56:58.098503Z",
     "iopub.status.busy": "2021-03-15T23:56:58.097855Z",
     "iopub.status.idle": "2021-03-15T23:56:58.137004Z",
     "shell.execute_reply": "2021-03-15T23:56:58.137534Z"
    },
    "papermill": {
     "duration": 0.072524,
     "end_time": "2021-03-15T23:56:58.137735",
     "exception": false,
     "start_time": "2021-03-15T23:56:58.065211",
     "status": "completed"
    },
    "tags": []
   },
   "outputs": [],
   "source": [
    "#se idade > 99 e <5, transformar em valor nulo\n",
    "users.loc[(users.age>99) | (users.age<5),'age'] = np.nan\n",
    "#substituir todas as idades nulas pela média de idades no dataset\n",
    "users.age = users.age.fillna(users.age.mean())"
   ]
  },
  {
   "cell_type": "markdown",
   "metadata": {
    "papermill": {
     "duration": 0.026118,
     "end_time": "2021-03-15T23:56:58.190414",
     "exception": false,
     "start_time": "2021-03-15T23:56:58.164296",
     "status": "completed"
    },
    "tags": []
   },
   "source": [
    "### Ratings dataset"
   ]
  },
  {
   "cell_type": "code",
   "execution_count": 14,
   "metadata": {
    "execution": {
     "iopub.execute_input": "2021-03-15T23:56:58.391859Z",
     "iopub.status.busy": "2021-03-15T23:56:58.391164Z",
     "iopub.status.idle": "2021-03-15T23:56:58.403464Z",
     "shell.execute_reply": "2021-03-15T23:56:58.402806Z"
    },
    "papermill": {
     "duration": 0.186697,
     "end_time": "2021-03-15T23:56:58.403639",
     "exception": false,
     "start_time": "2021-03-15T23:56:58.216942",
     "status": "completed"
    },
    "tags": []
   },
   "outputs": [
    {
     "data": {
      "text/plain": [
       "user_id    0\n",
       "isbn       0\n",
       "rating     0\n",
       "dtype: int64"
      ]
     },
     "execution_count": 14,
     "metadata": {},
     "output_type": "execute_result"
    }
   ],
   "source": [
    "#quantos valores nulos tem no dataset\n",
    "ratings.isnull().sum()"
   ]
  },
  {
   "cell_type": "markdown",
   "metadata": {
    "papermill": {
     "duration": 0.026424,
     "end_time": "2021-03-15T23:56:58.456865",
     "exception": false,
     "start_time": "2021-03-15T23:56:58.430441",
     "status": "completed"
    },
    "tags": []
   },
   "source": [
    "### Book dataset"
   ]
  },
  {
   "cell_type": "code",
   "execution_count": 15,
   "metadata": {
    "execution": {
     "iopub.execute_input": "2021-03-15T23:56:58.712600Z",
     "iopub.status.busy": "2021-03-15T23:56:58.711905Z",
     "iopub.status.idle": "2021-03-15T23:56:58.722159Z",
     "shell.execute_reply": "2021-03-15T23:56:58.721415Z"
    },
    "papermill": {
     "duration": 0.238567,
     "end_time": "2021-03-15T23:56:58.722297",
     "exception": false,
     "start_time": "2021-03-15T23:56:58.483730",
     "status": "completed"
    },
    "tags": []
   },
   "outputs": [
    {
     "data": {
      "text/plain": [
       "isbn                   0\n",
       "book_title             0\n",
       "book_author            1\n",
       "year_of_publication    0\n",
       "publisher              2\n",
       "img_s                  0\n",
       "img_m                  0\n",
       "img_l                  0\n",
       "dtype: int64"
      ]
     },
     "execution_count": 15,
     "metadata": {},
     "output_type": "execute_result"
    }
   ],
   "source": [
    "#quantos valores nulos tem no dataset\n",
    "books.isnull().sum()"
   ]
  },
  {
   "cell_type": "code",
   "execution_count": 16,
   "metadata": {
    "execution": {
     "iopub.execute_input": "2021-03-15T23:56:58.819870Z",
     "iopub.status.busy": "2021-03-15T23:56:58.818889Z",
     "iopub.status.idle": "2021-03-15T23:56:58.824455Z",
     "shell.execute_reply": "2021-03-15T23:56:58.823954Z"
    },
    "papermill": {
     "duration": 0.075205,
     "end_time": "2021-03-15T23:56:58.824617",
     "exception": false,
     "start_time": "2021-03-15T23:56:58.749412",
     "status": "completed"
    },
    "tags": []
   },
   "outputs": [
    {
     "data": {
      "text/html": [
       "<div>\n",
       "<style scoped>\n",
       "    .dataframe tbody tr th:only-of-type {\n",
       "        vertical-align: middle;\n",
       "    }\n",
       "\n",
       "    .dataframe tbody tr th {\n",
       "        vertical-align: top;\n",
       "    }\n",
       "\n",
       "    .dataframe thead th {\n",
       "        text-align: right;\n",
       "    }\n",
       "</style>\n",
       "<table border=\"1\" class=\"dataframe\">\n",
       "  <thead>\n",
       "    <tr style=\"text-align: right;\">\n",
       "      <th></th>\n",
       "      <th>isbn</th>\n",
       "      <th>book_title</th>\n",
       "      <th>book_author</th>\n",
       "      <th>year_of_publication</th>\n",
       "      <th>publisher</th>\n",
       "      <th>img_s</th>\n",
       "      <th>img_m</th>\n",
       "      <th>img_l</th>\n",
       "    </tr>\n",
       "  </thead>\n",
       "  <tbody>\n",
       "    <tr>\n",
       "      <th>128897</th>\n",
       "      <td>193169656X</td>\n",
       "      <td>Tyrant Moon</td>\n",
       "      <td>Elaine Corvidae</td>\n",
       "      <td>2002</td>\n",
       "      <td>NaN</td>\n",
       "      <td>http://images.amazon.com/images/P/193169656X.0...</td>\n",
       "      <td>http://images.amazon.com/images/P/193169656X.0...</td>\n",
       "      <td>http://images.amazon.com/images/P/193169656X.0...</td>\n",
       "    </tr>\n",
       "    <tr>\n",
       "      <th>129044</th>\n",
       "      <td>1931696993</td>\n",
       "      <td>Finders Keepers</td>\n",
       "      <td>Linnea Sinclair</td>\n",
       "      <td>2001</td>\n",
       "      <td>NaN</td>\n",
       "      <td>http://images.amazon.com/images/P/1931696993.0...</td>\n",
       "      <td>http://images.amazon.com/images/P/1931696993.0...</td>\n",
       "      <td>http://images.amazon.com/images/P/1931696993.0...</td>\n",
       "    </tr>\n",
       "  </tbody>\n",
       "</table>\n",
       "</div>"
      ],
      "text/plain": [
       "              isbn       book_title      book_author  year_of_publication  \\\n",
       "128897  193169656X      Tyrant Moon  Elaine Corvidae                 2002   \n",
       "129044  1931696993  Finders Keepers  Linnea Sinclair                 2001   \n",
       "\n",
       "       publisher                                              img_s  \\\n",
       "128897       NaN  http://images.amazon.com/images/P/193169656X.0...   \n",
       "129044       NaN  http://images.amazon.com/images/P/1931696993.0...   \n",
       "\n",
       "                                                    img_m  \\\n",
       "128897  http://images.amazon.com/images/P/193169656X.0...   \n",
       "129044  http://images.amazon.com/images/P/1931696993.0...   \n",
       "\n",
       "                                                    img_l  \n",
       "128897  http://images.amazon.com/images/P/193169656X.0...  \n",
       "129044  http://images.amazon.com/images/P/1931696993.0...  "
      ]
     },
     "execution_count": 16,
     "metadata": {},
     "output_type": "execute_result"
    }
   ],
   "source": [
    "#mostrar quais livros tem o publisher faltando\n",
    "books.loc[books.publisher.isnull(),:]"
   ]
  },
  {
   "cell_type": "code",
   "execution_count": 17,
   "metadata": {
    "execution": {
     "iopub.execute_input": "2021-03-15T23:56:58.928149Z",
     "iopub.status.busy": "2021-03-15T23:56:58.927418Z",
     "iopub.status.idle": "2021-03-15T23:56:58.983470Z",
     "shell.execute_reply": "2021-03-15T23:56:58.982350Z"
    },
    "papermill": {
     "duration": 0.131151,
     "end_time": "2021-03-15T23:56:58.983654",
     "exception": false,
     "start_time": "2021-03-15T23:56:58.852503",
     "status": "completed"
    },
    "tags": []
   },
   "outputs": [],
   "source": [
    "#fornece a informação para os publishers que estão em falta \n",
    "books.loc[books.isbn=='193169656X','publisher']='Mundania Press LLC'\n",
    "books.loc[books.isbn=='1931696993','publisher']='Novelbooks Incorporated'"
   ]
  },
  {
   "cell_type": "code",
   "execution_count": 18,
   "metadata": {
    "execution": {
     "iopub.execute_input": "2021-03-15T23:56:59.080083Z",
     "iopub.status.busy": "2021-03-15T23:56:59.079353Z",
     "iopub.status.idle": "2021-03-15T23:56:59.093978Z",
     "shell.execute_reply": "2021-03-15T23:56:59.093403Z"
    },
    "papermill": {
     "duration": 0.079263,
     "end_time": "2021-03-15T23:56:59.094129",
     "exception": false,
     "start_time": "2021-03-15T23:56:59.014866",
     "status": "completed"
    },
    "tags": []
   },
   "outputs": [
    {
     "data": {
      "text/html": [
       "<div>\n",
       "<style scoped>\n",
       "    .dataframe tbody tr th:only-of-type {\n",
       "        vertical-align: middle;\n",
       "    }\n",
       "\n",
       "    .dataframe tbody tr th {\n",
       "        vertical-align: top;\n",
       "    }\n",
       "\n",
       "    .dataframe thead th {\n",
       "        text-align: right;\n",
       "    }\n",
       "</style>\n",
       "<table border=\"1\" class=\"dataframe\">\n",
       "  <thead>\n",
       "    <tr style=\"text-align: right;\">\n",
       "      <th></th>\n",
       "      <th>isbn</th>\n",
       "      <th>book_title</th>\n",
       "      <th>book_author</th>\n",
       "      <th>year_of_publication</th>\n",
       "      <th>publisher</th>\n",
       "      <th>img_s</th>\n",
       "      <th>img_m</th>\n",
       "      <th>img_l</th>\n",
       "    </tr>\n",
       "  </thead>\n",
       "  <tbody>\n",
       "    <tr>\n",
       "      <th>187701</th>\n",
       "      <td>9627982032</td>\n",
       "      <td>The Credit Suisse Guide to Managing Your Perso...</td>\n",
       "      <td>NaN</td>\n",
       "      <td>1995</td>\n",
       "      <td>Edinburgh Financial Publishing</td>\n",
       "      <td>http://images.amazon.com/images/P/9627982032.0...</td>\n",
       "      <td>http://images.amazon.com/images/P/9627982032.0...</td>\n",
       "      <td>http://images.amazon.com/images/P/9627982032.0...</td>\n",
       "    </tr>\n",
       "  </tbody>\n",
       "</table>\n",
       "</div>"
      ],
      "text/plain": [
       "              isbn                                         book_title  \\\n",
       "187701  9627982032  The Credit Suisse Guide to Managing Your Perso...   \n",
       "\n",
       "       book_author  year_of_publication                       publisher  \\\n",
       "187701         NaN                 1995  Edinburgh Financial Publishing   \n",
       "\n",
       "                                                    img_s  \\\n",
       "187701  http://images.amazon.com/images/P/9627982032.0...   \n",
       "\n",
       "                                                    img_m  \\\n",
       "187701  http://images.amazon.com/images/P/9627982032.0...   \n",
       "\n",
       "                                                    img_l  \n",
       "187701  http://images.amazon.com/images/P/9627982032.0...  "
      ]
     },
     "execution_count": 18,
     "metadata": {},
     "output_type": "execute_result"
    }
   ],
   "source": [
    "#mostrar qual livro tem o autor faltando\n",
    "books.loc[books.book_author.isnull(),:]"
   ]
  },
  {
   "cell_type": "code",
   "execution_count": 19,
   "metadata": {
    "execution": {
     "iopub.execute_input": "2021-03-15T23:56:59.201623Z",
     "iopub.status.busy": "2021-03-15T23:56:59.200902Z",
     "iopub.status.idle": "2021-03-15T23:56:59.214124Z",
     "shell.execute_reply": "2021-03-15T23:56:59.213567Z"
    },
    "papermill": {
     "duration": 0.091272,
     "end_time": "2021-03-15T23:56:59.214276",
     "exception": false,
     "start_time": "2021-03-15T23:56:59.123004",
     "status": "completed"
    },
    "tags": []
   },
   "outputs": [],
   "source": [
    "#fornece a informação do autor que está em falta \n",
    "books.loc[books.isbn=='9627982032','book_author']='Larissa Anne Downe'"
   ]
  },
  {
   "cell_type": "code",
   "execution_count": 20,
   "metadata": {
    "execution": {
     "iopub.execute_input": "2021-03-15T23:56:59.280308Z",
     "iopub.status.busy": "2021-03-15T23:56:59.279672Z",
     "iopub.status.idle": "2021-03-15T23:56:59.285767Z",
     "shell.execute_reply": "2021-03-15T23:56:59.286421Z"
    },
    "papermill": {
     "duration": 0.042168,
     "end_time": "2021-03-15T23:56:59.286678",
     "exception": false,
     "start_time": "2021-03-15T23:56:59.244510",
     "status": "completed"
    },
    "tags": []
   },
   "outputs": [
    {
     "name": "stdout",
     "output_type": "stream",
     "text": [
      "[0, 1376, 1378, 1806, 1897, 1900, 1901, 1902, 1904, 1906, 1908, 1909, 1910, 1911, 1914, 1917, 1919, 1920, 1921, 1922, 1923, 1924, 1925, 1926, 1927, 1928, 1929, 1930, 1931, 1932, 1933, 1934, 1935, 1936, 1937, 1938, 1939, 1940, 1941, 1942, 1943, 1944, 1945, 1946, 1947, 1948, 1949, 1950, 1951, 1952, 1953, 1954, 1955, 1956, 1957, 1958, 1959, 1960, 1961, 1962, 1963, 1964, 1965, 1966, 1967, 1968, 1969, 1970, 1971, 1972, 1973, 1974, 1975, 1976, 1977, 1978, 1979, 1980, 1981, 1982, 1983, 1984, 1985, 1986, 1987, 1988, 1989, 1990, 1991, 1992, 1993, 1994, 1995, 1996, 1997, 1998, 1999, 2000, 2001, 2002, 2003, 2004, 2005, 2006, 2008, 2010, 2011, 2012, 2020, 2021, 2024, 2026, 2030, 2037, 2038, 2050]\n"
     ]
    }
   ],
   "source": [
    "print(sorted(books['year_of_publication'].unique()))"
   ]
  },
  {
   "cell_type": "code",
   "execution_count": 21,
   "metadata": {
    "execution": {
     "iopub.execute_input": "2021-03-15T23:56:59.352768Z",
     "iopub.status.busy": "2021-03-15T23:56:59.352107Z",
     "iopub.status.idle": "2021-03-15T23:56:59.372433Z",
     "shell.execute_reply": "2021-03-15T23:56:59.371639Z"
    },
    "papermill": {
     "duration": 0.055931,
     "end_time": "2021-03-15T23:56:59.372601",
     "exception": false,
     "start_time": "2021-03-15T23:56:59.316670",
     "status": "completed"
    },
    "tags": []
   },
   "outputs": [
    {
     "data": {
      "text/plain": [
       "count    271379.000000\n",
       "mean       1959.756050\n",
       "std         258.011363\n",
       "min           0.000000\n",
       "25%        1989.000000\n",
       "50%        1995.000000\n",
       "75%        2000.000000\n",
       "max        2050.000000\n",
       "Name: year_of_publication, dtype: float64"
      ]
     },
     "execution_count": 21,
     "metadata": {},
     "output_type": "execute_result"
    }
   ],
   "source": [
    "#descreve os valores estatitisticos para a variavel do ano\n",
    "books.year_of_publication.describe()"
   ]
  },
  {
   "cell_type": "markdown",
   "metadata": {
    "papermill": {
     "duration": 0.029988,
     "end_time": "2021-03-15T23:56:59.432241",
     "exception": false,
     "start_time": "2021-03-15T23:56:59.402253",
     "status": "completed"
    },
    "tags": []
   },
   "source": [
    "OBS: É possível perceber que a informação sobre o ano de lançamento de alguns livros está errada, mas considerando que a informação do ano não é relevante para uma recomendação, eu não vou tratar esses valores."
   ]
  },
  {
   "cell_type": "markdown",
   "metadata": {
    "papermill": {
     "duration": 0.029517,
     "end_time": "2021-03-15T23:56:59.491699",
     "exception": false,
     "start_time": "2021-03-15T23:56:59.462182",
     "status": "completed"
    },
    "tags": []
   },
   "source": [
    "## Rating Distribution\n",
    "\n",
    "> 📌Note: This dataset contains both explicit ratings, on a 1–10 scale and implicit actions of unspecified nature.\n",
    "\n",
    "> 0 values indicate all interactions without rating values."
   ]
  },
  {
   "cell_type": "code",
   "execution_count": 22,
   "metadata": {
    "execution": {
     "iopub.execute_input": "2021-03-15T23:56:59.558477Z",
     "iopub.status.busy": "2021-03-15T23:56:59.557607Z",
     "iopub.status.idle": "2021-03-15T23:56:59.572933Z",
     "shell.execute_reply": "2021-03-15T23:56:59.573502Z"
    },
    "papermill": {
     "duration": 0.052206,
     "end_time": "2021-03-15T23:56:59.573695",
     "exception": false,
     "start_time": "2021-03-15T23:56:59.521489",
     "status": "completed"
    },
    "tags": []
   },
   "outputs": [
    {
     "data": {
      "text/plain": [
       "0     716109\n",
       "8     103736\n",
       "10     78610\n",
       "7      76457\n",
       "9      67541\n",
       "5      50974\n",
       "6      36924\n",
       "4       8904\n",
       "3       5996\n",
       "2       2759\n",
       "1       1770\n",
       "Name: rating, dtype: int64"
      ]
     },
     "execution_count": 22,
     "metadata": {},
     "output_type": "execute_result"
    }
   ],
   "source": [
    "ratings['rating'].value_counts()"
   ]
  },
  {
   "cell_type": "code",
   "execution_count": 23,
   "metadata": {
    "execution": {
     "iopub.execute_input": "2021-03-15T23:56:59.637306Z",
     "iopub.status.busy": "2021-03-15T23:56:59.636705Z",
     "iopub.status.idle": "2021-03-15T23:56:59.694338Z",
     "shell.execute_reply": "2021-03-15T23:56:59.693672Z"
    },
    "papermill": {
     "duration": 0.090579,
     "end_time": "2021-03-15T23:56:59.694607",
     "exception": false,
     "start_time": "2021-03-15T23:56:59.604028",
     "status": "completed"
    },
    "tags": []
   },
   "outputs": [],
   "source": [
    "# manter apenas as avaliações explicitas - nota 0 signfica que o usuario apenas interagiu com o produto de alguma forma\n",
    "ratings=ratings.loc[ratings['rating']>0]"
   ]
  },
  {
   "cell_type": "code",
   "execution_count": 24,
   "metadata": {
    "execution": {
     "iopub.execute_input": "2021-03-15T23:56:59.764003Z",
     "iopub.status.busy": "2021-03-15T23:56:59.763296Z",
     "iopub.status.idle": "2021-03-15T23:57:00.059479Z",
     "shell.execute_reply": "2021-03-15T23:57:00.059955Z"
    },
    "papermill": {
     "duration": 0.334982,
     "end_time": "2021-03-15T23:57:00.060147",
     "exception": false,
     "start_time": "2021-03-15T23:56:59.725165",
     "status": "completed"
    },
    "tags": []
   },
   "outputs": [
    {
     "data": {
      "image/png": "[encoded data removed]",
      "text/plain": [
       "<Figure size 720x576 with 1 Axes>"
      ]
     },
     "metadata": {
      "needs_background": "light"
     },
     "output_type": "display_data"
    }
   ],
   "source": [
    "plt.figure(figsize=(10,8))\n",
    "sns.countplot(x='rating',data=ratings)\n",
    "plt.title('Rating Distribution',size=20)\n",
    "plt.show()"
   ]
  },
  {
   "cell_type": "code",
   "execution_count": 25,
   "metadata": {
    "execution": {
     "iopub.execute_input": "2021-03-15T23:57:00.126129Z",
     "iopub.status.busy": "2021-03-15T23:57:00.125167Z",
     "iopub.status.idle": "2021-03-15T23:57:00.155221Z",
     "shell.execute_reply": "2021-03-15T23:57:00.155693Z"
    },
    "papermill": {
     "duration": 0.064748,
     "end_time": "2021-03-15T23:57:00.155888",
     "exception": false,
     "start_time": "2021-03-15T23:57:00.091140",
     "status": "completed"
    },
    "tags": []
   },
   "outputs": [],
   "source": [
    "#muda o index\n",
    "users.set_index('user_id', inplace=True)\n",
    "books.set_index('isbn',inplace=True)\n",
    "ratings.set_index('user_id', inplace=True)"
   ]
  },
  {
   "cell_type": "code",
   "execution_count": 26,
   "metadata": {
    "execution": {
     "iopub.execute_input": "2021-03-15T23:57:00.222882Z",
     "iopub.status.busy": "2021-03-15T23:57:00.221948Z",
     "iopub.status.idle": "2021-03-15T23:57:00.227728Z",
     "shell.execute_reply": "2021-03-15T23:57:00.227158Z"
    },
    "papermill": {
     "duration": 0.040444,
     "end_time": "2021-03-15T23:57:00.227868",
     "exception": false,
     "start_time": "2021-03-15T23:57:00.187424",
     "status": "completed"
    },
    "tags": []
   },
   "outputs": [],
   "source": [
    "import os\n",
    "os.chdir(r'/kaggle/working')"
   ]
  },
  {
   "cell_type": "code",
   "execution_count": 27,
   "metadata": {
    "execution": {
     "iopub.execute_input": "2021-03-15T23:57:00.295483Z",
     "iopub.status.busy": "2021-03-15T23:57:00.294503Z",
     "iopub.status.idle": "2021-03-15T23:57:06.453205Z",
     "shell.execute_reply": "2021-03-15T23:57:06.453711Z"
    },
    "papermill": {
     "duration": 6.19371,
     "end_time": "2021-03-15T23:57:06.453903",
     "exception": false,
     "start_time": "2021-03-15T23:57:00.260193",
     "status": "completed"
    },
    "tags": []
   },
   "outputs": [],
   "source": [
    "books.to_csv(r'books.csv')\n",
    "users.to_csv(r'users.csv')\n",
    "ratings.to_csv(r'ratings.csv')"
   ]
  },
  {
   "cell_type": "code",
   "execution_count": 28,
   "metadata": {
    "execution": {
     "iopub.execute_input": "2021-03-15T23:57:06.521389Z",
     "iopub.status.busy": "2021-03-15T23:57:06.520421Z",
     "iopub.status.idle": "2021-03-15T23:57:06.525798Z",
     "shell.execute_reply": "2021-03-15T23:57:06.526226Z"
    },
    "papermill": {
     "duration": 0.041195,
     "end_time": "2021-03-15T23:57:06.526410",
     "exception": false,
     "start_time": "2021-03-15T23:57:06.485215",
     "status": "completed"
    },
    "tags": []
   },
   "outputs": [
    {
     "data": {
      "text/html": [
       "<a href='books.csv' target='_blank'>books.csv</a><br>"
      ],
      "text/plain": [
       "/kaggle/working/books.csv"
      ]
     },
     "execution_count": 28,
     "metadata": {},
     "output_type": "execute_result"
    }
   ],
   "source": [
    "from IPython.display import FileLink\n",
    "\n",
    "FileLink(r'books.csv')"
   ]
  },
  {
   "cell_type": "code",
   "execution_count": 29,
   "metadata": {
    "execution": {
     "iopub.execute_input": "2021-03-15T23:57:06.594038Z",
     "iopub.status.busy": "2021-03-15T23:57:06.593112Z",
     "iopub.status.idle": "2021-03-15T23:57:06.598253Z",
     "shell.execute_reply": "2021-03-15T23:57:06.598718Z"
    },
    "papermill": {
     "duration": 0.040748,
     "end_time": "2021-03-15T23:57:06.598888",
     "exception": false,
     "start_time": "2021-03-15T23:57:06.558140",
     "status": "completed"
    },
    "tags": []
   },
   "outputs": [
    {
     "data": {
      "text/html": [
       "<a href='users.csv' target='_blank'>users.csv</a><br>"
      ],
      "text/plain": [
       "/kaggle/working/users.csv"
      ]
     },
     "execution_count": 29,
     "metadata": {},
     "output_type": "execute_result"
    }
   ],
   "source": [
    "FileLink(r'users.csv')"
   ]
  },
  {
   "cell_type": "code",
   "execution_count": 30,
   "metadata": {
    "execution": {
     "iopub.execute_input": "2021-03-15T23:57:06.667818Z",
     "iopub.status.busy": "2021-03-15T23:57:06.666854Z",
     "iopub.status.idle": "2021-03-15T23:57:06.672259Z",
     "shell.execute_reply": "2021-03-15T23:57:06.672880Z"
    },
    "papermill": {
     "duration": 0.041799,
     "end_time": "2021-03-15T23:57:06.673055",
     "exception": false,
     "start_time": "2021-03-15T23:57:06.631256",
     "status": "completed"
    },
    "tags": []
   },
   "outputs": [
    {
     "data": {
      "text/html": [
       "<a href='ratings.csv' target='_blank'>ratings.csv</a><br>"
      ],
      "text/plain": [
       "/kaggle/working/ratings.csv"
      ]
     },
     "execution_count": 30,
     "metadata": {},
     "output_type": "execute_result"
    }
   ],
   "source": [
    "FileLink(r'ratings.csv')"
   ]
  }
 ],
 "metadata": {
  "kernelspec": {
   "display_name": "Python 3",
   "language": "python",
   "name": "python3"
  },
  "language_info": {
   "codemirror_mode": {
    "name": "ipython",
    "version": 3
   },
   "file_extension": ".py",
   "mimetype": "text/x-python",
   "name": "python",
   "nbconvert_exporter": "python",
   "pygments_lexer": "ipython3",
   "version": "3.7.9"
  },
  "papermill": {
   "default_parameters": {},
   "duration": 23.296249,
   "end_time": "2021-03-15T23:57:07.516688",
   "environment_variables": {},
   "exception": null,
   "input_path": "__notebook__.ipynb",
   "output_path": "__notebook__.ipynb",
   "parameters": {},
   "start_time": "2021-03-15T23:56:44.220439",
   "version": "2.2.2"
  }
 },
 "nbformat": 4,
 "nbformat_minor": 4
}
