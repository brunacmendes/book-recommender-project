{
 "cells": [
  {
   "cell_type": "markdown",
   "metadata": {
    "papermill": {
     "duration": 0.026157,
     "end_time": "2021-03-17T02:06:26.038149",
     "exception": false,
     "start_time": "2021-03-17T02:06:26.011992",
     "status": "completed"
    },
    "tags": []
   },
   "source": [
    "# Book-Crossing: Analyzing & Cleaning the dataset\n",
    "## About the data\n",
    "\n",
    "This dataset contains 278,858 users (anonymized but with demographic information) providing 1,149,780 ratings (explicit / implicit) about 271,379 books.\n",
    "\n",
    "> ### Dataset description:\n",
    "\n",
    "> **BX-Books.csv** has 8 columns which include information about books.\n",
    "We can uniquely identify each book with the help of ISBN(International Standard Book Number).\n",
    "The title, author,publisher and year of publication of each book have been listed.\n",
    "The last three columns include the URLs for different sizes of images.\n",
    "\n",
    "> **BX-Users.csv** lists the age and location of a user along with their User-ID.\n",
    "\n",
    "> **BX-Book-Ratings.csv** contains book ratings given by users. The User-ID and ISBN have also been provided."
   ]
  },
  {
   "cell_type": "code",
   "execution_count": 1,
   "metadata": {
    "_cell_guid": "b1076dfc-b9ad-4769-8c92-a6c4dae69d19",
    "_uuid": "8f2839f25d086af736a60e9eeb907d3b93b6e0e5",
    "execution": {
     "iopub.execute_input": "2021-03-17T02:06:26.094658Z",
     "iopub.status.busy": "2021-03-17T02:06:26.093975Z",
     "iopub.status.idle": "2021-03-17T02:06:27.055805Z",
     "shell.execute_reply": "2021-03-17T02:06:27.056524Z"
    },
    "papermill": {
     "duration": 0.993813,
     "end_time": "2021-03-17T02:06:27.056999",
     "exception": false,
     "start_time": "2021-03-17T02:06:26.063186",
     "status": "completed"
    },
    "tags": []
   },
   "outputs": [
    {
     "name": "stdout",
     "output_type": "stream",
     "text": [
      "/kaggle/input/bookcrossing-dataset/Books Data with Category Language and Summary/Preprocessed_data.csv\n",
      "/kaggle/input/bookcrossing-dataset/Book reviews/Book reviews/BX_Books.csv\n",
      "/kaggle/input/bookcrossing-dataset/Book reviews/Book reviews/BX-Book-Ratings.csv\n",
      "/kaggle/input/bookcrossing-dataset/Book reviews/Book reviews/BX-Users.csv\n"
     ]
    }
   ],
   "source": [
    "import numpy as np # linear algebra\n",
    "import pandas as pd # data processing, CSV file I/O (e.g. pd.read_csv)\n",
    "import seaborn as sns\n",
    "import matplotlib.pyplot as plt\n",
    "import requests\n",
    "from PIL import Image as im\n",
    "from IPython.core.display import Image\n",
    "\n",
    "\n",
    "import os\n",
    "for dirname, _, filenames in os.walk('/kaggle/input'):\n",
    "    for filename in filenames:\n",
    "        print(os.path.join(dirname, filename))\n"
   ]
  },
  {
   "cell_type": "markdown",
   "metadata": {
    "papermill": {
     "duration": 0.024915,
     "end_time": "2021-03-17T02:06:27.108736",
     "exception": false,
     "start_time": "2021-03-17T02:06:27.083821",
     "status": "completed"
    },
    "tags": []
   },
   "source": [
    "## Reading the data"
   ]
  },
  {
   "cell_type": "code",
   "execution_count": 2,
   "metadata": {
    "execution": {
     "iopub.execute_input": "2021-03-17T02:06:27.168370Z",
     "iopub.status.busy": "2021-03-17T02:06:27.167686Z",
     "iopub.status.idle": "2021-03-17T02:06:31.745437Z",
     "shell.execute_reply": "2021-03-17T02:06:31.744164Z"
    },
    "papermill": {
     "duration": 4.611796,
     "end_time": "2021-03-17T02:06:31.745636",
     "exception": false,
     "start_time": "2021-03-17T02:06:27.133840",
     "status": "completed"
    },
    "tags": []
   },
   "outputs": [],
   "source": [
    "#Users\n",
    "u_cols = ['user_id', 'location', 'age'] #cria novos nomes pra colunas\n",
    "users = pd.read_csv('/kaggle/input/bookcrossing-dataset/Book reviews/Book reviews/BX-Users.csv', sep=';', names=u_cols, encoding='latin-1',low_memory=False)\n",
    "\n",
    "#Books #cria novos nomes pra colunas\n",
    "i_cols = ['isbn', 'book_title' ,'book_author','year_of_publication', 'publisher', 'img_s', 'img_m', 'img_l']\n",
    "books = pd.read_csv('/kaggle/input/bookcrossing-dataset/Book reviews/Book reviews/BX_Books.csv', sep=';', names=i_cols, encoding='latin-1',low_memory=False)\n",
    "\n",
    "#Ratings #cria novos nomes pra colunas\n",
    "r_cols = ['user_id', 'isbn', 'rating']\n",
    "ratings = pd.read_csv('/kaggle/input/bookcrossing-dataset/Book reviews/Book reviews/BX-Book-Ratings.csv', sep=';', names=r_cols, encoding='latin-1',low_memory=False)"
   ]
  },
  {
   "cell_type": "code",
   "execution_count": 3,
   "metadata": {
    "execution": {
     "iopub.execute_input": "2021-03-17T02:06:31.815866Z",
     "iopub.status.busy": "2021-03-17T02:06:31.814988Z",
     "iopub.status.idle": "2021-03-17T02:06:31.835330Z",
     "shell.execute_reply": "2021-03-17T02:06:31.834694Z"
    },
    "papermill": {
     "duration": 0.061508,
     "end_time": "2021-03-17T02:06:31.835468",
     "exception": false,
     "start_time": "2021-03-17T02:06:31.773960",
     "status": "completed"
    },
    "tags": []
   },
   "outputs": [
    {
     "data": {
      "text/html": [
       "<div>\n",
       "<style scoped>\n",
       "    .dataframe tbody tr th:only-of-type {\n",
       "        vertical-align: middle;\n",
       "    }\n",
       "\n",
       "    .dataframe tbody tr th {\n",
       "        vertical-align: top;\n",
       "    }\n",
       "\n",
       "    .dataframe thead th {\n",
       "        text-align: right;\n",
       "    }\n",
       "</style>\n",
       "<table border=\"1\" class=\"dataframe\">\n",
       "  <thead>\n",
       "    <tr style=\"text-align: right;\">\n",
       "      <th></th>\n",
       "      <th>user_id</th>\n",
       "      <th>location</th>\n",
       "      <th>age</th>\n",
       "    </tr>\n",
       "  </thead>\n",
       "  <tbody>\n",
       "    <tr>\n",
       "      <th>0</th>\n",
       "      <td>User-ID</td>\n",
       "      <td>Location</td>\n",
       "      <td>Age</td>\n",
       "    </tr>\n",
       "    <tr>\n",
       "      <th>1</th>\n",
       "      <td>1</td>\n",
       "      <td>nyc, new york, usa</td>\n",
       "      <td>NaN</td>\n",
       "    </tr>\n",
       "    <tr>\n",
       "      <th>2</th>\n",
       "      <td>2</td>\n",
       "      <td>stockton, california, usa</td>\n",
       "      <td>18</td>\n",
       "    </tr>\n",
       "    <tr>\n",
       "      <th>3</th>\n",
       "      <td>3</td>\n",
       "      <td>moscow, yukon territory, russia</td>\n",
       "      <td>NaN</td>\n",
       "    </tr>\n",
       "    <tr>\n",
       "      <th>4</th>\n",
       "      <td>4</td>\n",
       "      <td>porto, v.n.gaia, portugal</td>\n",
       "      <td>17</td>\n",
       "    </tr>\n",
       "  </tbody>\n",
       "</table>\n",
       "</div>"
      ],
      "text/plain": [
       "   user_id                         location  age\n",
       "0  User-ID                         Location  Age\n",
       "1        1               nyc, new york, usa  NaN\n",
       "2        2        stockton, california, usa   18\n",
       "3        3  moscow, yukon territory, russia  NaN\n",
       "4        4        porto, v.n.gaia, portugal   17"
      ]
     },
     "execution_count": 3,
     "metadata": {},
     "output_type": "execute_result"
    }
   ],
   "source": [
    "users.head()"
   ]
  },
  {
   "cell_type": "code",
   "execution_count": 4,
   "metadata": {
    "execution": {
     "iopub.execute_input": "2021-03-17T02:06:31.903369Z",
     "iopub.status.busy": "2021-03-17T02:06:31.902466Z",
     "iopub.status.idle": "2021-03-17T02:06:31.907423Z",
     "shell.execute_reply": "2021-03-17T02:06:31.906708Z"
    },
    "papermill": {
     "duration": 0.045978,
     "end_time": "2021-03-17T02:06:31.907588",
     "exception": false,
     "start_time": "2021-03-17T02:06:31.861610",
     "status": "completed"
    },
    "tags": []
   },
   "outputs": [
    {
     "data": {
      "text/html": [
       "<div>\n",
       "<style scoped>\n",
       "    .dataframe tbody tr th:only-of-type {\n",
       "        vertical-align: middle;\n",
       "    }\n",
       "\n",
       "    .dataframe tbody tr th {\n",
       "        vertical-align: top;\n",
       "    }\n",
       "\n",
       "    .dataframe thead th {\n",
       "        text-align: right;\n",
       "    }\n",
       "</style>\n",
       "<table border=\"1\" class=\"dataframe\">\n",
       "  <thead>\n",
       "    <tr style=\"text-align: right;\">\n",
       "      <th></th>\n",
       "      <th>isbn</th>\n",
       "      <th>book_title</th>\n",
       "      <th>book_author</th>\n",
       "      <th>year_of_publication</th>\n",
       "      <th>publisher</th>\n",
       "      <th>img_s</th>\n",
       "      <th>img_m</th>\n",
       "      <th>img_l</th>\n",
       "    </tr>\n",
       "  </thead>\n",
       "  <tbody>\n",
       "    <tr>\n",
       "      <th>0</th>\n",
       "      <td>ISBN</td>\n",
       "      <td>Book-Title</td>\n",
       "      <td>Book-Author</td>\n",
       "      <td>Year-Of-Publication</td>\n",
       "      <td>Publisher</td>\n",
       "      <td>Image-URL-S</td>\n",
       "      <td>Image-URL-M</td>\n",
       "      <td>Image-URL-L</td>\n",
       "    </tr>\n",
       "    <tr>\n",
       "      <th>1</th>\n",
       "      <td>0195153448</td>\n",
       "      <td>Classical Mythology</td>\n",
       "      <td>Mark P. O. Morford</td>\n",
       "      <td>2002</td>\n",
       "      <td>Oxford University Press</td>\n",
       "      <td>http://images.amazon.com/images/P/0195153448.0...</td>\n",
       "      <td>http://images.amazon.com/images/P/0195153448.0...</td>\n",
       "      <td>http://images.amazon.com/images/P/0195153448.0...</td>\n",
       "    </tr>\n",
       "    <tr>\n",
       "      <th>2</th>\n",
       "      <td>0002005018</td>\n",
       "      <td>Clara Callan</td>\n",
       "      <td>Richard Bruce Wright</td>\n",
       "      <td>2001</td>\n",
       "      <td>HarperFlamingo Canada</td>\n",
       "      <td>http://images.amazon.com/images/P/0002005018.0...</td>\n",
       "      <td>http://images.amazon.com/images/P/0002005018.0...</td>\n",
       "      <td>http://images.amazon.com/images/P/0002005018.0...</td>\n",
       "    </tr>\n",
       "    <tr>\n",
       "      <th>3</th>\n",
       "      <td>0060973129</td>\n",
       "      <td>Decision in Normandy</td>\n",
       "      <td>Carlo D'Este</td>\n",
       "      <td>1991</td>\n",
       "      <td>HarperPerennial</td>\n",
       "      <td>http://images.amazon.com/images/P/0060973129.0...</td>\n",
       "      <td>http://images.amazon.com/images/P/0060973129.0...</td>\n",
       "      <td>http://images.amazon.com/images/P/0060973129.0...</td>\n",
       "    </tr>\n",
       "    <tr>\n",
       "      <th>4</th>\n",
       "      <td>0374157065</td>\n",
       "      <td>Flu: The Story of the Great Influenza Pandemic...</td>\n",
       "      <td>Gina Bari Kolata</td>\n",
       "      <td>1999</td>\n",
       "      <td>Farrar Straus Giroux</td>\n",
       "      <td>http://images.amazon.com/images/P/0374157065.0...</td>\n",
       "      <td>http://images.amazon.com/images/P/0374157065.0...</td>\n",
       "      <td>http://images.amazon.com/images/P/0374157065.0...</td>\n",
       "    </tr>\n",
       "  </tbody>\n",
       "</table>\n",
       "</div>"
      ],
      "text/plain": [
       "         isbn                                         book_title  \\\n",
       "0        ISBN                                         Book-Title   \n",
       "1  0195153448                                Classical Mythology   \n",
       "2  0002005018                                       Clara Callan   \n",
       "3  0060973129                               Decision in Normandy   \n",
       "4  0374157065  Flu: The Story of the Great Influenza Pandemic...   \n",
       "\n",
       "            book_author  year_of_publication                publisher  \\\n",
       "0           Book-Author  Year-Of-Publication                Publisher   \n",
       "1    Mark P. O. Morford                 2002  Oxford University Press   \n",
       "2  Richard Bruce Wright                 2001    HarperFlamingo Canada   \n",
       "3          Carlo D'Este                 1991          HarperPerennial   \n",
       "4      Gina Bari Kolata                 1999     Farrar Straus Giroux   \n",
       "\n",
       "                                               img_s  \\\n",
       "0                                        Image-URL-S   \n",
       "1  http://images.amazon.com/images/P/0195153448.0...   \n",
       "2  http://images.amazon.com/images/P/0002005018.0...   \n",
       "3  http://images.amazon.com/images/P/0060973129.0...   \n",
       "4  http://images.amazon.com/images/P/0374157065.0...   \n",
       "\n",
       "                                               img_m  \\\n",
       "0                                        Image-URL-M   \n",
       "1  http://images.amazon.com/images/P/0195153448.0...   \n",
       "2  http://images.amazon.com/images/P/0002005018.0...   \n",
       "3  http://images.amazon.com/images/P/0060973129.0...   \n",
       "4  http://images.amazon.com/images/P/0374157065.0...   \n",
       "\n",
       "                                               img_l  \n",
       "0                                        Image-URL-L  \n",
       "1  http://images.amazon.com/images/P/0195153448.0...  \n",
       "2  http://images.amazon.com/images/P/0002005018.0...  \n",
       "3  http://images.amazon.com/images/P/0060973129.0...  \n",
       "4  http://images.amazon.com/images/P/0374157065.0...  "
      ]
     },
     "execution_count": 4,
     "metadata": {},
     "output_type": "execute_result"
    }
   ],
   "source": [
    "books.head()"
   ]
  },
  {
   "cell_type": "code",
   "execution_count": 5,
   "metadata": {
    "execution": {
     "iopub.execute_input": "2021-03-17T02:06:31.975043Z",
     "iopub.status.busy": "2021-03-17T02:06:31.973996Z",
     "iopub.status.idle": "2021-03-17T02:06:31.979546Z",
     "shell.execute_reply": "2021-03-17T02:06:31.978905Z"
    },
    "papermill": {
     "duration": 0.043929,
     "end_time": "2021-03-17T02:06:31.979716",
     "exception": false,
     "start_time": "2021-03-17T02:06:31.935787",
     "status": "completed"
    },
    "tags": []
   },
   "outputs": [
    {
     "data": {
      "text/html": [
       "<div>\n",
       "<style scoped>\n",
       "    .dataframe tbody tr th:only-of-type {\n",
       "        vertical-align: middle;\n",
       "    }\n",
       "\n",
       "    .dataframe tbody tr th {\n",
       "        vertical-align: top;\n",
       "    }\n",
       "\n",
       "    .dataframe thead th {\n",
       "        text-align: right;\n",
       "    }\n",
       "</style>\n",
       "<table border=\"1\" class=\"dataframe\">\n",
       "  <thead>\n",
       "    <tr style=\"text-align: right;\">\n",
       "      <th></th>\n",
       "      <th>user_id</th>\n",
       "      <th>isbn</th>\n",
       "      <th>rating</th>\n",
       "    </tr>\n",
       "  </thead>\n",
       "  <tbody>\n",
       "    <tr>\n",
       "      <th>0</th>\n",
       "      <td>User-ID</td>\n",
       "      <td>ISBN</td>\n",
       "      <td>Book-Rating</td>\n",
       "    </tr>\n",
       "    <tr>\n",
       "      <th>1</th>\n",
       "      <td>276725</td>\n",
       "      <td>034545104X</td>\n",
       "      <td>0</td>\n",
       "    </tr>\n",
       "    <tr>\n",
       "      <th>2</th>\n",
       "      <td>276726</td>\n",
       "      <td>0155061224</td>\n",
       "      <td>5</td>\n",
       "    </tr>\n",
       "    <tr>\n",
       "      <th>3</th>\n",
       "      <td>276727</td>\n",
       "      <td>0446520802</td>\n",
       "      <td>0</td>\n",
       "    </tr>\n",
       "    <tr>\n",
       "      <th>4</th>\n",
       "      <td>276729</td>\n",
       "      <td>052165615X</td>\n",
       "      <td>3</td>\n",
       "    </tr>\n",
       "  </tbody>\n",
       "</table>\n",
       "</div>"
      ],
      "text/plain": [
       "   user_id        isbn       rating\n",
       "0  User-ID        ISBN  Book-Rating\n",
       "1   276725  034545104X            0\n",
       "2   276726  0155061224            5\n",
       "3   276727  0446520802            0\n",
       "4   276729  052165615X            3"
      ]
     },
     "execution_count": 5,
     "metadata": {},
     "output_type": "execute_result"
    }
   ],
   "source": [
    "ratings.head()"
   ]
  },
  {
   "cell_type": "code",
   "execution_count": 6,
   "metadata": {
    "execution": {
     "iopub.execute_input": "2021-03-17T02:06:32.045782Z",
     "iopub.status.busy": "2021-03-17T02:06:32.045080Z",
     "iopub.status.idle": "2021-03-17T02:06:32.215025Z",
     "shell.execute_reply": "2021-03-17T02:06:32.214426Z"
    },
    "papermill": {
     "duration": 0.205552,
     "end_time": "2021-03-17T02:06:32.215250",
     "exception": false,
     "start_time": "2021-03-17T02:06:32.009698",
     "status": "completed"
    },
    "tags": []
   },
   "outputs": [],
   "source": [
    "#elimina a linha 0 de todos os datasets (que sao os antigos nomes das colunas do dataset)\n",
    "users = users.drop(users.index[0])\n",
    "books = books.drop(books.index[0])\n",
    "ratings = ratings.drop(ratings.index[0])"
   ]
  },
  {
   "cell_type": "markdown",
   "metadata": {
    "papermill": {
     "duration": 0.026977,
     "end_time": "2021-03-17T02:06:32.270091",
     "exception": false,
     "start_time": "2021-03-17T02:06:32.243114",
     "status": "completed"
    },
    "tags": []
   },
   "source": [
    "## Changing variable types"
   ]
  },
  {
   "cell_type": "code",
   "execution_count": 7,
   "metadata": {
    "execution": {
     "iopub.execute_input": "2021-03-17T02:06:32.332489Z",
     "iopub.status.busy": "2021-03-17T02:06:32.331527Z",
     "iopub.status.idle": "2021-03-17T02:06:32.337956Z",
     "shell.execute_reply": "2021-03-17T02:06:32.337413Z"
    },
    "papermill": {
     "duration": 0.040447,
     "end_time": "2021-03-17T02:06:32.338160",
     "exception": false,
     "start_time": "2021-03-17T02:06:32.297713",
     "status": "completed"
    },
    "tags": []
   },
   "outputs": [
    {
     "data": {
      "text/plain": [
       "user_id    object\n",
       "isbn       object\n",
       "rating     object\n",
       "dtype: object"
      ]
     },
     "execution_count": 7,
     "metadata": {},
     "output_type": "execute_result"
    }
   ],
   "source": [
    "ratings.dtypes"
   ]
  },
  {
   "cell_type": "code",
   "execution_count": 8,
   "metadata": {
    "execution": {
     "iopub.execute_input": "2021-03-17T02:06:32.402918Z",
     "iopub.status.busy": "2021-03-17T02:06:32.401991Z",
     "iopub.status.idle": "2021-03-17T02:06:32.406775Z",
     "shell.execute_reply": "2021-03-17T02:06:32.406238Z"
    },
    "papermill": {
     "duration": 0.039943,
     "end_time": "2021-03-17T02:06:32.406919",
     "exception": false,
     "start_time": "2021-03-17T02:06:32.366976",
     "status": "completed"
    },
    "tags": []
   },
   "outputs": [
    {
     "data": {
      "text/plain": [
       "user_id     object\n",
       "location    object\n",
       "age         object\n",
       "dtype: object"
      ]
     },
     "execution_count": 8,
     "metadata": {},
     "output_type": "execute_result"
    }
   ],
   "source": [
    "users.dtypes"
   ]
  },
  {
   "cell_type": "code",
   "execution_count": 9,
   "metadata": {
    "execution": {
     "iopub.execute_input": "2021-03-17T02:06:32.469041Z",
     "iopub.status.busy": "2021-03-17T02:06:32.468253Z",
     "iopub.status.idle": "2021-03-17T02:06:32.476182Z",
     "shell.execute_reply": "2021-03-17T02:06:32.475531Z"
    },
    "papermill": {
     "duration": 0.040264,
     "end_time": "2021-03-17T02:06:32.476323",
     "exception": false,
     "start_time": "2021-03-17T02:06:32.436059",
     "status": "completed"
    },
    "tags": []
   },
   "outputs": [
    {
     "data": {
      "text/plain": [
       "isbn                   object\n",
       "book_title             object\n",
       "book_author            object\n",
       "year_of_publication    object\n",
       "publisher              object\n",
       "img_s                  object\n",
       "img_m                  object\n",
       "img_l                  object\n",
       "dtype: object"
      ]
     },
     "execution_count": 9,
     "metadata": {},
     "output_type": "execute_result"
    }
   ],
   "source": [
    "books.dtypes"
   ]
  },
  {
   "cell_type": "code",
   "execution_count": 10,
   "metadata": {
    "execution": {
     "iopub.execute_input": "2021-03-17T02:06:32.574870Z",
     "iopub.status.busy": "2021-03-17T02:06:32.574078Z",
     "iopub.status.idle": "2021-03-17T02:06:33.176762Z",
     "shell.execute_reply": "2021-03-17T02:06:33.176063Z"
    },
    "papermill": {
     "duration": 0.671592,
     "end_time": "2021-03-17T02:06:33.176921",
     "exception": false,
     "start_time": "2021-03-17T02:06:32.505329",
     "status": "completed"
    },
    "tags": []
   },
   "outputs": [],
   "source": [
    "#mudando os dtypes das variáveis de object para float e int\n",
    "users['age'] = users['age'].astype(float)\n",
    "users['user_id'] = users['user_id'].astype(int)\n",
    "ratings['user_id'] = ratings['user_id'].astype(int)\n",
    "ratings['rating'] = ratings['rating'].astype(float)\n",
    "books['year_of_publication'] = books['year_of_publication'].astype(int)"
   ]
  },
  {
   "cell_type": "markdown",
   "metadata": {
    "papermill": {
     "duration": 0.028965,
     "end_time": "2021-03-17T02:06:33.234999",
     "exception": false,
     "start_time": "2021-03-17T02:06:33.206034",
     "status": "completed"
    },
    "tags": []
   },
   "source": [
    "## Dealing with missing data\n",
    "\n",
    "### User dataset"
   ]
  },
  {
   "cell_type": "code",
   "execution_count": 11,
   "metadata": {
    "execution": {
     "iopub.execute_input": "2021-03-17T02:06:33.329357Z",
     "iopub.status.busy": "2021-03-17T02:06:33.328664Z",
     "iopub.status.idle": "2021-03-17T02:06:33.337884Z",
     "shell.execute_reply": "2021-03-17T02:06:33.337363Z"
    },
    "papermill": {
     "duration": 0.07393,
     "end_time": "2021-03-17T02:06:33.338033",
     "exception": false,
     "start_time": "2021-03-17T02:06:33.264103",
     "status": "completed"
    },
    "tags": []
   },
   "outputs": [
    {
     "data": {
      "text/plain": [
       "user_id          0\n",
       "location         0\n",
       "age         110762\n",
       "dtype: int64"
      ]
     },
     "execution_count": 11,
     "metadata": {},
     "output_type": "execute_result"
    }
   ],
   "source": [
    "#quantos valores nulos tem no dataset\n",
    "users.isnull().sum()"
   ]
  },
  {
   "cell_type": "code",
   "execution_count": 12,
   "metadata": {
    "execution": {
     "iopub.execute_input": "2021-03-17T02:06:33.402958Z",
     "iopub.status.busy": "2021-03-17T02:06:33.401918Z",
     "iopub.status.idle": "2021-03-17T02:06:33.425004Z",
     "shell.execute_reply": "2021-03-17T02:06:33.425496Z"
    },
    "papermill": {
     "duration": 0.058203,
     "end_time": "2021-03-17T02:06:33.425713",
     "exception": false,
     "start_time": "2021-03-17T02:06:33.367510",
     "status": "completed"
    },
    "tags": []
   },
   "outputs": [
    {
     "data": {
      "text/plain": [
       "count    168096.000000\n",
       "mean         34.751434\n",
       "std          14.428097\n",
       "min           0.000000\n",
       "25%          24.000000\n",
       "50%          32.000000\n",
       "75%          44.000000\n",
       "max         244.000000\n",
       "Name: age, dtype: float64"
      ]
     },
     "execution_count": 12,
     "metadata": {},
     "output_type": "execute_result"
    }
   ],
   "source": [
    "#descreve os valores estatitisticos para a variavel da idade\n",
    "users.age.describe()"
   ]
  },
  {
   "cell_type": "markdown",
   "metadata": {
    "papermill": {
     "duration": 0.029469,
     "end_time": "2021-03-17T02:06:33.488330",
     "exception": false,
     "start_time": "2021-03-17T02:06:33.458861",
     "status": "completed"
    },
    "tags": []
   },
   "source": [
    "De acordo com a função Describe(), a idade máxima no dataset é 244, e a mínima é 0. O que indica a presença de Outliers."
   ]
  },
  {
   "cell_type": "code",
   "execution_count": 13,
   "metadata": {
    "execution": {
     "iopub.execute_input": "2021-03-17T02:06:33.555768Z",
     "iopub.status.busy": "2021-03-17T02:06:33.555014Z",
     "iopub.status.idle": "2021-03-17T02:06:33.585197Z",
     "shell.execute_reply": "2021-03-17T02:06:33.585763Z"
    },
    "papermill": {
     "duration": 0.067425,
     "end_time": "2021-03-17T02:06:33.585956",
     "exception": false,
     "start_time": "2021-03-17T02:06:33.518531",
     "status": "completed"
    },
    "tags": []
   },
   "outputs": [],
   "source": [
    "#se idade > 99 e <5, transformar em valor nulo\n",
    "users.loc[(users.age>99) | (users.age<5),'age'] = np.nan\n",
    "#substituir todas as idades nulas pela média de idades no dataset\n",
    "users.age = users.age.fillna(users.age.mean())"
   ]
  },
  {
   "cell_type": "markdown",
   "metadata": {
    "papermill": {
     "duration": 0.030796,
     "end_time": "2021-03-17T02:06:33.648424",
     "exception": false,
     "start_time": "2021-03-17T02:06:33.617628",
     "status": "completed"
    },
    "tags": []
   },
   "source": [
    "### Ratings dataset"
   ]
  },
  {
   "cell_type": "code",
   "execution_count": 14,
   "metadata": {
    "execution": {
     "iopub.execute_input": "2021-03-17T02:06:33.712848Z",
     "iopub.status.busy": "2021-03-17T02:06:33.712076Z",
     "iopub.status.idle": "2021-03-17T02:06:33.863262Z",
     "shell.execute_reply": "2021-03-17T02:06:33.862575Z"
    },
    "papermill": {
     "duration": 0.184276,
     "end_time": "2021-03-17T02:06:33.863414",
     "exception": false,
     "start_time": "2021-03-17T02:06:33.679138",
     "status": "completed"
    },
    "tags": []
   },
   "outputs": [
    {
     "data": {
      "text/plain": [
       "user_id    0\n",
       "isbn       0\n",
       "rating     0\n",
       "dtype: int64"
      ]
     },
     "execution_count": 14,
     "metadata": {},
     "output_type": "execute_result"
    }
   ],
   "source": [
    "#quantos valores nulos tem no dataset\n",
    "ratings.isnull().sum()"
   ]
  },
  {
   "cell_type": "markdown",
   "metadata": {
    "papermill": {
     "duration": 0.030047,
     "end_time": "2021-03-17T02:06:33.924164",
     "exception": false,
     "start_time": "2021-03-17T02:06:33.894117",
     "status": "completed"
    },
    "tags": []
   },
   "source": [
    "### Book dataset"
   ]
  },
  {
   "cell_type": "code",
   "execution_count": 15,
   "metadata": {
    "execution": {
     "iopub.execute_input": "2021-03-17T02:06:34.185791Z",
     "iopub.status.busy": "2021-03-17T02:06:34.184994Z",
     "iopub.status.idle": "2021-03-17T02:06:34.197797Z",
     "shell.execute_reply": "2021-03-17T02:06:34.197229Z"
    },
    "papermill": {
     "duration": 0.243107,
     "end_time": "2021-03-17T02:06:34.197946",
     "exception": false,
     "start_time": "2021-03-17T02:06:33.954839",
     "status": "completed"
    },
    "tags": []
   },
   "outputs": [
    {
     "data": {
      "text/plain": [
       "isbn                   0\n",
       "book_title             0\n",
       "book_author            1\n",
       "year_of_publication    0\n",
       "publisher              2\n",
       "img_s                  0\n",
       "img_m                  0\n",
       "img_l                  0\n",
       "dtype: int64"
      ]
     },
     "execution_count": 15,
     "metadata": {},
     "output_type": "execute_result"
    }
   ],
   "source": [
    "#quantos valores nulos tem no dataset\n",
    "books.isnull().sum()"
   ]
  },
  {
   "cell_type": "code",
   "execution_count": 16,
   "metadata": {
    "execution": {
     "iopub.execute_input": "2021-03-17T02:06:34.302395Z",
     "iopub.status.busy": "2021-03-17T02:06:34.292478Z",
     "iopub.status.idle": "2021-03-17T02:06:34.306700Z",
     "shell.execute_reply": "2021-03-17T02:06:34.306037Z"
    },
    "papermill": {
     "duration": 0.077744,
     "end_time": "2021-03-17T02:06:34.306844",
     "exception": false,
     "start_time": "2021-03-17T02:06:34.229100",
     "status": "completed"
    },
    "tags": []
   },
   "outputs": [
    {
     "data": {
      "text/html": [
       "<div>\n",
       "<style scoped>\n",
       "    .dataframe tbody tr th:only-of-type {\n",
       "        vertical-align: middle;\n",
       "    }\n",
       "\n",
       "    .dataframe tbody tr th {\n",
       "        vertical-align: top;\n",
       "    }\n",
       "\n",
       "    .dataframe thead th {\n",
       "        text-align: right;\n",
       "    }\n",
       "</style>\n",
       "<table border=\"1\" class=\"dataframe\">\n",
       "  <thead>\n",
       "    <tr style=\"text-align: right;\">\n",
       "      <th></th>\n",
       "      <th>isbn</th>\n",
       "      <th>book_title</th>\n",
       "      <th>book_author</th>\n",
       "      <th>year_of_publication</th>\n",
       "      <th>publisher</th>\n",
       "      <th>img_s</th>\n",
       "      <th>img_m</th>\n",
       "      <th>img_l</th>\n",
       "    </tr>\n",
       "  </thead>\n",
       "  <tbody>\n",
       "    <tr>\n",
       "      <th>128897</th>\n",
       "      <td>193169656X</td>\n",
       "      <td>Tyrant Moon</td>\n",
       "      <td>Elaine Corvidae</td>\n",
       "      <td>2002</td>\n",
       "      <td>NaN</td>\n",
       "      <td>http://images.amazon.com/images/P/193169656X.0...</td>\n",
       "      <td>http://images.amazon.com/images/P/193169656X.0...</td>\n",
       "      <td>http://images.amazon.com/images/P/193169656X.0...</td>\n",
       "    </tr>\n",
       "    <tr>\n",
       "      <th>129044</th>\n",
       "      <td>1931696993</td>\n",
       "      <td>Finders Keepers</td>\n",
       "      <td>Linnea Sinclair</td>\n",
       "      <td>2001</td>\n",
       "      <td>NaN</td>\n",
       "      <td>http://images.amazon.com/images/P/1931696993.0...</td>\n",
       "      <td>http://images.amazon.com/images/P/1931696993.0...</td>\n",
       "      <td>http://images.amazon.com/images/P/1931696993.0...</td>\n",
       "    </tr>\n",
       "  </tbody>\n",
       "</table>\n",
       "</div>"
      ],
      "text/plain": [
       "              isbn       book_title      book_author  year_of_publication  \\\n",
       "128897  193169656X      Tyrant Moon  Elaine Corvidae                 2002   \n",
       "129044  1931696993  Finders Keepers  Linnea Sinclair                 2001   \n",
       "\n",
       "       publisher                                              img_s  \\\n",
       "128897       NaN  http://images.amazon.com/images/P/193169656X.0...   \n",
       "129044       NaN  http://images.amazon.com/images/P/1931696993.0...   \n",
       "\n",
       "                                                    img_m  \\\n",
       "128897  http://images.amazon.com/images/P/193169656X.0...   \n",
       "129044  http://images.amazon.com/images/P/1931696993.0...   \n",
       "\n",
       "                                                    img_l  \n",
       "128897  http://images.amazon.com/images/P/193169656X.0...  \n",
       "129044  http://images.amazon.com/images/P/1931696993.0...  "
      ]
     },
     "execution_count": 16,
     "metadata": {},
     "output_type": "execute_result"
    }
   ],
   "source": [
    "#mostrar quais livros tem o publisher faltando\n",
    "books.loc[books.publisher.isnull(),:]"
   ]
  },
  {
   "cell_type": "code",
   "execution_count": 17,
   "metadata": {
    "execution": {
     "iopub.execute_input": "2021-03-17T02:06:34.417269Z",
     "iopub.status.busy": "2021-03-17T02:06:34.416512Z",
     "iopub.status.idle": "2021-03-17T02:06:34.470971Z",
     "shell.execute_reply": "2021-03-17T02:06:34.470392Z"
    },
    "papermill": {
     "duration": 0.132642,
     "end_time": "2021-03-17T02:06:34.471113",
     "exception": false,
     "start_time": "2021-03-17T02:06:34.338471",
     "status": "completed"
    },
    "tags": []
   },
   "outputs": [],
   "source": [
    "#fornece a informação para os publishers que estão em falta \n",
    "books.loc[books.isbn=='193169656X','publisher']='Mundania Press LLC'\n",
    "books.loc[books.isbn=='1931696993','publisher']='Novelbooks Incorporated'"
   ]
  },
  {
   "cell_type": "code",
   "execution_count": 18,
   "metadata": {
    "execution": {
     "iopub.execute_input": "2021-03-17T02:06:34.575625Z",
     "iopub.status.busy": "2021-03-17T02:06:34.570191Z",
     "iopub.status.idle": "2021-03-17T02:06:34.585075Z",
     "shell.execute_reply": "2021-03-17T02:06:34.584417Z"
    },
    "papermill": {
     "duration": 0.082279,
     "end_time": "2021-03-17T02:06:34.585227",
     "exception": false,
     "start_time": "2021-03-17T02:06:34.502948",
     "status": "completed"
    },
    "tags": []
   },
   "outputs": [
    {
     "data": {
      "text/html": [
       "<div>\n",
       "<style scoped>\n",
       "    .dataframe tbody tr th:only-of-type {\n",
       "        vertical-align: middle;\n",
       "    }\n",
       "\n",
       "    .dataframe tbody tr th {\n",
       "        vertical-align: top;\n",
       "    }\n",
       "\n",
       "    .dataframe thead th {\n",
       "        text-align: right;\n",
       "    }\n",
       "</style>\n",
       "<table border=\"1\" class=\"dataframe\">\n",
       "  <thead>\n",
       "    <tr style=\"text-align: right;\">\n",
       "      <th></th>\n",
       "      <th>isbn</th>\n",
       "      <th>book_title</th>\n",
       "      <th>book_author</th>\n",
       "      <th>year_of_publication</th>\n",
       "      <th>publisher</th>\n",
       "      <th>img_s</th>\n",
       "      <th>img_m</th>\n",
       "      <th>img_l</th>\n",
       "    </tr>\n",
       "  </thead>\n",
       "  <tbody>\n",
       "    <tr>\n",
       "      <th>187701</th>\n",
       "      <td>9627982032</td>\n",
       "      <td>The Credit Suisse Guide to Managing Your Perso...</td>\n",
       "      <td>NaN</td>\n",
       "      <td>1995</td>\n",
       "      <td>Edinburgh Financial Publishing</td>\n",
       "      <td>http://images.amazon.com/images/P/9627982032.0...</td>\n",
       "      <td>http://images.amazon.com/images/P/9627982032.0...</td>\n",
       "      <td>http://images.amazon.com/images/P/9627982032.0...</td>\n",
       "    </tr>\n",
       "  </tbody>\n",
       "</table>\n",
       "</div>"
      ],
      "text/plain": [
       "              isbn                                         book_title  \\\n",
       "187701  9627982032  The Credit Suisse Guide to Managing Your Perso...   \n",
       "\n",
       "       book_author  year_of_publication                       publisher  \\\n",
       "187701         NaN                 1995  Edinburgh Financial Publishing   \n",
       "\n",
       "                                                    img_s  \\\n",
       "187701  http://images.amazon.com/images/P/9627982032.0...   \n",
       "\n",
       "                                                    img_m  \\\n",
       "187701  http://images.amazon.com/images/P/9627982032.0...   \n",
       "\n",
       "                                                    img_l  \n",
       "187701  http://images.amazon.com/images/P/9627982032.0...  "
      ]
     },
     "execution_count": 18,
     "metadata": {},
     "output_type": "execute_result"
    }
   ],
   "source": [
    "#mostrar qual livro tem o autor faltando\n",
    "books.loc[books.book_author.isnull(),:]"
   ]
  },
  {
   "cell_type": "code",
   "execution_count": 19,
   "metadata": {
    "execution": {
     "iopub.execute_input": "2021-03-17T02:06:34.697469Z",
     "iopub.status.busy": "2021-03-17T02:06:34.696289Z",
     "iopub.status.idle": "2021-03-17T02:06:34.710585Z",
     "shell.execute_reply": "2021-03-17T02:06:34.709891Z"
    },
    "papermill": {
     "duration": 0.093032,
     "end_time": "2021-03-17T02:06:34.710732",
     "exception": false,
     "start_time": "2021-03-17T02:06:34.617700",
     "status": "completed"
    },
    "tags": []
   },
   "outputs": [],
   "source": [
    "#fornece a informação do autor que está em falta \n",
    "books.loc[books.isbn=='9627982032','book_author']='Larissa Anne Downe'"
   ]
  },
  {
   "cell_type": "code",
   "execution_count": 20,
   "metadata": {
    "execution": {
     "iopub.execute_input": "2021-03-17T02:06:34.782911Z",
     "iopub.status.busy": "2021-03-17T02:06:34.782146Z",
     "iopub.status.idle": "2021-03-17T02:06:34.788610Z",
     "shell.execute_reply": "2021-03-17T02:06:34.787927Z"
    },
    "papermill": {
     "duration": 0.045527,
     "end_time": "2021-03-17T02:06:34.788767",
     "exception": false,
     "start_time": "2021-03-17T02:06:34.743240",
     "status": "completed"
    },
    "tags": []
   },
   "outputs": [
    {
     "name": "stdout",
     "output_type": "stream",
     "text": [
      "[0, 1376, 1378, 1806, 1897, 1900, 1901, 1902, 1904, 1906, 1908, 1909, 1910, 1911, 1914, 1917, 1919, 1920, 1921, 1922, 1923, 1924, 1925, 1926, 1927, 1928, 1929, 1930, 1931, 1932, 1933, 1934, 1935, 1936, 1937, 1938, 1939, 1940, 1941, 1942, 1943, 1944, 1945, 1946, 1947, 1948, 1949, 1950, 1951, 1952, 1953, 1954, 1955, 1956, 1957, 1958, 1959, 1960, 1961, 1962, 1963, 1964, 1965, 1966, 1967, 1968, 1969, 1970, 1971, 1972, 1973, 1974, 1975, 1976, 1977, 1978, 1979, 1980, 1981, 1982, 1983, 1984, 1985, 1986, 1987, 1988, 1989, 1990, 1991, 1992, 1993, 1994, 1995, 1996, 1997, 1998, 1999, 2000, 2001, 2002, 2003, 2004, 2005, 2006, 2008, 2010, 2011, 2012, 2020, 2021, 2024, 2026, 2030, 2037, 2038, 2050]\n"
     ]
    }
   ],
   "source": [
    "print(sorted(books['year_of_publication'].unique()))"
   ]
  },
  {
   "cell_type": "code",
   "execution_count": 21,
   "metadata": {
    "execution": {
     "iopub.execute_input": "2021-03-17T02:06:34.863539Z",
     "iopub.status.busy": "2021-03-17T02:06:34.862899Z",
     "iopub.status.idle": "2021-03-17T02:06:34.882885Z",
     "shell.execute_reply": "2021-03-17T02:06:34.882193Z"
    },
    "papermill": {
     "duration": 0.059598,
     "end_time": "2021-03-17T02:06:34.883034",
     "exception": false,
     "start_time": "2021-03-17T02:06:34.823436",
     "status": "completed"
    },
    "tags": []
   },
   "outputs": [
    {
     "data": {
      "text/plain": [
       "count    271379.000000\n",
       "mean       1959.756050\n",
       "std         258.011363\n",
       "min           0.000000\n",
       "25%        1989.000000\n",
       "50%        1995.000000\n",
       "75%        2000.000000\n",
       "max        2050.000000\n",
       "Name: year_of_publication, dtype: float64"
      ]
     },
     "execution_count": 21,
     "metadata": {},
     "output_type": "execute_result"
    }
   ],
   "source": [
    "#descreve os valores estatitisticos para a variavel do ano\n",
    "books.year_of_publication.describe()"
   ]
  },
  {
   "cell_type": "markdown",
   "metadata": {
    "papermill": {
     "duration": 0.033252,
     "end_time": "2021-03-17T02:06:34.950362",
     "exception": false,
     "start_time": "2021-03-17T02:06:34.917110",
     "status": "completed"
    },
    "tags": []
   },
   "source": [
    "OBS: É possível perceber que a informação sobre o ano de lançamento de alguns livros está errada, mas considerando que a informação do ano não é relevante para uma recomendação, eu não vou tratar esses valores."
   ]
  },
  {
   "cell_type": "markdown",
   "metadata": {
    "papermill": {
     "duration": 0.03363,
     "end_time": "2021-03-17T02:06:35.017086",
     "exception": false,
     "start_time": "2021-03-17T02:06:34.983456",
     "status": "completed"
    },
    "tags": []
   },
   "source": [
    "## Rating Distribution\n",
    "\n",
    "> 📌Note: This dataset contains both explicit ratings, on a 1–10 scale and implicit actions of unspecified nature.\n",
    "\n",
    "> 0 values indicate all interactions without rating values."
   ]
  },
  {
   "cell_type": "code",
   "execution_count": 22,
   "metadata": {
    "execution": {
     "iopub.execute_input": "2021-03-17T02:06:35.090808Z",
     "iopub.status.busy": "2021-03-17T02:06:35.090130Z",
     "iopub.status.idle": "2021-03-17T02:06:35.115258Z",
     "shell.execute_reply": "2021-03-17T02:06:35.115836Z"
    },
    "papermill": {
     "duration": 0.065569,
     "end_time": "2021-03-17T02:06:35.116020",
     "exception": false,
     "start_time": "2021-03-17T02:06:35.050451",
     "status": "completed"
    },
    "tags": []
   },
   "outputs": [
    {
     "data": {
      "text/plain": [
       "0.0     716109\n",
       "8.0     103736\n",
       "10.0     78610\n",
       "7.0      76457\n",
       "9.0      67541\n",
       "5.0      50974\n",
       "6.0      36924\n",
       "4.0       8904\n",
       "3.0       5996\n",
       "2.0       2759\n",
       "1.0       1770\n",
       "Name: rating, dtype: int64"
      ]
     },
     "execution_count": 22,
     "metadata": {},
     "output_type": "execute_result"
    }
   ],
   "source": [
    "ratings['rating'].value_counts()"
   ]
  },
  {
   "cell_type": "code",
   "execution_count": 23,
   "metadata": {
    "execution": {
     "iopub.execute_input": "2021-03-17T02:06:35.190962Z",
     "iopub.status.busy": "2021-03-17T02:06:35.189983Z",
     "iopub.status.idle": "2021-03-17T02:06:35.232836Z",
     "shell.execute_reply": "2021-03-17T02:06:35.232244Z"
    },
    "papermill": {
     "duration": 0.083161,
     "end_time": "2021-03-17T02:06:35.232977",
     "exception": false,
     "start_time": "2021-03-17T02:06:35.149816",
     "status": "completed"
    },
    "tags": []
   },
   "outputs": [],
   "source": [
    "# manter apenas as avaliações explicitas - nota 0 signfica que o usuario apenas interagiu com o produto de alguma forma\n",
    "ratings=ratings.loc[ratings['rating']>0]"
   ]
  },
  {
   "cell_type": "code",
   "execution_count": 24,
   "metadata": {
    "execution": {
     "iopub.execute_input": "2021-03-17T02:06:35.308581Z",
     "iopub.status.busy": "2021-03-17T02:06:35.307905Z",
     "iopub.status.idle": "2021-03-17T02:06:35.589997Z",
     "shell.execute_reply": "2021-03-17T02:06:35.590490Z"
    },
    "papermill": {
     "duration": 0.323056,
     "end_time": "2021-03-17T02:06:35.590693",
     "exception": false,
     "start_time": "2021-03-17T02:06:35.267637",
     "status": "completed"
    },
    "tags": []
   },
   "outputs": [
    {
     "data": {
      "image/png": "[encoded data removed]",
      "text/plain": [
       "<Figure size 720x576 with 1 Axes>"
      ]
     },
     "metadata": {
      "needs_background": "light"
     },
     "output_type": "display_data"
    }
   ],
   "source": [
    "plt.figure(figsize=(10,8))\n",
    "sns.countplot(x='rating',data=ratings)\n",
    "plt.title('Rating Distribution',size=20)\n",
    "plt.show()"
   ]
  },
  {
   "cell_type": "code",
   "execution_count": 25,
   "metadata": {
    "execution": {
     "iopub.execute_input": "2021-03-17T02:06:35.663624Z",
     "iopub.status.busy": "2021-03-17T02:06:35.662963Z",
     "iopub.status.idle": "2021-03-17T02:06:35.668302Z",
     "shell.execute_reply": "2021-03-17T02:06:35.668964Z"
    },
    "papermill": {
     "duration": 0.043403,
     "end_time": "2021-03-17T02:06:35.669143",
     "exception": false,
     "start_time": "2021-03-17T02:06:35.625740",
     "status": "completed"
    },
    "tags": []
   },
   "outputs": [
    {
     "data": {
      "text/plain": [
       "(433671, 3)"
      ]
     },
     "execution_count": 25,
     "metadata": {},
     "output_type": "execute_result"
    }
   ],
   "source": [
    "ratings.shape"
   ]
  },
  {
   "cell_type": "code",
   "execution_count": 26,
   "metadata": {
    "execution": {
     "iopub.execute_input": "2021-03-17T02:06:35.746606Z",
     "iopub.status.busy": "2021-03-17T02:06:35.745936Z",
     "iopub.status.idle": "2021-03-17T02:06:36.140666Z",
     "shell.execute_reply": "2021-03-17T02:06:36.139941Z"
    },
    "papermill": {
     "duration": 0.436504,
     "end_time": "2021-03-17T02:06:36.140815",
     "exception": false,
     "start_time": "2021-03-17T02:06:35.704311",
     "status": "completed"
    },
    "tags": []
   },
   "outputs": [],
   "source": [
    "#faz mapeamento dos users e books\n",
    "user_to_idx={j:i+1 for i, j in enumerate(ratings['user_id'].unique())}\n",
    "book_to_idx={j:i+1 for i,j in enumerate(ratings['isbn'].unique())}\n",
    "idx_to_user={i+1:j for i, j in enumerate(ratings['user_id'].unique())}\n",
    "idx_to_book={i+1:j for i,j in enumerate(ratings['isbn'].unique())}"
   ]
  },
  {
   "cell_type": "code",
   "execution_count": 27,
   "metadata": {
    "execution": {
     "iopub.execute_input": "2021-03-17T02:06:36.246064Z",
     "iopub.status.busy": "2021-03-17T02:06:36.241008Z",
     "iopub.status.idle": "2021-03-17T02:06:37.122460Z",
     "shell.execute_reply": "2021-03-17T02:06:37.121816Z"
    },
    "papermill": {
     "duration": 0.946341,
     "end_time": "2021-03-17T02:06:37.122630",
     "exception": false,
     "start_time": "2021-03-17T02:06:36.176289",
     "status": "completed"
    },
    "tags": []
   },
   "outputs": [],
   "source": [
    "ratings['user_idx']=[user_to_idx[i] for i in ratings['user_id']]\n",
    "ratings['book_idx']=[book_to_idx[i] for i in ratings['isbn']]"
   ]
  },
  {
   "cell_type": "code",
   "execution_count": 28,
   "metadata": {
    "execution": {
     "iopub.execute_input": "2021-03-17T02:06:37.207503Z",
     "iopub.status.busy": "2021-03-17T02:06:37.206782Z",
     "iopub.status.idle": "2021-03-17T02:06:37.240861Z",
     "shell.execute_reply": "2021-03-17T02:06:37.240090Z"
    },
    "papermill": {
     "duration": 0.082077,
     "end_time": "2021-03-17T02:06:37.241017",
     "exception": false,
     "start_time": "2021-03-17T02:06:37.158940",
     "status": "completed"
    },
    "tags": []
   },
   "outputs": [],
   "source": [
    "#muda o index\n",
    "users.set_index('user_id', inplace=True)\n",
    "books.set_index('isbn',inplace=True)\n",
    "ratings.set_index('user_id', inplace=True)"
   ]
  },
  {
   "cell_type": "code",
   "execution_count": 29,
   "metadata": {
    "execution": {
     "iopub.execute_input": "2021-03-17T02:06:37.329761Z",
     "iopub.status.busy": "2021-03-17T02:06:37.328846Z",
     "iopub.status.idle": "2021-03-17T02:06:37.333524Z",
     "shell.execute_reply": "2021-03-17T02:06:37.332989Z"
    },
    "papermill": {
     "duration": 0.056682,
     "end_time": "2021-03-17T02:06:37.333684",
     "exception": false,
     "start_time": "2021-03-17T02:06:37.277002",
     "status": "completed"
    },
    "tags": []
   },
   "outputs": [
    {
     "data": {
      "text/html": [
       "<div>\n",
       "<style scoped>\n",
       "    .dataframe tbody tr th:only-of-type {\n",
       "        vertical-align: middle;\n",
       "    }\n",
       "\n",
       "    .dataframe tbody tr th {\n",
       "        vertical-align: top;\n",
       "    }\n",
       "\n",
       "    .dataframe thead th {\n",
       "        text-align: right;\n",
       "    }\n",
       "</style>\n",
       "<table border=\"1\" class=\"dataframe\">\n",
       "  <thead>\n",
       "    <tr style=\"text-align: right;\">\n",
       "      <th></th>\n",
       "      <th>isbn</th>\n",
       "      <th>rating</th>\n",
       "      <th>user_idx</th>\n",
       "      <th>book_idx</th>\n",
       "    </tr>\n",
       "    <tr>\n",
       "      <th>user_id</th>\n",
       "      <th></th>\n",
       "      <th></th>\n",
       "      <th></th>\n",
       "      <th></th>\n",
       "    </tr>\n",
       "  </thead>\n",
       "  <tbody>\n",
       "    <tr>\n",
       "      <th>276726</th>\n",
       "      <td>0155061224</td>\n",
       "      <td>5.0</td>\n",
       "      <td>1</td>\n",
       "      <td>1</td>\n",
       "    </tr>\n",
       "    <tr>\n",
       "      <th>276729</th>\n",
       "      <td>052165615X</td>\n",
       "      <td>3.0</td>\n",
       "      <td>2</td>\n",
       "      <td>2</td>\n",
       "    </tr>\n",
       "    <tr>\n",
       "      <th>276729</th>\n",
       "      <td>0521795028</td>\n",
       "      <td>6.0</td>\n",
       "      <td>2</td>\n",
       "      <td>3</td>\n",
       "    </tr>\n",
       "    <tr>\n",
       "      <th>276736</th>\n",
       "      <td>3257224281</td>\n",
       "      <td>8.0</td>\n",
       "      <td>3</td>\n",
       "      <td>4</td>\n",
       "    </tr>\n",
       "    <tr>\n",
       "      <th>276737</th>\n",
       "      <td>0600570967</td>\n",
       "      <td>6.0</td>\n",
       "      <td>4</td>\n",
       "      <td>5</td>\n",
       "    </tr>\n",
       "  </tbody>\n",
       "</table>\n",
       "</div>"
      ],
      "text/plain": [
       "               isbn  rating  user_idx  book_idx\n",
       "user_id                                        \n",
       "276726   0155061224     5.0         1         1\n",
       "276729   052165615X     3.0         2         2\n",
       "276729   0521795028     6.0         2         3\n",
       "276736   3257224281     8.0         3         4\n",
       "276737   0600570967     6.0         4         5"
      ]
     },
     "execution_count": 29,
     "metadata": {},
     "output_type": "execute_result"
    }
   ],
   "source": [
    "ratings.head()"
   ]
  },
  {
   "cell_type": "code",
   "execution_count": 30,
   "metadata": {
    "execution": {
     "iopub.execute_input": "2021-03-17T02:06:37.413776Z",
     "iopub.status.busy": "2021-03-17T02:06:37.413004Z",
     "iopub.status.idle": "2021-03-17T02:06:37.421869Z",
     "shell.execute_reply": "2021-03-17T02:06:37.421283Z"
    },
    "papermill": {
     "duration": 0.051133,
     "end_time": "2021-03-17T02:06:37.422014",
     "exception": false,
     "start_time": "2021-03-17T02:06:37.370881",
     "status": "completed"
    },
    "tags": []
   },
   "outputs": [],
   "source": [
    "#cria novo dataset\n",
    "ratings_idx=ratings[['user_idx','book_idx','rating']]"
   ]
  },
  {
   "cell_type": "code",
   "execution_count": 31,
   "metadata": {
    "execution": {
     "iopub.execute_input": "2021-03-17T02:06:37.506052Z",
     "iopub.status.busy": "2021-03-17T02:06:37.505001Z",
     "iopub.status.idle": "2021-03-17T02:06:37.509874Z",
     "shell.execute_reply": "2021-03-17T02:06:37.510408Z"
    },
    "papermill": {
     "duration": 0.052074,
     "end_time": "2021-03-17T02:06:37.510613",
     "exception": false,
     "start_time": "2021-03-17T02:06:37.458539",
     "status": "completed"
    },
    "tags": []
   },
   "outputs": [
    {
     "data": {
      "text/html": [
       "<div>\n",
       "<style scoped>\n",
       "    .dataframe tbody tr th:only-of-type {\n",
       "        vertical-align: middle;\n",
       "    }\n",
       "\n",
       "    .dataframe tbody tr th {\n",
       "        vertical-align: top;\n",
       "    }\n",
       "\n",
       "    .dataframe thead th {\n",
       "        text-align: right;\n",
       "    }\n",
       "</style>\n",
       "<table border=\"1\" class=\"dataframe\">\n",
       "  <thead>\n",
       "    <tr style=\"text-align: right;\">\n",
       "      <th></th>\n",
       "      <th>user_idx</th>\n",
       "      <th>book_idx</th>\n",
       "      <th>rating</th>\n",
       "    </tr>\n",
       "    <tr>\n",
       "      <th>user_id</th>\n",
       "      <th></th>\n",
       "      <th></th>\n",
       "      <th></th>\n",
       "    </tr>\n",
       "  </thead>\n",
       "  <tbody>\n",
       "    <tr>\n",
       "      <th>276726</th>\n",
       "      <td>1</td>\n",
       "      <td>1</td>\n",
       "      <td>5.0</td>\n",
       "    </tr>\n",
       "    <tr>\n",
       "      <th>276729</th>\n",
       "      <td>2</td>\n",
       "      <td>2</td>\n",
       "      <td>3.0</td>\n",
       "    </tr>\n",
       "    <tr>\n",
       "      <th>276729</th>\n",
       "      <td>2</td>\n",
       "      <td>3</td>\n",
       "      <td>6.0</td>\n",
       "    </tr>\n",
       "    <tr>\n",
       "      <th>276736</th>\n",
       "      <td>3</td>\n",
       "      <td>4</td>\n",
       "      <td>8.0</td>\n",
       "    </tr>\n",
       "    <tr>\n",
       "      <th>276737</th>\n",
       "      <td>4</td>\n",
       "      <td>5</td>\n",
       "      <td>6.0</td>\n",
       "    </tr>\n",
       "  </tbody>\n",
       "</table>\n",
       "</div>"
      ],
      "text/plain": [
       "         user_idx  book_idx  rating\n",
       "user_id                            \n",
       "276726          1         1     5.0\n",
       "276729          2         2     3.0\n",
       "276729          2         3     6.0\n",
       "276736          3         4     8.0\n",
       "276737          4         5     6.0"
      ]
     },
     "execution_count": 31,
     "metadata": {},
     "output_type": "execute_result"
    }
   ],
   "source": [
    "ratings_idx.head()"
   ]
  },
  {
   "cell_type": "code",
   "execution_count": 32,
   "metadata": {
    "execution": {
     "iopub.execute_input": "2021-03-17T02:06:37.590218Z",
     "iopub.status.busy": "2021-03-17T02:06:37.589314Z",
     "iopub.status.idle": "2021-03-17T02:06:37.592489Z",
     "shell.execute_reply": "2021-03-17T02:06:37.591923Z"
    },
    "papermill": {
     "duration": 0.04492,
     "end_time": "2021-03-17T02:06:37.592664",
     "exception": false,
     "start_time": "2021-03-17T02:06:37.547744",
     "status": "completed"
    },
    "tags": []
   },
   "outputs": [],
   "source": [
    "import os\n",
    "os.chdir(r'/kaggle/working')"
   ]
  },
  {
   "cell_type": "code",
   "execution_count": 33,
   "metadata": {
    "execution": {
     "iopub.execute_input": "2021-03-17T02:06:37.671067Z",
     "iopub.status.busy": "2021-03-17T02:06:37.670101Z",
     "iopub.status.idle": "2021-03-17T02:06:45.614437Z",
     "shell.execute_reply": "2021-03-17T02:06:45.613746Z"
    },
    "papermill": {
     "duration": 7.98475,
     "end_time": "2021-03-17T02:06:45.614617",
     "exception": false,
     "start_time": "2021-03-17T02:06:37.629867",
     "status": "completed"
    },
    "tags": []
   },
   "outputs": [],
   "source": [
    "books.to_csv(r'books.csv')\n",
    "users.to_csv(r'users.csv')\n",
    "ratings.to_csv(r'ratings.csv')\n",
    "ratings_idx.to_csv(r'ratings_idx.csv',index=False,sep=\",\")"
   ]
  },
  {
   "cell_type": "code",
   "execution_count": 34,
   "metadata": {
    "execution": {
     "iopub.execute_input": "2021-03-17T02:06:45.696993Z",
     "iopub.status.busy": "2021-03-17T02:06:45.695896Z",
     "iopub.status.idle": "2021-03-17T02:06:45.700808Z",
     "shell.execute_reply": "2021-03-17T02:06:45.700116Z"
    },
    "papermill": {
     "duration": 0.048183,
     "end_time": "2021-03-17T02:06:45.700963",
     "exception": false,
     "start_time": "2021-03-17T02:06:45.652780",
     "status": "completed"
    },
    "tags": []
   },
   "outputs": [
    {
     "data": {
      "text/html": [
       "<a href='books.csv' target='_blank'>books.csv</a><br>"
      ],
      "text/plain": [
       "/kaggle/working/books.csv"
      ]
     },
     "execution_count": 34,
     "metadata": {},
     "output_type": "execute_result"
    }
   ],
   "source": [
    "from IPython.display import FileLink\n",
    "\n",
    "FileLink(r'books.csv')"
   ]
  },
  {
   "cell_type": "code",
   "execution_count": 35,
   "metadata": {
    "execution": {
     "iopub.execute_input": "2021-03-17T02:06:45.784695Z",
     "iopub.status.busy": "2021-03-17T02:06:45.783713Z",
     "iopub.status.idle": "2021-03-17T02:06:45.788322Z",
     "shell.execute_reply": "2021-03-17T02:06:45.787653Z"
    },
    "papermill": {
     "duration": 0.04964,
     "end_time": "2021-03-17T02:06:45.788477",
     "exception": false,
     "start_time": "2021-03-17T02:06:45.738837",
     "status": "completed"
    },
    "tags": []
   },
   "outputs": [
    {
     "data": {
      "text/html": [
       "<a href='users.csv' target='_blank'>users.csv</a><br>"
      ],
      "text/plain": [
       "/kaggle/working/users.csv"
      ]
     },
     "execution_count": 35,
     "metadata": {},
     "output_type": "execute_result"
    }
   ],
   "source": [
    "FileLink(r'users.csv')"
   ]
  },
  {
   "cell_type": "code",
   "execution_count": 36,
   "metadata": {
    "execution": {
     "iopub.execute_input": "2021-03-17T02:06:45.875033Z",
     "iopub.status.busy": "2021-03-17T02:06:45.874180Z",
     "iopub.status.idle": "2021-03-17T02:06:45.878789Z",
     "shell.execute_reply": "2021-03-17T02:06:45.878126Z"
    },
    "papermill": {
     "duration": 0.048769,
     "end_time": "2021-03-17T02:06:45.878933",
     "exception": false,
     "start_time": "2021-03-17T02:06:45.830164",
     "status": "completed"
    },
    "tags": []
   },
   "outputs": [
    {
     "data": {
      "text/html": [
       "<a href='ratings.csv' target='_blank'>ratings.csv</a><br>"
      ],
      "text/plain": [
       "/kaggle/working/ratings.csv"
      ]
     },
     "execution_count": 36,
     "metadata": {},
     "output_type": "execute_result"
    }
   ],
   "source": [
    "FileLink(r'ratings.csv')"
   ]
  },
  {
   "cell_type": "code",
   "execution_count": 37,
   "metadata": {
    "execution": {
     "iopub.execute_input": "2021-03-17T02:06:45.962741Z",
     "iopub.status.busy": "2021-03-17T02:06:45.962031Z",
     "iopub.status.idle": "2021-03-17T02:06:45.965858Z",
     "shell.execute_reply": "2021-03-17T02:06:45.965288Z"
    },
    "papermill": {
     "duration": 0.04787,
     "end_time": "2021-03-17T02:06:45.966000",
     "exception": false,
     "start_time": "2021-03-17T02:06:45.918130",
     "status": "completed"
    },
    "tags": []
   },
   "outputs": [
    {
     "data": {
      "text/html": [
       "<a href='ratings_idx.csv' target='_blank'>ratings_idx.csv</a><br>"
      ],
      "text/plain": [
       "/kaggle/working/ratings_idx.csv"
      ]
     },
     "execution_count": 37,
     "metadata": {},
     "output_type": "execute_result"
    }
   ],
   "source": [
    "FileLink(r'ratings_idx.csv')"
   ]
  }
 ],
 "metadata": {
  "kernelspec": {
   "display_name": "Python 3",
   "language": "python",
   "name": "python3"
  },
  "language_info": {
   "codemirror_mode": {
    "name": "ipython",
    "version": 3
   },
   "file_extension": ".py",
   "mimetype": "text/x-python",
   "name": "python",
   "nbconvert_exporter": "python",
   "pygments_lexer": "ipython3",
   "version": "3.7.9"
  },
  "papermill": {
   "default_parameters": {},
   "duration": 27.958703,
   "end_time": "2021-03-17T02:06:47.817488",
   "environment_variables": {},
   "exception": null,
   "input_path": "__notebook__.ipynb",
   "output_path": "__notebook__.ipynb",
   "parameters": {},
   "start_time": "2021-03-17T02:06:19.858785",
   "version": "2.2.2"
  }
 },
 "nbformat": 4,
 "nbformat_minor": 4
}
