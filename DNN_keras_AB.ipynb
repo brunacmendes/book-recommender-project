{
  "nbformat": 4,
  "nbformat_minor": 0,
  "metadata": {
    "accelerator": "GPU",
    "colab": {
      "name": "DNN_keras_AB.ipynb",
      "provenance": [],
      "collapsed_sections": [],
      "authorship_tag": "ABX9TyNaNh3xIKt3z0UWwBxLWkmM",
      "include_colab_link": true
    },
    "kernelspec": {
      "display_name": "Python 3",
      "name": "python3"
    },
    "language_info": {
      "name": "python"
    }
  },
  "cells": [
    {
      "cell_type": "markdown",
      "metadata": {
        "id": "view-in-github",
        "colab_type": "text"
      },
      "source": [
        "<a href=\"https://colab.research.google.com/github/brunacmendes/book-recommender-project/blob/main/DNN_keras_AB.ipynb\" target=\"_parent\"><img src=\"https://colab.research.google.com/assets/colab-badge.svg\" alt=\"Open In Colab\"/></a>"
      ]
    },
    {
      "cell_type": "code",
      "metadata": {
        "id": "q2uRO5OHQ67-",
        "colab": {
          "base_uri": "https://localhost:8080/"
        },
        "outputId": "e19e9b5e-7eb6-4902-90f3-6fc3368522e6"
      },
      "source": [
        "from google.colab import drive\n",
        "drive.mount('/content/drive')"
      ],
      "execution_count": 151,
      "outputs": [
        {
          "output_type": "stream",
          "text": [
            "Drive already mounted at /content/drive; to attempt to forcibly remount, call drive.mount(\"/content/drive\", force_remount=True).\n"
          ],
          "name": "stdout"
        }
      ]
    },
    {
      "cell_type": "code",
      "metadata": {
        "id": "z7hdD_4Tq-kp"
      },
      "source": [
        "from __future__ import print_function, division\n",
        "from builtins import range, input\n",
        "\n",
        "%matplotlib inline\n",
        "import numpy as np\n",
        "import pandas as pd\n",
        "import pickle\n",
        "import matplotlib.pyplot as plt\n",
        "from sklearn.model_selection import train_test_split\n",
        "from sklearn.preprocessing import LabelEncoder\n",
        "\n",
        "# load in the data\n",
        "df = pd.read_csv('amazon_ratings.csv')\n"
      ],
      "execution_count": 152,
      "outputs": []
    },
    {
      "cell_type": "code",
      "metadata": {
        "colab": {
          "base_uri": "https://localhost:8080/",
          "height": 204
        },
        "id": "2ksx4pTV8IsO",
        "outputId": "54e41619-f8f7-4c7b-b820-57bb8e040515"
      },
      "source": [
        "df.head()"
      ],
      "execution_count": null,
      "outputs": [
        {
          "output_type": "execute_result",
          "data": {
            "text/html": [
              "<div>\n",
              "<style scoped>\n",
              "    .dataframe tbody tr th:only-of-type {\n",
              "        vertical-align: middle;\n",
              "    }\n",
              "\n",
              "    .dataframe tbody tr th {\n",
              "        vertical-align: top;\n",
              "    }\n",
              "\n",
              "    .dataframe thead th {\n",
              "        text-align: right;\n",
              "    }\n",
              "</style>\n",
              "<table border=\"1\" class=\"dataframe\">\n",
              "  <thead>\n",
              "    <tr style=\"text-align: right;\">\n",
              "      <th></th>\n",
              "      <th>user_id</th>\n",
              "      <th>isbn</th>\n",
              "      <th>rating</th>\n",
              "    </tr>\n",
              "  </thead>\n",
              "  <tbody>\n",
              "    <tr>\n",
              "      <th>0</th>\n",
              "      <td>276726</td>\n",
              "      <td>0155061224</td>\n",
              "      <td>5.0</td>\n",
              "    </tr>\n",
              "    <tr>\n",
              "      <th>1</th>\n",
              "      <td>276729</td>\n",
              "      <td>052165615X</td>\n",
              "      <td>3.0</td>\n",
              "    </tr>\n",
              "    <tr>\n",
              "      <th>2</th>\n",
              "      <td>276729</td>\n",
              "      <td>0521795028</td>\n",
              "      <td>6.0</td>\n",
              "    </tr>\n",
              "    <tr>\n",
              "      <th>3</th>\n",
              "      <td>276736</td>\n",
              "      <td>3257224281</td>\n",
              "      <td>8.0</td>\n",
              "    </tr>\n",
              "    <tr>\n",
              "      <th>4</th>\n",
              "      <td>276737</td>\n",
              "      <td>0600570967</td>\n",
              "      <td>6.0</td>\n",
              "    </tr>\n",
              "  </tbody>\n",
              "</table>\n",
              "</div>"
            ],
            "text/plain": [
              "   user_id        isbn  rating\n",
              "0   276726  0155061224     5.0\n",
              "1   276729  052165615X     3.0\n",
              "2   276729  0521795028     6.0\n",
              "3   276736  3257224281     8.0\n",
              "4   276737  0600570967     6.0"
            ]
          },
          "metadata": {
            "tags": []
          },
          "execution_count": 94
        }
      ]
    },
    {
      "cell_type": "markdown",
      "metadata": {
        "id": "agjLq8vc9Lrf"
      },
      "source": [
        "Para ter uma ideia melhor de como os dados se parecem, podemos transformá-los em uma tabela selecionando os 15 principais usuários/livros dos dados e juntando-os. O resultado mostra como cada um dos principais usuários classificou cada um dos livros principais."
      ]
    },
    {
      "cell_type": "code",
      "metadata": {
        "colab": {
          "base_uri": "https://localhost:8080/",
          "height": 255
        },
        "id": "IO1qmrQG9Y7s",
        "outputId": "f74df92c-203b-4dcc-af0f-db09fea94700"
      },
      "source": [
        "g = df.groupby('user_id')['rating'].count()\n",
        "top_users = g.sort_values(ascending=False)[:15]\n",
        "\n",
        "g = df.groupby('book_id')['rating'].count()\n",
        "top_books = g.sort_values(ascending=False)[:15]\n",
        "\n",
        "top_r = df.join(top_users, rsuffix='_r', how='inner', on='user_id')\n",
        "top_r = top_r.join(top_books, rsuffix='_r', how='inner', on='book_id')\n",
        "\n",
        "pd.crosstab(top_r.user_id, top_r.book_id, top_r.rating, aggfunc=np.sum)"
      ],
      "execution_count": 153,
      "outputs": [
        {
          "output_type": "execute_result",
          "data": {
            "text/html": [
              "<div>\n",
              "<style scoped>\n",
              "    .dataframe tbody tr th:only-of-type {\n",
              "        vertical-align: middle;\n",
              "    }\n",
              "\n",
              "    .dataframe tbody tr th {\n",
              "        vertical-align: top;\n",
              "    }\n",
              "\n",
              "    .dataframe thead th {\n",
              "        text-align: right;\n",
              "    }\n",
              "</style>\n",
              "<table border=\"1\" class=\"dataframe\">\n",
              "  <thead>\n",
              "    <tr style=\"text-align: right;\">\n",
              "      <th>book_id</th>\n",
              "      <th>0007420412</th>\n",
              "      <th>0007548672</th>\n",
              "      <th>0297859382</th>\n",
              "      <th>0312577222</th>\n",
              "      <th>0316055433</th>\n",
              "      <th>038568231X</th>\n",
              "      <th>0545582881</th>\n",
              "      <th>0553418025</th>\n",
              "      <th>B000X1MX7E</th>\n",
              "    </tr>\n",
              "    <tr>\n",
              "      <th>user_id</th>\n",
              "      <th></th>\n",
              "      <th></th>\n",
              "      <th></th>\n",
              "      <th></th>\n",
              "      <th></th>\n",
              "      <th></th>\n",
              "      <th></th>\n",
              "      <th></th>\n",
              "      <th></th>\n",
              "    </tr>\n",
              "  </thead>\n",
              "  <tbody>\n",
              "    <tr>\n",
              "      <th>A13QTZ8CIMHHG4</th>\n",
              "      <td>NaN</td>\n",
              "      <td>NaN</td>\n",
              "      <td>NaN</td>\n",
              "      <td>5.0</td>\n",
              "      <td>NaN</td>\n",
              "      <td>NaN</td>\n",
              "      <td>NaN</td>\n",
              "      <td>NaN</td>\n",
              "      <td>NaN</td>\n",
              "    </tr>\n",
              "    <tr>\n",
              "      <th>A1D2C0WDCSHUWZ</th>\n",
              "      <td>NaN</td>\n",
              "      <td>NaN</td>\n",
              "      <td>NaN</td>\n",
              "      <td>NaN</td>\n",
              "      <td>NaN</td>\n",
              "      <td>NaN</td>\n",
              "      <td>2.0</td>\n",
              "      <td>NaN</td>\n",
              "      <td>NaN</td>\n",
              "    </tr>\n",
              "    <tr>\n",
              "      <th>A2F6N60Z96CAJI</th>\n",
              "      <td>NaN</td>\n",
              "      <td>5.0</td>\n",
              "      <td>5.0</td>\n",
              "      <td>4.0</td>\n",
              "      <td>3.0</td>\n",
              "      <td>5.0</td>\n",
              "      <td>4.0</td>\n",
              "      <td>5.0</td>\n",
              "      <td>10.0</td>\n",
              "    </tr>\n",
              "    <tr>\n",
              "      <th>A2TX179XAT5GRP</th>\n",
              "      <td>5.0</td>\n",
              "      <td>NaN</td>\n",
              "      <td>NaN</td>\n",
              "      <td>NaN</td>\n",
              "      <td>NaN</td>\n",
              "      <td>NaN</td>\n",
              "      <td>NaN</td>\n",
              "      <td>NaN</td>\n",
              "      <td>NaN</td>\n",
              "    </tr>\n",
              "    <tr>\n",
              "      <th>AHUT55E980RDR</th>\n",
              "      <td>NaN</td>\n",
              "      <td>NaN</td>\n",
              "      <td>NaN</td>\n",
              "      <td>5.0</td>\n",
              "      <td>NaN</td>\n",
              "      <td>NaN</td>\n",
              "      <td>NaN</td>\n",
              "      <td>NaN</td>\n",
              "      <td>NaN</td>\n",
              "    </tr>\n",
              "  </tbody>\n",
              "</table>\n",
              "</div>"
            ],
            "text/plain": [
              "book_id         0007420412  0007548672  0297859382  0312577222  0316055433  \\\n",
              "user_id                                                                      \n",
              "A13QTZ8CIMHHG4         NaN         NaN         NaN         5.0         NaN   \n",
              "A1D2C0WDCSHUWZ         NaN         NaN         NaN         NaN         NaN   \n",
              "A2F6N60Z96CAJI         NaN         5.0         5.0         4.0         3.0   \n",
              "A2TX179XAT5GRP         5.0         NaN         NaN         NaN         NaN   \n",
              "AHUT55E980RDR          NaN         NaN         NaN         5.0         NaN   \n",
              "\n",
              "book_id         038568231X  0545582881  0553418025  B000X1MX7E  \n",
              "user_id                                                         \n",
              "A13QTZ8CIMHHG4         NaN         NaN         NaN         NaN  \n",
              "A1D2C0WDCSHUWZ         NaN         2.0         NaN         NaN  \n",
              "A2F6N60Z96CAJI         5.0         4.0         5.0        10.0  \n",
              "A2TX179XAT5GRP         NaN         NaN         NaN         NaN  \n",
              "AHUT55E980RDR          NaN         NaN         NaN         NaN  "
            ]
          },
          "metadata": {
            "tags": []
          },
          "execution_count": 153
        }
      ]
    },
    {
      "cell_type": "markdown",
      "metadata": {
        "id": "-Hgn89sG-Mu_"
      },
      "source": [
        "A matriz é bastante esparsa.\n",
        "\n",
        "Agora preciso transformar os ids dos usuários e dos livros em ids únicos sequenciais começando do zero, para ser usado no modelo."
      ]
    },
    {
      "cell_type": "code",
      "metadata": {
        "colab": {
          "base_uri": "https://localhost:8080/"
        },
        "id": "_4Z_HZzE-nf5",
        "outputId": "11c409eb-c20e-430f-e60d-8bd8859da2c0"
      },
      "source": [
        "user_enc = LabelEncoder()\n",
        "df['user'] = user_enc.fit_transform(df['user_id'].values)\n",
        "n_users = df['user'].nunique()\n",
        "\n",
        "item_enc = LabelEncoder()\n",
        "df['book'] = item_enc.fit_transform(df['book_id'].values)\n",
        "n_books = df['book'].nunique()\n",
        "\n",
        "df['rating'] = df['rating'].values.astype(np.float32)\n",
        "min_rating = min(df['rating'])\n",
        "max_rating = max(df['rating'])\n",
        "\n",
        "n_users, n_books, min_rating, max_rating"
      ],
      "execution_count": 154,
      "outputs": [
        {
          "output_type": "execute_result",
          "data": {
            "text/plain": [
              "(15362618, 2930451, 1.0, 5.0)"
            ]
          },
          "metadata": {
            "tags": []
          },
          "execution_count": 154
        }
      ]
    },
    {
      "cell_type": "code",
      "metadata": {
        "colab": {
          "base_uri": "https://localhost:8080/"
        },
        "id": "gVBShY_JkYKH",
        "outputId": "50615f92-7d9e-47b3-c579-c05c3c3665e5"
      },
      "source": [
        "df.isnull().sum()"
      ],
      "execution_count": 155,
      "outputs": [
        {
          "output_type": "execute_result",
          "data": {
            "text/plain": [
              "book_id    0\n",
              "user_id    0\n",
              "rating     0\n",
              "user       0\n",
              "book       0\n",
              "dtype: int64"
            ]
          },
          "metadata": {
            "tags": []
          },
          "execution_count": 155
        }
      ]
    },
    {
      "cell_type": "code",
      "metadata": {
        "id": "pzQJuXDFiQln",
        "colab": {
          "base_uri": "https://localhost:8080/"
        },
        "outputId": "0725a96b-16f1-43b3-f48e-4676f8606404"
      },
      "source": [
        "# split into train and test\n",
        "\n",
        "X = df[['user', 'book']].values\n",
        "y = df['rating'].values\n",
        "\n",
        "X_train, X_test, y_train, y_test = train_test_split(X, y, test_size=0.1, random_state=42)\n",
        "\n",
        "X_train.shape, X_test.shape, y_train.shape, y_test.shape"
      ],
      "execution_count": 156,
      "outputs": [
        {
          "output_type": "execute_result",
          "data": {
            "text/plain": [
              "((46180451, 2), (5131162, 2), (46180451,), (5131162,))"
            ]
          },
          "metadata": {
            "tags": []
          },
          "execution_count": 156
        }
      ]
    },
    {
      "cell_type": "code",
      "metadata": {
        "id": "piCn-tNHAHmI"
      },
      "source": [
        "n_factors = 10\n",
        "\n",
        "X_train_array = [X_train[:, 0], X_train[:, 1]]\n",
        "X_test_array = [X_test[:, 0], X_test[:, 1]]"
      ],
      "execution_count": 157,
      "outputs": []
    },
    {
      "cell_type": "markdown",
      "metadata": {
        "id": "a2UB4q9mAbCx"
      },
      "source": [
        "## Construção do modelo"
      ]
    },
    {
      "cell_type": "code",
      "metadata": {
        "id": "f7aUMwB3m3__"
      },
      "source": [
        "from keras.models import Model\n",
        "from keras.layers import Input, Reshape, Dot\n",
        "from keras.layers import Add, Activation, Lambda\n",
        "from keras.layers import Concatenate, Dense, Dropout\n",
        "from keras.layers.embeddings import Embedding\n",
        "from keras.optimizers import Adam, SGD\n",
        "from keras.regularizers import l2"
      ],
      "execution_count": 158,
      "outputs": []
    },
    {
      "cell_type": "code",
      "metadata": {
        "id": "14Ya86cCB1tt"
      },
      "source": [
        "class EmbeddingLayer:\n",
        "    def __init__(self, n_items, n_factors):\n",
        "        self.n_items = n_items\n",
        "        self.n_factors = n_factors\n",
        "    \n",
        "    def __call__(self, x):\n",
        "        x = Embedding(self.n_items, self.n_factors, embeddings_initializer='he_normal',\n",
        "                      embeddings_regularizer=l2(1e-6))(x)\n",
        "        x = Reshape((self.n_factors,))(x)\n",
        "        return x"
      ],
      "execution_count": 159,
      "outputs": []
    },
    {
      "cell_type": "code",
      "metadata": {
        "id": "VkQjnplOAzPG"
      },
      "source": [
        "def RecommenderNet(n_users, n_books, n_factors, min_rating, max_rating):\n",
        "    user = Input(shape=(1,))\n",
        "    u = EmbeddingLayer(n_users, n_factors)(user)\n",
        "    \n",
        "    book = Input(shape=(1,))\n",
        "    m = EmbeddingLayer(n_books, n_factors)(book)\n",
        "    \n",
        "    x = Concatenate()([u, m])\n",
        "    x = Dropout(0.05)(x)\n",
        "    \n",
        "    x = Dense(10, kernel_initializer='he_normal')(x)\n",
        "    x = Activation('relu')(x)\n",
        "    x = Dropout(0.5)(x)\n",
        "    \n",
        "    x = Dense(1, kernel_initializer='he_normal')(x)\n",
        "    x = Activation('sigmoid')(x)\n",
        "    x = Lambda(lambda x: x * (max_rating - min_rating) + min_rating)(x)\n",
        "\n",
        "    model = Model(inputs=[user, book], outputs=x)\n",
        "    opt = Adam(lr=0.01)\n",
        "    #opt=SGD(lr=0.01)\n",
        "    model.compile(loss='mean_squared_error', optimizer=opt)\n",
        "\n",
        "    return model"
      ],
      "execution_count": 160,
      "outputs": []
    },
    {
      "cell_type": "code",
      "metadata": {
        "id": "F3I57UQJuBFH",
        "colab": {
          "base_uri": "https://localhost:8080/"
        },
        "outputId": "c66026a5-2b42-4ed9-a3d4-d7bbbfd7ac52"
      },
      "source": [
        "model = RecommenderNet(n_users, n_books, n_factors, min_rating, max_rating)\n",
        "model.summary()"
      ],
      "execution_count": 161,
      "outputs": [
        {
          "output_type": "stream",
          "text": [
            "Model: \"model_18\"\n",
            "__________________________________________________________________________________________________\n",
            "Layer (type)                    Output Shape         Param #     Connected to                     \n",
            "==================================================================================================\n",
            "input_38 (InputLayer)           [(None, 1)]          0                                            \n",
            "__________________________________________________________________________________________________\n",
            "input_39 (InputLayer)           [(None, 1)]          0                                            \n",
            "__________________________________________________________________________________________________\n",
            "embedding_38 (Embedding)        (None, 1, 10)        153626180   input_38[0][0]                   \n",
            "__________________________________________________________________________________________________\n",
            "embedding_39 (Embedding)        (None, 1, 10)        29304510    input_39[0][0]                   \n",
            "__________________________________________________________________________________________________\n",
            "reshape_38 (Reshape)            (None, 10)           0           embedding_38[0][0]               \n",
            "__________________________________________________________________________________________________\n",
            "reshape_39 (Reshape)            (None, 10)           0           embedding_39[0][0]               \n",
            "__________________________________________________________________________________________________\n",
            "concatenate_15 (Concatenate)    (None, 20)           0           reshape_38[0][0]                 \n",
            "                                                                 reshape_39[0][0]                 \n",
            "__________________________________________________________________________________________________\n",
            "dropout_30 (Dropout)            (None, 20)           0           concatenate_15[0][0]             \n",
            "__________________________________________________________________________________________________\n",
            "dense_30 (Dense)                (None, 10)           210         dropout_30[0][0]                 \n",
            "__________________________________________________________________________________________________\n",
            "activation_31 (Activation)      (None, 10)           0           dense_30[0][0]                   \n",
            "__________________________________________________________________________________________________\n",
            "dropout_31 (Dropout)            (None, 10)           0           activation_31[0][0]              \n",
            "__________________________________________________________________________________________________\n",
            "dense_31 (Dense)                (None, 1)            11          dropout_31[0][0]                 \n",
            "__________________________________________________________________________________________________\n",
            "activation_32 (Activation)      (None, 1)            0           dense_31[0][0]                   \n",
            "__________________________________________________________________________________________________\n",
            "lambda_16 (Lambda)              (None, 1)            0           activation_32[0][0]              \n",
            "==================================================================================================\n",
            "Total params: 182,930,911\n",
            "Trainable params: 182,930,911\n",
            "Non-trainable params: 0\n",
            "__________________________________________________________________________________________________\n"
          ],
          "name": "stdout"
        }
      ]
    },
    {
      "cell_type": "code",
      "metadata": {
        "colab": {
          "base_uri": "https://localhost:8080/",
          "height": 231
        },
        "id": "Bf50Fx7fuHid",
        "outputId": "ee7ba438-123b-4cb8-c4fb-082c958daa19"
      },
      "source": [
        "history = model.fit(x=X_train_array, \n",
        "                    y=y_train, \n",
        "                    batch_size=64, \n",
        "                    epochs=5,\n",
        "                    verbose=1, \n",
        "                    validation_data=(X_test_array, y_test)\n",
        "                    )"
      ],
      "execution_count": 1,
      "outputs": [
        {
          "output_type": "error",
          "ename": "NameError",
          "evalue": "ignored",
          "traceback": [
            "\u001b[0;31m---------------------------------------------------------------------------\u001b[0m",
            "\u001b[0;31mNameError\u001b[0m                                 Traceback (most recent call last)",
            "\u001b[0;32m<ipython-input-1-c219518c6777>\u001b[0m in \u001b[0;36m<module>\u001b[0;34m()\u001b[0m\n\u001b[0;32m----> 1\u001b[0;31m history = model.fit(x=X_train_array, \n\u001b[0m\u001b[1;32m      2\u001b[0m                     \u001b[0my\u001b[0m\u001b[0;34m=\u001b[0m\u001b[0my_train\u001b[0m\u001b[0;34m,\u001b[0m\u001b[0;34m\u001b[0m\u001b[0;34m\u001b[0m\u001b[0m\n\u001b[1;32m      3\u001b[0m                     \u001b[0mbatch_size\u001b[0m\u001b[0;34m=\u001b[0m\u001b[0;36m64\u001b[0m\u001b[0;34m,\u001b[0m\u001b[0;34m\u001b[0m\u001b[0;34m\u001b[0m\u001b[0m\n\u001b[1;32m      4\u001b[0m                     \u001b[0mepochs\u001b[0m\u001b[0;34m=\u001b[0m\u001b[0;36m5\u001b[0m\u001b[0;34m,\u001b[0m\u001b[0;34m\u001b[0m\u001b[0;34m\u001b[0m\u001b[0m\n\u001b[1;32m      5\u001b[0m                     \u001b[0mverbose\u001b[0m\u001b[0;34m=\u001b[0m\u001b[0;36m1\u001b[0m\u001b[0;34m,\u001b[0m\u001b[0;34m\u001b[0m\u001b[0;34m\u001b[0m\u001b[0m\n",
            "\u001b[0;31mNameError\u001b[0m: name 'model' is not defined"
          ]
        }
      ]
    },
    {
      "cell_type": "code",
      "metadata": {
        "colab": {
          "base_uri": "https://localhost:8080/",
          "height": 265
        },
        "id": "qCnNtYjiuKnx",
        "outputId": "7d0482a1-63cd-439d-9c71-0ce21a5b6a72"
      },
      "source": [
        "# plot losses\n",
        "plt.plot(history.history['loss'], label=\"train loss\")\n",
        "plt.plot(history.history['val_loss'], label=\"test loss\")\n",
        "plt.legend()\n",
        "plt.show()"
      ],
      "execution_count": null,
      "outputs": [
        {
          "output_type": "display_data",
          "data": {
            "image/png": "[encoded data removed]",
            "text/plain": [
              "<Figure size 432x288 with 1 Axes>"
            ]
          },
          "metadata": {
            "tags": [],
            "needs_background": "light"
          }
        }
      ]
    },
    {
      "cell_type": "code",
      "metadata": {
        "id": "YwlffFQFMw7K"
      },
      "source": [
        "# plot accuracy\n",
        "plt.plot(history.history['accuracy'], label=\"train accuracy\")\n",
        "plt.plot(history.history['val_accuracy'], label=\"test accuracy\")\n",
        "plt.legend()\n",
        "plt.show()"
      ],
      "execution_count": null,
      "outputs": []
    }
  ]
}