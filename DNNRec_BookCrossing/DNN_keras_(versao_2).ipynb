{
  "nbformat": 4,
  "nbformat_minor": 0,
  "metadata": {
    "colab": {
      "name": "DNN_keras (versao 2).ipynb",
      "provenance": [],
      "collapsed_sections": [],
      "toc_visible": true,
      "mount_file_id": "1sl5SlsF2zdlBvMT6pOsKq68CGmTVC0za",
      "authorship_tag": "ABX9TyNXjQNSeE4oz3Z0IhaklrRi",
      "include_colab_link": true
    },
    "kernelspec": {
      "display_name": "Python 3",
      "name": "python3"
    },
    "language_info": {
      "name": "python"
    },
    "accelerator": "GPU"
  },
  "cells": [
    {
      "cell_type": "markdown",
      "metadata": {
        "id": "view-in-github",
        "colab_type": "text"
      },
      "source": [
        "<a href=\"https://colab.research.google.com/github/brunacmendes/book-recommender-project/blob/main/DNN_keras_(versao_2).ipynb\" target=\"_parent\"><img src=\"https://colab.research.google.com/assets/colab-badge.svg\" alt=\"Open In Colab\"/></a>"
      ]
    },
    {
      "cell_type": "code",
      "metadata": {
        "id": "z7hdD_4Tq-kp"
      },
      "source": [
        "from __future__ import print_function, division\n",
        "from builtins import range, input\n",
        "\n",
        "%matplotlib inline\n",
        "from zipfile import ZipFile\n",
        "from pathlib import Path\n",
        "import numpy as np\n",
        "import pandas as pd\n",
        "import pickle\n",
        "import matplotlib.pyplot as plt\n",
        "from sklearn.model_selection import train_test_split\n",
        "from sklearn.preprocessing import LabelEncoder\n",
        "from tensorflow import keras\n",
        "import tensorflow as tf\n"
      ],
      "execution_count": 1,
      "outputs": []
    },
    {
      "cell_type": "markdown",
      "metadata": {
        "id": "vwTC0Rqpv6j3"
      },
      "source": [
        "# Carregar dados e Pre-processamento"
      ]
    },
    {
      "cell_type": "code",
      "metadata": {
        "id": "nuBG5Mcj7443"
      },
      "source": [
        "# Load the Drive helper and mount\n",
        "#from google.colab import drive\n",
        "\n",
        "# This will prompt for authorization.\n",
        "#drive.mount('/content/drive')\n",
        "\n",
        "#df = pd.read_csv('/content/drive/MyDrive/amazon_ratings.csv')"
      ],
      "execution_count": 36,
      "outputs": []
    },
    {
      "cell_type": "code",
      "metadata": {
        "id": "LoFPe6FHgoBm",
        "colab": {
          "base_uri": "https://localhost:8080/"
        },
        "outputId": "2e5d9494-a7b6-4dc0-cbcd-b89cd49b7b00"
      },
      "source": [
        "bookcrossing_data_file_url = (\n",
        "    \"http://www2.informatik.uni-freiburg.de/~cziegler/BX/BX-CSV-Dump.zip\"\n",
        ")\n",
        "BX_zipped_file = keras.utils.get_file(\n",
        "    \"BX-CSV-Dump.zip\", bookcrossing_data_file_url, extract=False\n",
        ")\n",
        "keras_datasets_path = Path(BX_zipped_file).parents[0]\n",
        "BX_dir = keras_datasets_path / 'book-crossing'\n",
        "\n",
        "# Only extract the data the first time the script is run.\n",
        "if not BX_dir.exists():\n",
        "    with ZipFile(BX_zipped_file, \"r\") as zip:\n",
        "        # Extract files\n",
        "        print(\"Extracting all the files now...\")\n",
        "        zip.extractall(path=BX_dir)\n",
        "        print(\"Done!\")\n",
        "\n",
        "ratings_file = BX_dir / 'BX-Book-Ratings.csv'\n",
        "r_cols = ['user_id', 'book_id', 'rating']\n",
        "df = pd.read_csv(ratings_file, sep=';', names=r_cols, encoding='latin-1', low_memory=False)\n",
        "df = df.drop(df.index[0])"
      ],
      "execution_count": 2,
      "outputs": [
        {
          "output_type": "stream",
          "text": [
            "Downloading data from http://www2.informatik.uni-freiburg.de/~cziegler/BX/BX-CSV-Dump.zip\n",
            "26091520/26085508 [==============================] - 1s 0us/step\n",
            "Extracting all the files now...\n",
            "Done!\n"
          ],
          "name": "stdout"
        }
      ]
    },
    {
      "cell_type": "code",
      "metadata": {
        "colab": {
          "base_uri": "https://localhost:8080/",
          "height": 204
        },
        "id": "2ksx4pTV8IsO",
        "outputId": "5c408869-c005-4b49-bdcb-1991effb0a63"
      },
      "source": [
        "df.head()"
      ],
      "execution_count": 3,
      "outputs": [
        {
          "output_type": "execute_result",
          "data": {
            "text/html": [
              "<div>\n",
              "<style scoped>\n",
              "    .dataframe tbody tr th:only-of-type {\n",
              "        vertical-align: middle;\n",
              "    }\n",
              "\n",
              "    .dataframe tbody tr th {\n",
              "        vertical-align: top;\n",
              "    }\n",
              "\n",
              "    .dataframe thead th {\n",
              "        text-align: right;\n",
              "    }\n",
              "</style>\n",
              "<table border=\"1\" class=\"dataframe\">\n",
              "  <thead>\n",
              "    <tr style=\"text-align: right;\">\n",
              "      <th></th>\n",
              "      <th>user_id</th>\n",
              "      <th>book_id</th>\n",
              "      <th>rating</th>\n",
              "    </tr>\n",
              "  </thead>\n",
              "  <tbody>\n",
              "    <tr>\n",
              "      <th>1</th>\n",
              "      <td>276725</td>\n",
              "      <td>034545104X</td>\n",
              "      <td>0</td>\n",
              "    </tr>\n",
              "    <tr>\n",
              "      <th>2</th>\n",
              "      <td>276726</td>\n",
              "      <td>0155061224</td>\n",
              "      <td>5</td>\n",
              "    </tr>\n",
              "    <tr>\n",
              "      <th>3</th>\n",
              "      <td>276727</td>\n",
              "      <td>0446520802</td>\n",
              "      <td>0</td>\n",
              "    </tr>\n",
              "    <tr>\n",
              "      <th>4</th>\n",
              "      <td>276729</td>\n",
              "      <td>052165615X</td>\n",
              "      <td>3</td>\n",
              "    </tr>\n",
              "    <tr>\n",
              "      <th>5</th>\n",
              "      <td>276729</td>\n",
              "      <td>0521795028</td>\n",
              "      <td>6</td>\n",
              "    </tr>\n",
              "  </tbody>\n",
              "</table>\n",
              "</div>"
            ],
            "text/plain": [
              "  user_id     book_id rating\n",
              "1  276725  034545104X      0\n",
              "2  276726  0155061224      5\n",
              "3  276727  0446520802      0\n",
              "4  276729  052165615X      3\n",
              "5  276729  0521795028      6"
            ]
          },
          "metadata": {
            "tags": []
          },
          "execution_count": 3
        }
      ]
    },
    {
      "cell_type": "markdown",
      "metadata": {
        "id": "o1oS53Jfv2i0"
      },
      "source": [
        "Agora preciso transformar os ids dos usuários e dos livros em ids únicos sequenciais começando do zero, para ser usado no modelo."
      ]
    },
    {
      "cell_type": "code",
      "metadata": {
        "colab": {
          "base_uri": "https://localhost:8080/"
        },
        "id": "2oEOZR3RuS7x",
        "outputId": "a8e6dec4-499c-4369-c096-10cf5c979e9d"
      },
      "source": [
        "#transforma ratings em valor float\n",
        "df[\"rating\"] = df[\"rating\"].values.astype(np.float32)\n",
        "\n",
        "\n",
        "#------apenas para o dataset do bookcrossing\n",
        "# manter apenas as avaliações explicitas - nota 0 signfica que o usuario apenas interagiu com o produto de alguma forma\n",
        "df=df.loc[df['rating']>0]\n",
        "\n",
        "#colocar ratings que sao de 1-10 para serem de 0.5 a 5\n",
        "df['rating']=df[\"rating\"].apply(lambda x: x/2)\n",
        "#-------------------------------------------------\n",
        "\n",
        "#transforma os ids dos usuarios e livros \n",
        "user_ids = df[\"user_id\"].unique().tolist()\n",
        "user2user_encoded = {x: i for i, x in enumerate(user_ids)}\n",
        "userencoded2user = {i: x for i, x in enumerate(user_ids)}\n",
        "book_ids = df[\"book_id\"].unique().tolist()\n",
        "book2book_encoded = {x: i for i, x in enumerate(book_ids)}\n",
        "book_encoded2book = {i: x for i, x in enumerate(book_ids)}\n",
        "df[\"user\"] = df[\"user_id\"].map(user2user_encoded)\n",
        "df[\"book\"] = df[\"book_id\"].map(book2book_encoded)\n",
        "\n",
        "n_users = len(user2user_encoded)\n",
        "n_books = len(book_encoded2book)\n",
        "\n",
        "# min and max ratings will be used to normalize the ratings later\n",
        "min_rating = min(df[\"rating\"])\n",
        "max_rating = max(df[\"rating\"])\n",
        "\n",
        "print(\n",
        "    \"Number of users: {}, Number of books: {}, Min rating: {}, Max rating: {}\".format(\n",
        "        n_users, n_books, min_rating, max_rating\n",
        "    )\n",
        ")"
      ],
      "execution_count": 4,
      "outputs": [
        {
          "output_type": "stream",
          "text": [
            "Number of users: 77805, Number of books: 185973, Min rating: 0.5, Max rating: 5.0\n"
          ],
          "name": "stdout"
        }
      ]
    },
    {
      "cell_type": "code",
      "metadata": {
        "colab": {
          "base_uri": "https://localhost:8080/",
          "height": 204
        },
        "id": "A7d1vtqGJNa2",
        "outputId": "2ea4d33e-9003-4a82-ad7e-9bce57282488"
      },
      "source": [
        "df.head()"
      ],
      "execution_count": 5,
      "outputs": [
        {
          "output_type": "execute_result",
          "data": {
            "text/html": [
              "<div>\n",
              "<style scoped>\n",
              "    .dataframe tbody tr th:only-of-type {\n",
              "        vertical-align: middle;\n",
              "    }\n",
              "\n",
              "    .dataframe tbody tr th {\n",
              "        vertical-align: top;\n",
              "    }\n",
              "\n",
              "    .dataframe thead th {\n",
              "        text-align: right;\n",
              "    }\n",
              "</style>\n",
              "<table border=\"1\" class=\"dataframe\">\n",
              "  <thead>\n",
              "    <tr style=\"text-align: right;\">\n",
              "      <th></th>\n",
              "      <th>user_id</th>\n",
              "      <th>book_id</th>\n",
              "      <th>rating</th>\n",
              "      <th>user</th>\n",
              "      <th>book</th>\n",
              "    </tr>\n",
              "  </thead>\n",
              "  <tbody>\n",
              "    <tr>\n",
              "      <th>2</th>\n",
              "      <td>276726</td>\n",
              "      <td>0155061224</td>\n",
              "      <td>2.5</td>\n",
              "      <td>0</td>\n",
              "      <td>0</td>\n",
              "    </tr>\n",
              "    <tr>\n",
              "      <th>4</th>\n",
              "      <td>276729</td>\n",
              "      <td>052165615X</td>\n",
              "      <td>1.5</td>\n",
              "      <td>1</td>\n",
              "      <td>1</td>\n",
              "    </tr>\n",
              "    <tr>\n",
              "      <th>5</th>\n",
              "      <td>276729</td>\n",
              "      <td>0521795028</td>\n",
              "      <td>3.0</td>\n",
              "      <td>1</td>\n",
              "      <td>2</td>\n",
              "    </tr>\n",
              "    <tr>\n",
              "      <th>7</th>\n",
              "      <td>276736</td>\n",
              "      <td>3257224281</td>\n",
              "      <td>4.0</td>\n",
              "      <td>2</td>\n",
              "      <td>3</td>\n",
              "    </tr>\n",
              "    <tr>\n",
              "      <th>8</th>\n",
              "      <td>276737</td>\n",
              "      <td>0600570967</td>\n",
              "      <td>3.0</td>\n",
              "      <td>3</td>\n",
              "      <td>4</td>\n",
              "    </tr>\n",
              "  </tbody>\n",
              "</table>\n",
              "</div>"
            ],
            "text/plain": [
              "  user_id     book_id  rating  user  book\n",
              "2  276726  0155061224     2.5     0     0\n",
              "4  276729  052165615X     1.5     1     1\n",
              "5  276729  0521795028     3.0     1     2\n",
              "7  276736  3257224281     4.0     2     3\n",
              "8  276737  0600570967     3.0     3     4"
            ]
          },
          "metadata": {
            "tags": []
          },
          "execution_count": 5
        }
      ]
    },
    {
      "cell_type": "markdown",
      "metadata": {
        "id": "agjLq8vc9Lrf"
      },
      "source": [
        "Para ter uma ideia melhor de como os dados se parecem, podemos transformá-los em uma tabela selecionando os 15 principais usuários/livros dos dados e juntando-os. O resultado mostra como cada um dos principais usuários classificou cada um dos livros principais."
      ]
    },
    {
      "cell_type": "code",
      "metadata": {
        "colab": {
          "base_uri": "https://localhost:8080/",
          "height": 410
        },
        "id": "IO1qmrQG9Y7s",
        "outputId": "ac0a1feb-e2a0-4b2e-d37b-2da5fa309d18"
      },
      "source": [
        "g = df.groupby('user_id')['rating'].count()\n",
        "top_users = g.sort_values(ascending=False)[:15]\n",
        "\n",
        "g = df.groupby('book_id')['rating'].count()\n",
        "top_books = g.sort_values(ascending=False)[:15]\n",
        "\n",
        "top_r = df.join(top_users, rsuffix='_r', how='inner', on='user_id')\n",
        "top_r = top_r.join(top_books, rsuffix='_r', how='inner', on='book_id')\n",
        "\n",
        "pd.crosstab(top_r.user_id, top_r.book_id, top_r.rating, aggfunc=np.sum)"
      ],
      "execution_count": 6,
      "outputs": [
        {
          "output_type": "execute_result",
          "data": {
            "text/html": [
              "<div>\n",
              "<style scoped>\n",
              "    .dataframe tbody tr th:only-of-type {\n",
              "        vertical-align: middle;\n",
              "    }\n",
              "\n",
              "    .dataframe tbody tr th {\n",
              "        vertical-align: top;\n",
              "    }\n",
              "\n",
              "    .dataframe thead th {\n",
              "        text-align: right;\n",
              "    }\n",
              "</style>\n",
              "<table border=\"1\" class=\"dataframe\">\n",
              "  <thead>\n",
              "    <tr style=\"text-align: right;\">\n",
              "      <th>book_id</th>\n",
              "      <th>0142001740</th>\n",
              "      <th>0312195516</th>\n",
              "      <th>0316666343</th>\n",
              "      <th>0316769487</th>\n",
              "      <th>0385504209</th>\n",
              "      <th>044023722X</th>\n",
              "      <th>0446672211</th>\n",
              "      <th>059035342X</th>\n",
              "      <th>067976402X</th>\n",
              "      <th>0679781587</th>\n",
              "      <th>0971880107</th>\n",
              "    </tr>\n",
              "    <tr>\n",
              "      <th>user_id</th>\n",
              "      <th></th>\n",
              "      <th></th>\n",
              "      <th></th>\n",
              "      <th></th>\n",
              "      <th></th>\n",
              "      <th></th>\n",
              "      <th></th>\n",
              "      <th></th>\n",
              "      <th></th>\n",
              "      <th></th>\n",
              "      <th></th>\n",
              "    </tr>\n",
              "  </thead>\n",
              "  <tbody>\n",
              "    <tr>\n",
              "      <th>11676</th>\n",
              "      <td>NaN</td>\n",
              "      <td>5.0</td>\n",
              "      <td>2.5</td>\n",
              "      <td>NaN</td>\n",
              "      <td>4.5</td>\n",
              "      <td>4.0</td>\n",
              "      <td>5.0</td>\n",
              "      <td>5.0</td>\n",
              "      <td>5.0</td>\n",
              "      <td>NaN</td>\n",
              "      <td>3.0</td>\n",
              "    </tr>\n",
              "    <tr>\n",
              "      <th>153662</th>\n",
              "      <td>NaN</td>\n",
              "      <td>NaN</td>\n",
              "      <td>NaN</td>\n",
              "      <td>NaN</td>\n",
              "      <td>NaN</td>\n",
              "      <td>NaN</td>\n",
              "      <td>NaN</td>\n",
              "      <td>5.0</td>\n",
              "      <td>5.0</td>\n",
              "      <td>NaN</td>\n",
              "      <td>NaN</td>\n",
              "    </tr>\n",
              "    <tr>\n",
              "      <th>16795</th>\n",
              "      <td>5.0</td>\n",
              "      <td>4.5</td>\n",
              "      <td>5.0</td>\n",
              "      <td>4.0</td>\n",
              "      <td>5.0</td>\n",
              "      <td>NaN</td>\n",
              "      <td>4.0</td>\n",
              "      <td>NaN</td>\n",
              "      <td>NaN</td>\n",
              "      <td>NaN</td>\n",
              "      <td>NaN</td>\n",
              "    </tr>\n",
              "    <tr>\n",
              "      <th>189835</th>\n",
              "      <td>NaN</td>\n",
              "      <td>4.5</td>\n",
              "      <td>NaN</td>\n",
              "      <td>NaN</td>\n",
              "      <td>NaN</td>\n",
              "      <td>NaN</td>\n",
              "      <td>NaN</td>\n",
              "      <td>NaN</td>\n",
              "      <td>NaN</td>\n",
              "      <td>NaN</td>\n",
              "      <td>NaN</td>\n",
              "    </tr>\n",
              "    <tr>\n",
              "      <th>235105</th>\n",
              "      <td>NaN</td>\n",
              "      <td>NaN</td>\n",
              "      <td>4.0</td>\n",
              "      <td>NaN</td>\n",
              "      <td>3.0</td>\n",
              "      <td>NaN</td>\n",
              "      <td>NaN</td>\n",
              "      <td>NaN</td>\n",
              "      <td>NaN</td>\n",
              "      <td>NaN</td>\n",
              "      <td>NaN</td>\n",
              "    </tr>\n",
              "    <tr>\n",
              "      <th>23902</th>\n",
              "      <td>NaN</td>\n",
              "      <td>NaN</td>\n",
              "      <td>NaN</td>\n",
              "      <td>NaN</td>\n",
              "      <td>NaN</td>\n",
              "      <td>3.0</td>\n",
              "      <td>NaN</td>\n",
              "      <td>NaN</td>\n",
              "      <td>NaN</td>\n",
              "      <td>NaN</td>\n",
              "      <td>NaN</td>\n",
              "    </tr>\n",
              "    <tr>\n",
              "      <th>248718</th>\n",
              "      <td>NaN</td>\n",
              "      <td>NaN</td>\n",
              "      <td>NaN</td>\n",
              "      <td>NaN</td>\n",
              "      <td>NaN</td>\n",
              "      <td>NaN</td>\n",
              "      <td>NaN</td>\n",
              "      <td>NaN</td>\n",
              "      <td>NaN</td>\n",
              "      <td>2.5</td>\n",
              "      <td>NaN</td>\n",
              "    </tr>\n",
              "    <tr>\n",
              "      <th>35859</th>\n",
              "      <td>4.5</td>\n",
              "      <td>5.0</td>\n",
              "      <td>3.0</td>\n",
              "      <td>NaN</td>\n",
              "      <td>NaN</td>\n",
              "      <td>NaN</td>\n",
              "      <td>NaN</td>\n",
              "      <td>5.0</td>\n",
              "      <td>NaN</td>\n",
              "      <td>NaN</td>\n",
              "      <td>NaN</td>\n",
              "    </tr>\n",
              "    <tr>\n",
              "      <th>56399</th>\n",
              "      <td>NaN</td>\n",
              "      <td>NaN</td>\n",
              "      <td>NaN</td>\n",
              "      <td>NaN</td>\n",
              "      <td>NaN</td>\n",
              "      <td>NaN</td>\n",
              "      <td>NaN</td>\n",
              "      <td>NaN</td>\n",
              "      <td>NaN</td>\n",
              "      <td>NaN</td>\n",
              "      <td>2.5</td>\n",
              "    </tr>\n",
              "    <tr>\n",
              "      <th>98391</th>\n",
              "      <td>NaN</td>\n",
              "      <td>NaN</td>\n",
              "      <td>4.5</td>\n",
              "      <td>NaN</td>\n",
              "      <td>5.0</td>\n",
              "      <td>NaN</td>\n",
              "      <td>NaN</td>\n",
              "      <td>NaN</td>\n",
              "      <td>NaN</td>\n",
              "      <td>NaN</td>\n",
              "      <td>NaN</td>\n",
              "    </tr>\n",
              "  </tbody>\n",
              "</table>\n",
              "</div>"
            ],
            "text/plain": [
              "book_id  0142001740  0312195516  0316666343  ...  067976402X  0679781587  0971880107\n",
              "user_id                                      ...                                    \n",
              "11676           NaN         5.0         2.5  ...         5.0         NaN         3.0\n",
              "153662          NaN         NaN         NaN  ...         5.0         NaN         NaN\n",
              "16795           5.0         4.5         5.0  ...         NaN         NaN         NaN\n",
              "189835          NaN         4.5         NaN  ...         NaN         NaN         NaN\n",
              "235105          NaN         NaN         4.0  ...         NaN         NaN         NaN\n",
              "23902           NaN         NaN         NaN  ...         NaN         NaN         NaN\n",
              "248718          NaN         NaN         NaN  ...         NaN         2.5         NaN\n",
              "35859           4.5         5.0         3.0  ...         NaN         NaN         NaN\n",
              "56399           NaN         NaN         NaN  ...         NaN         NaN         2.5\n",
              "98391           NaN         NaN         4.5  ...         NaN         NaN         NaN\n",
              "\n",
              "[10 rows x 11 columns]"
            ]
          },
          "metadata": {
            "tags": []
          },
          "execution_count": 6
        }
      ]
    },
    {
      "cell_type": "code",
      "metadata": {
        "colab": {
          "base_uri": "https://localhost:8080/"
        },
        "id": "gVBShY_JkYKH",
        "outputId": "6324c681-6e08-4eab-e2b3-f4c208cafe07"
      },
      "source": [
        "df.isnull().sum()"
      ],
      "execution_count": 7,
      "outputs": [
        {
          "output_type": "execute_result",
          "data": {
            "text/plain": [
              "user_id    0\n",
              "book_id    0\n",
              "rating     0\n",
              "user       0\n",
              "book       0\n",
              "dtype: int64"
            ]
          },
          "metadata": {
            "tags": []
          },
          "execution_count": 7
        }
      ]
    },
    {
      "cell_type": "markdown",
      "metadata": {
        "id": "zCj5Cn5twXWv"
      },
      "source": [
        "# Preparar dados de treinamento e de teste"
      ]
    },
    {
      "cell_type": "code",
      "metadata": {
        "id": "pzQJuXDFiQln",
        "colab": {
          "base_uri": "https://localhost:8080/"
        },
        "outputId": "f66cea76-4fef-408a-a5b2-70cefcf723bb"
      },
      "source": [
        "# split into train and test\n",
        "\n",
        "df = df.sample(frac=1, random_state=42)\n",
        "x = df[[\"user\", \"book\"]].values\n",
        "# Normalize the targets between 0 and 1. Makes it easy to train.\n",
        "y = df[\"rating\"].apply(lambda x: (x - min_rating) / (max_rating - min_rating)).values\n",
        "# Assuming training on 80% of the data and validating on 10%.\n",
        "train_indices = int(0.8 * df.shape[0])\n",
        "x_train, x_test, y_train, y_test = (\n",
        "    x[:train_indices],\n",
        "    x[train_indices:],\n",
        "    y[:train_indices],\n",
        "    y[train_indices:],\n",
        ")\n",
        "\n",
        "\n",
        "x_train.shape, x_test.shape, y_train.shape, y_test.shape"
      ],
      "execution_count": 10,
      "outputs": [
        {
          "output_type": "execute_result",
          "data": {
            "text/plain": [
              "((346936, 2), (86735, 2), (346936,), (86735,))"
            ]
          },
          "metadata": {
            "tags": []
          },
          "execution_count": 10
        }
      ]
    },
    {
      "cell_type": "markdown",
      "metadata": {
        "id": "a2UB4q9mAbCx"
      },
      "source": [
        "# Construção do modelo"
      ]
    },
    {
      "cell_type": "code",
      "metadata": {
        "id": "f7aUMwB3m3__"
      },
      "source": [
        "from keras.models import Model\n",
        "from keras.layers import Input, Reshape, Dot\n",
        "from keras.layers import Add, Activation, Lambda, BatchNormalization, Flatten\n",
        "from keras.layers import Concatenate, Dense, Dropout\n",
        "from keras.layers.embeddings import Embedding\n",
        "from keras.optimizers import Adam, SGD\n",
        "from keras.regularizers import l2"
      ],
      "execution_count": 11,
      "outputs": []
    },
    {
      "cell_type": "code",
      "metadata": {
        "id": "14Ya86cCB1tt"
      },
      "source": [
        "n_factors = 25\n",
        "\n",
        "X_train_array = [x_train[:, 0], x_train[:, 1]]\n",
        "X_test_array = [x_test[:, 0], x_test[:, 1]]\n",
        "\n",
        "class EmbeddingLayer:\n",
        "    def __init__(self, n_items, n_factors):\n",
        "        self.n_items = n_items\n",
        "        self.n_factors = n_factors\n",
        "        \n",
        "    \n",
        "    def __call__(self, x):\n",
        "        x = Embedding(self.n_items, self.n_factors, embeddings_initializer='he_normal',\n",
        "                      embeddings_regularizer=l2(1e-6))(x)\n",
        "        x = Reshape((self.n_factors,))(x)\n",
        "        #x = Flatten()(x)\n",
        "        return x"
      ],
      "execution_count": 12,
      "outputs": []
    },
    {
      "cell_type": "code",
      "metadata": {
        "id": "VkQjnplOAzPG"
      },
      "source": [
        "def RecommenderNet(n_users, n_books, n_factors, min_rating, max_rating):\n",
        "    user = Input(shape=(1,))\n",
        "    u = EmbeddingLayer(n_users, n_factors)(user)\n",
        "    \n",
        "    book = Input(shape=(1,))\n",
        "    m = EmbeddingLayer(n_books, n_factors)(book)\n",
        "\n",
        "    #as outras caracteristicas dos datasets sao adicionadas como camadas de embedding\n",
        "    \n",
        "    x = Concatenate()([u, m])\n",
        "    x = Dropout(0.05)(x)\n",
        "\n",
        "    x = Dense(100, kernel_initializer='he_normal')(x)\n",
        "    x = Activation('relu')(x)\n",
        "\n",
        "    x = Dense(50, kernel_initializer='he_normal')(x)\n",
        "    x = Activation('relu')(x)\n",
        "    x = Dropout(0.2)(x)\n",
        "\n",
        "    x = Dense(10, kernel_initializer='he_normal')(x)\n",
        "    x = Activation('relu')(x)\n",
        "    x = Dropout(0.2)(x)\n",
        "    \n",
        "    x = Dense(1, kernel_initializer='he_normal')(x)\n",
        "    x = Activation('sigmoid')(x)\n",
        "    #x = Lambda(lambda x: x * (max_rating - min_rating) + min_rating)(x)\n",
        "\n",
        "    model = Model(inputs=[user, book], outputs=x)\n",
        "    #opt = Adam(lr=0.001)\n",
        "    opt=SGD(lr=0.0025)\n",
        "    model.compile(loss=tf.keras.losses.BinaryCrossentropy(), optimizer=opt, metrics=['mse','mae'])\n",
        "\n",
        "    return model"
      ],
      "execution_count": 23,
      "outputs": []
    },
    {
      "cell_type": "code",
      "metadata": {
        "id": "F3I57UQJuBFH",
        "colab": {
          "base_uri": "https://localhost:8080/"
        },
        "outputId": "6adf1d05-2c6d-4efa-9887-5a4f070c844d"
      },
      "source": [
        "model = RecommenderNet(n_users, n_books, n_factors, min_rating, max_rating)\n",
        "model.summary()"
      ],
      "execution_count": 25,
      "outputs": [
        {
          "output_type": "stream",
          "text": [
            "Model: \"model_3\"\n",
            "__________________________________________________________________________________________________\n",
            "Layer (type)                    Output Shape         Param #     Connected to                     \n",
            "==================================================================================================\n",
            "input_7 (InputLayer)            [(None, 1)]          0                                            \n",
            "__________________________________________________________________________________________________\n",
            "input_8 (InputLayer)            [(None, 1)]          0                                            \n",
            "__________________________________________________________________________________________________\n",
            "embedding_6 (Embedding)         (None, 1, 25)        1945125     input_7[0][0]                    \n",
            "__________________________________________________________________________________________________\n",
            "embedding_7 (Embedding)         (None, 1, 25)        4649325     input_8[0][0]                    \n",
            "__________________________________________________________________________________________________\n",
            "reshape_6 (Reshape)             (None, 25)           0           embedding_6[0][0]                \n",
            "__________________________________________________________________________________________________\n",
            "reshape_7 (Reshape)             (None, 25)           0           embedding_7[0][0]                \n",
            "__________________________________________________________________________________________________\n",
            "concatenate_3 (Concatenate)     (None, 50)           0           reshape_6[0][0]                  \n",
            "                                                                 reshape_7[0][0]                  \n",
            "__________________________________________________________________________________________________\n",
            "dropout_9 (Dropout)             (None, 50)           0           concatenate_3[0][0]              \n",
            "__________________________________________________________________________________________________\n",
            "dense_12 (Dense)                (None, 100)          5100        dropout_9[0][0]                  \n",
            "__________________________________________________________________________________________________\n",
            "activation_12 (Activation)      (None, 100)          0           dense_12[0][0]                   \n",
            "__________________________________________________________________________________________________\n",
            "dense_13 (Dense)                (None, 50)           5050        activation_12[0][0]              \n",
            "__________________________________________________________________________________________________\n",
            "activation_13 (Activation)      (None, 50)           0           dense_13[0][0]                   \n",
            "__________________________________________________________________________________________________\n",
            "dropout_10 (Dropout)            (None, 50)           0           activation_13[0][0]              \n",
            "__________________________________________________________________________________________________\n",
            "dense_14 (Dense)                (None, 10)           510         dropout_10[0][0]                 \n",
            "__________________________________________________________________________________________________\n",
            "activation_14 (Activation)      (None, 10)           0           dense_14[0][0]                   \n",
            "__________________________________________________________________________________________________\n",
            "dropout_11 (Dropout)            (None, 10)           0           activation_14[0][0]              \n",
            "__________________________________________________________________________________________________\n",
            "dense_15 (Dense)                (None, 1)            11          dropout_11[0][0]                 \n",
            "__________________________________________________________________________________________________\n",
            "activation_15 (Activation)      (None, 1)            0           dense_15[0][0]                   \n",
            "==================================================================================================\n",
            "Total params: 6,605,121\n",
            "Trainable params: 6,605,121\n",
            "Non-trainable params: 0\n",
            "__________________________________________________________________________________________________\n"
          ],
          "name": "stdout"
        }
      ]
    },
    {
      "cell_type": "code",
      "metadata": {
        "colab": {
          "base_uri": "https://localhost:8080/"
        },
        "id": "Bf50Fx7fuHid",
        "outputId": "1be2d6eb-7d70-47d6-911a-eb8c0c4ce682"
      },
      "source": [
        "history = model.fit(x=X_train_array, \n",
        "                    y=y_train, \n",
        "                    batch_size=512, \n",
        "                    epochs=10,\n",
        "                    verbose=1, \n",
        "                    validation_data=(X_test_array, y_test)\n",
        "                    )"
      ],
      "execution_count": 26,
      "outputs": [
        {
          "output_type": "stream",
          "text": [
            "Epoch 1/10\n",
            "678/678 [==============================] - 22s 31ms/step - loss: 0.6355 - mse: 0.0683 - mae: 0.2214 - val_loss: 0.5820 - val_mse: 0.0428 - val_mae: 0.1705\n",
            "Epoch 2/10\n",
            "678/678 [==============================] - 21s 31ms/step - loss: 0.5880 - mse: 0.0458 - mae: 0.1738 - val_loss: 0.5807 - val_mse: 0.0422 - val_mae: 0.1687\n",
            "Epoch 3/10\n",
            "678/678 [==============================] - 21s 31ms/step - loss: 0.5878 - mse: 0.0452 - mae: 0.1717 - val_loss: 0.5805 - val_mse: 0.0421 - val_mae: 0.1684\n",
            "Epoch 4/10\n",
            "678/678 [==============================] - 21s 31ms/step - loss: 0.5868 - mse: 0.0450 - mae: 0.1713 - val_loss: 0.5804 - val_mse: 0.0421 - val_mae: 0.1682\n",
            "Epoch 5/10\n",
            "678/678 [==============================] - 21s 31ms/step - loss: 0.5862 - mse: 0.0448 - mae: 0.1707 - val_loss: 0.5803 - val_mse: 0.0421 - val_mae: 0.1681\n",
            "Epoch 6/10\n",
            "678/678 [==============================] - 21s 31ms/step - loss: 0.5855 - mse: 0.0443 - mae: 0.1697 - val_loss: 0.5803 - val_mse: 0.0420 - val_mae: 0.1680\n",
            "Epoch 7/10\n",
            "678/678 [==============================] - 21s 31ms/step - loss: 0.5845 - mse: 0.0439 - mae: 0.1691 - val_loss: 0.5802 - val_mse: 0.0420 - val_mae: 0.1679\n",
            "Epoch 8/10\n",
            "678/678 [==============================] - 21s 31ms/step - loss: 0.5842 - mse: 0.0438 - mae: 0.1690 - val_loss: 0.5801 - val_mse: 0.0420 - val_mae: 0.1677\n",
            "Epoch 9/10\n",
            "678/678 [==============================] - 21s 31ms/step - loss: 0.5834 - mse: 0.0436 - mae: 0.1688 - val_loss: 0.5800 - val_mse: 0.0419 - val_mae: 0.1676\n",
            "Epoch 10/10\n",
            "678/678 [==============================] - 21s 31ms/step - loss: 0.5829 - mse: 0.0432 - mae: 0.1681 - val_loss: 0.5800 - val_mse: 0.0419 - val_mae: 0.1675\n"
          ],
          "name": "stdout"
        }
      ]
    },
    {
      "cell_type": "code",
      "metadata": {
        "id": "qCnNtYjiuKnx",
        "colab": {
          "base_uri": "https://localhost:8080/",
          "height": 265
        },
        "outputId": "d51a6122-7589-4cd4-d462-b62b44cdc92e"
      },
      "source": [
        "# plot losses\n",
        "plt.plot(history.history['loss'], label=\"train loss\")\n",
        "plt.plot(history.history['val_loss'], label=\"test loss\")\n",
        "plt.legend()\n",
        "plt.show()"
      ],
      "execution_count": 27,
      "outputs": [
        {
          "output_type": "display_data",
          "data": {
            "image/png": "[encoded data removed]",
            "text/plain": [
              "<Figure size 432x288 with 1 Axes>"
            ]
          },
          "metadata": {
            "tags": [],
            "needs_background": "light"
          }
        }
      ]
    },
    {
      "cell_type": "code",
      "metadata": {
        "id": "YwlffFQFMw7K",
        "colab": {
          "base_uri": "https://localhost:8080/",
          "height": 265
        },
        "outputId": "16380f7d-87cc-4122-b7f4-2fca5b443dc2"
      },
      "source": [
        "# plot mse\n",
        "plt.plot(history.history['mse'], label=\"train mse\")\n",
        "plt.plot(history.history['val_mse'], label=\"test mse\")\n",
        "plt.legend()\n",
        "plt.show()"
      ],
      "execution_count": 28,
      "outputs": [
        {
          "output_type": "display_data",
          "data": {
            "image/png": "[encoded data removed]",
            "text/plain": [
              "<Figure size 432x288 with 1 Axes>"
            ]
          },
          "metadata": {
            "tags": [],
            "needs_background": "light"
          }
        }
      ]
    },
    {
      "cell_type": "code",
      "metadata": {
        "colab": {
          "base_uri": "https://localhost:8080/",
          "height": 265
        },
        "id": "lfJ3k6qaHjJf",
        "outputId": "49c9098a-1afd-49b8-9840-c1562686724c"
      },
      "source": [
        "# plot mae\n",
        "plt.plot(history.history['mae'], label=\"train mae\")\n",
        "plt.plot(history.history['val_mae'], label=\"test mae\")\n",
        "plt.legend()\n",
        "plt.show()"
      ],
      "execution_count": 29,
      "outputs": [
        {
          "output_type": "display_data",
          "data": {
            "image/png": "[encoded data removed]",
            "text/plain": [
              "<Figure size 432x288 with 1 Axes>"
            ]
          },
          "metadata": {
            "tags": [],
            "needs_background": "light"
          }
        }
      ]
    }
  ]
}