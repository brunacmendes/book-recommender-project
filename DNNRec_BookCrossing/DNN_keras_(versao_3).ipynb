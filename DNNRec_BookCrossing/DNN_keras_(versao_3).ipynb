{
  "nbformat": 4,
  "nbformat_minor": 0,
  "metadata": {
    "colab": {
      "name": "DNN_keras (versao 3).ipynb",
      "provenance": [],
      "collapsed_sections": [],
      "toc_visible": true,
      "mount_file_id": "1sl5SlsF2zdlBvMT6pOsKq68CGmTVC0za",
      "authorship_tag": "ABX9TyMRrgE0K1xUxD1sJdrnmJxD",
      "include_colab_link": true
    },
    "kernelspec": {
      "display_name": "Python 3",
      "name": "python3"
    },
    "language_info": {
      "name": "python"
    },
    "accelerator": "GPU"
  },
  "cells": [
    {
      "cell_type": "markdown",
      "metadata": {
        "id": "view-in-github",
        "colab_type": "text"
      },
      "source": [
        "<a href=\"https://colab.research.google.com/github/brunacmendes/book-recommender-project/blob/main/DNN_keras_(versao_3).ipynb\" target=\"_parent\"><img src=\"https://colab.research.google.com/assets/colab-badge.svg\" alt=\"Open In Colab\"/></a>"
      ]
    },
    {
      "cell_type": "code",
      "metadata": {
        "id": "z7hdD_4Tq-kp"
      },
      "source": [
        "from __future__ import print_function, division\n",
        "from builtins import range, input\n",
        "\n",
        "%matplotlib inline\n",
        "from zipfile import ZipFile\n",
        "from pathlib import Path\n",
        "import numpy as np\n",
        "import pandas as pd\n",
        "import pickle\n",
        "import matplotlib.pyplot as plt\n",
        "from sklearn.model_selection import train_test_split\n",
        "from sklearn.preprocessing import LabelEncoder\n",
        "from tensorflow import keras\n",
        "import tensorflow as tf\n"
      ],
      "execution_count": 6,
      "outputs": []
    },
    {
      "cell_type": "markdown",
      "metadata": {
        "id": "vwTC0Rqpv6j3"
      },
      "source": [
        "# Carregar dados e Pre-processamento"
      ]
    },
    {
      "cell_type": "code",
      "metadata": {
        "id": "nuBG5Mcj7443"
      },
      "source": [
        "# Load the Drive helper and mount\n",
        "#from google.colab import drive\n",
        "\n",
        "# This will prompt for authorization.\n",
        "#drive.mount('/content/drive')\n",
        "\n",
        "#df = pd.read_csv('/content/drive/MyDrive/amazon_ratings.csv')"
      ],
      "execution_count": null,
      "outputs": []
    },
    {
      "cell_type": "code",
      "metadata": {
        "id": "LoFPe6FHgoBm"
      },
      "source": [
        "bookcrossing_data_file_url = (\n",
        "    \"http://www2.informatik.uni-freiburg.de/~cziegler/BX/BX-CSV-Dump.zip\"\n",
        ")\n",
        "BX_zipped_file = keras.utils.get_file(\n",
        "    \"BX-CSV-Dump.zip\", bookcrossing_data_file_url, extract=False\n",
        ")\n",
        "keras_datasets_path = Path(BX_zipped_file).parents[0]\n",
        "BX_dir = keras_datasets_path / 'book-crossing'\n",
        "\n",
        "# Only extract the data the first time the script is run.\n",
        "if not BX_dir.exists():\n",
        "    with ZipFile(BX_zipped_file, \"r\") as zip:\n",
        "        # Extract files\n",
        "        print(\"Extracting all the files now...\")\n",
        "        zip.extractall(path=BX_dir)\n",
        "        print(\"Done!\")\n",
        "\n",
        "ratings_file = BX_dir / 'BX-Book-Ratings.csv'\n",
        "r_cols = ['user_id', 'book_id', 'rating']\n",
        "df = pd.read_csv(ratings_file, sep=';', names=r_cols, encoding='latin-1', low_memory=False)\n",
        "df = df.drop(df.index[0])"
      ],
      "execution_count": 7,
      "outputs": []
    },
    {
      "cell_type": "code",
      "metadata": {
        "colab": {
          "base_uri": "https://localhost:8080/",
          "height": 204
        },
        "id": "2ksx4pTV8IsO",
        "outputId": "6ea8f6f1-0948-4742-95ce-36537ce6435e"
      },
      "source": [
        "df.head()"
      ],
      "execution_count": 8,
      "outputs": [
        {
          "output_type": "execute_result",
          "data": {
            "text/html": [
              "<div>\n",
              "<style scoped>\n",
              "    .dataframe tbody tr th:only-of-type {\n",
              "        vertical-align: middle;\n",
              "    }\n",
              "\n",
              "    .dataframe tbody tr th {\n",
              "        vertical-align: top;\n",
              "    }\n",
              "\n",
              "    .dataframe thead th {\n",
              "        text-align: right;\n",
              "    }\n",
              "</style>\n",
              "<table border=\"1\" class=\"dataframe\">\n",
              "  <thead>\n",
              "    <tr style=\"text-align: right;\">\n",
              "      <th></th>\n",
              "      <th>user_id</th>\n",
              "      <th>book_id</th>\n",
              "      <th>rating</th>\n",
              "    </tr>\n",
              "  </thead>\n",
              "  <tbody>\n",
              "    <tr>\n",
              "      <th>1</th>\n",
              "      <td>276725</td>\n",
              "      <td>034545104X</td>\n",
              "      <td>0</td>\n",
              "    </tr>\n",
              "    <tr>\n",
              "      <th>2</th>\n",
              "      <td>276726</td>\n",
              "      <td>0155061224</td>\n",
              "      <td>5</td>\n",
              "    </tr>\n",
              "    <tr>\n",
              "      <th>3</th>\n",
              "      <td>276727</td>\n",
              "      <td>0446520802</td>\n",
              "      <td>0</td>\n",
              "    </tr>\n",
              "    <tr>\n",
              "      <th>4</th>\n",
              "      <td>276729</td>\n",
              "      <td>052165615X</td>\n",
              "      <td>3</td>\n",
              "    </tr>\n",
              "    <tr>\n",
              "      <th>5</th>\n",
              "      <td>276729</td>\n",
              "      <td>0521795028</td>\n",
              "      <td>6</td>\n",
              "    </tr>\n",
              "  </tbody>\n",
              "</table>\n",
              "</div>"
            ],
            "text/plain": [
              "  user_id     book_id rating\n",
              "1  276725  034545104X      0\n",
              "2  276726  0155061224      5\n",
              "3  276727  0446520802      0\n",
              "4  276729  052165615X      3\n",
              "5  276729  0521795028      6"
            ]
          },
          "metadata": {
            "tags": []
          },
          "execution_count": 8
        }
      ]
    },
    {
      "cell_type": "markdown",
      "metadata": {
        "id": "o1oS53Jfv2i0"
      },
      "source": [
        "Agora preciso transformar os ids dos usuários e dos livros em ids únicos sequenciais começando do zero, para ser usado no modelo."
      ]
    },
    {
      "cell_type": "code",
      "metadata": {
        "colab": {
          "base_uri": "https://localhost:8080/"
        },
        "id": "2oEOZR3RuS7x",
        "outputId": "2e2a6d12-2749-45ee-d0bb-ad9b613880fb"
      },
      "source": [
        "#transforma ratings em valor float\n",
        "df[\"rating\"] = df[\"rating\"].values.astype(np.float32)\n",
        "\n",
        "\n",
        "#------apenas para o dataset do bookcrossing\n",
        "# manter apenas as avaliações explicitas - nota 0 signfica que o usuario apenas interagiu com o produto de alguma forma\n",
        "df=df.loc[df['rating']>0]\n",
        "\n",
        "#colocar ratings que sao de 1-10 para serem de 0.5 a 5\n",
        "df['rating']=df[\"rating\"].apply(lambda x: x/2)\n",
        "#-------------------------------------------------\n",
        "\n",
        "#transforma os ids dos usuarios e livros \n",
        "user_ids = df[\"user_id\"].unique().tolist()\n",
        "user2user_encoded = {x: i for i, x in enumerate(user_ids)}\n",
        "userencoded2user = {i: x for i, x in enumerate(user_ids)}\n",
        "book_ids = df[\"book_id\"].unique().tolist()\n",
        "book2book_encoded = {x: i for i, x in enumerate(book_ids)}\n",
        "book_encoded2book = {i: x for i, x in enumerate(book_ids)}\n",
        "df[\"user\"] = df[\"user_id\"].map(user2user_encoded)\n",
        "df[\"book\"] = df[\"book_id\"].map(book2book_encoded)\n",
        "\n",
        "n_users = len(user2user_encoded)\n",
        "n_books = len(book_encoded2book)\n",
        "\n",
        "# min and max ratings will be used to normalize the ratings later\n",
        "min_rating = min(df[\"rating\"])\n",
        "max_rating = max(df[\"rating\"])\n",
        "\n",
        "print(\n",
        "    \"Number of users: {}, Number of books: {}, Min rating: {}, Max rating: {}\".format(\n",
        "        n_users, n_books, min_rating, max_rating\n",
        "    )\n",
        ")"
      ],
      "execution_count": 9,
      "outputs": [
        {
          "output_type": "stream",
          "text": [
            "Number of users: 77805, Number of books: 185973, Min rating: 0.5, Max rating: 5.0\n"
          ],
          "name": "stdout"
        }
      ]
    },
    {
      "cell_type": "code",
      "metadata": {
        "colab": {
          "base_uri": "https://localhost:8080/",
          "height": 204
        },
        "id": "A7d1vtqGJNa2",
        "outputId": "c107e045-acae-4213-b2da-80a3cc9298b7"
      },
      "source": [
        "df.head()"
      ],
      "execution_count": 10,
      "outputs": [
        {
          "output_type": "execute_result",
          "data": {
            "text/html": [
              "<div>\n",
              "<style scoped>\n",
              "    .dataframe tbody tr th:only-of-type {\n",
              "        vertical-align: middle;\n",
              "    }\n",
              "\n",
              "    .dataframe tbody tr th {\n",
              "        vertical-align: top;\n",
              "    }\n",
              "\n",
              "    .dataframe thead th {\n",
              "        text-align: right;\n",
              "    }\n",
              "</style>\n",
              "<table border=\"1\" class=\"dataframe\">\n",
              "  <thead>\n",
              "    <tr style=\"text-align: right;\">\n",
              "      <th></th>\n",
              "      <th>user_id</th>\n",
              "      <th>book_id</th>\n",
              "      <th>rating</th>\n",
              "      <th>user</th>\n",
              "      <th>book</th>\n",
              "    </tr>\n",
              "  </thead>\n",
              "  <tbody>\n",
              "    <tr>\n",
              "      <th>2</th>\n",
              "      <td>276726</td>\n",
              "      <td>0155061224</td>\n",
              "      <td>2.5</td>\n",
              "      <td>0</td>\n",
              "      <td>0</td>\n",
              "    </tr>\n",
              "    <tr>\n",
              "      <th>4</th>\n",
              "      <td>276729</td>\n",
              "      <td>052165615X</td>\n",
              "      <td>1.5</td>\n",
              "      <td>1</td>\n",
              "      <td>1</td>\n",
              "    </tr>\n",
              "    <tr>\n",
              "      <th>5</th>\n",
              "      <td>276729</td>\n",
              "      <td>0521795028</td>\n",
              "      <td>3.0</td>\n",
              "      <td>1</td>\n",
              "      <td>2</td>\n",
              "    </tr>\n",
              "    <tr>\n",
              "      <th>7</th>\n",
              "      <td>276736</td>\n",
              "      <td>3257224281</td>\n",
              "      <td>4.0</td>\n",
              "      <td>2</td>\n",
              "      <td>3</td>\n",
              "    </tr>\n",
              "    <tr>\n",
              "      <th>8</th>\n",
              "      <td>276737</td>\n",
              "      <td>0600570967</td>\n",
              "      <td>3.0</td>\n",
              "      <td>3</td>\n",
              "      <td>4</td>\n",
              "    </tr>\n",
              "  </tbody>\n",
              "</table>\n",
              "</div>"
            ],
            "text/plain": [
              "  user_id     book_id  rating  user  book\n",
              "2  276726  0155061224     2.5     0     0\n",
              "4  276729  052165615X     1.5     1     1\n",
              "5  276729  0521795028     3.0     1     2\n",
              "7  276736  3257224281     4.0     2     3\n",
              "8  276737  0600570967     3.0     3     4"
            ]
          },
          "metadata": {
            "tags": []
          },
          "execution_count": 10
        }
      ]
    },
    {
      "cell_type": "markdown",
      "metadata": {
        "id": "agjLq8vc9Lrf"
      },
      "source": [
        "Para ter uma ideia melhor de como os dados se parecem, podemos transformá-los em uma tabela selecionando os 15 principais usuários/livros dos dados e juntando-os. O resultado mostra como cada um dos principais usuários classificou cada um dos livros principais."
      ]
    },
    {
      "cell_type": "code",
      "metadata": {
        "colab": {
          "base_uri": "https://localhost:8080/",
          "height": 410
        },
        "id": "IO1qmrQG9Y7s",
        "outputId": "f5d6a522-0a15-4c33-db21-d4edf5d40758"
      },
      "source": [
        "g = df.groupby('user_id')['rating'].count()\n",
        "top_users = g.sort_values(ascending=False)[:15]\n",
        "\n",
        "g = df.groupby('book_id')['rating'].count()\n",
        "top_books = g.sort_values(ascending=False)[:15]\n",
        "\n",
        "top_r = df.join(top_users, rsuffix='_r', how='inner', on='user_id')\n",
        "top_r = top_r.join(top_books, rsuffix='_r', how='inner', on='book_id')\n",
        "\n",
        "pd.crosstab(top_r.user_id, top_r.book_id, top_r.rating, aggfunc=np.sum)"
      ],
      "execution_count": 11,
      "outputs": [
        {
          "output_type": "execute_result",
          "data": {
            "text/html": [
              "<div>\n",
              "<style scoped>\n",
              "    .dataframe tbody tr th:only-of-type {\n",
              "        vertical-align: middle;\n",
              "    }\n",
              "\n",
              "    .dataframe tbody tr th {\n",
              "        vertical-align: top;\n",
              "    }\n",
              "\n",
              "    .dataframe thead th {\n",
              "        text-align: right;\n",
              "    }\n",
              "</style>\n",
              "<table border=\"1\" class=\"dataframe\">\n",
              "  <thead>\n",
              "    <tr style=\"text-align: right;\">\n",
              "      <th>book_id</th>\n",
              "      <th>0142001740</th>\n",
              "      <th>0312195516</th>\n",
              "      <th>0316666343</th>\n",
              "      <th>0316769487</th>\n",
              "      <th>0385504209</th>\n",
              "      <th>044023722X</th>\n",
              "      <th>0446672211</th>\n",
              "      <th>059035342X</th>\n",
              "      <th>067976402X</th>\n",
              "      <th>0679781587</th>\n",
              "      <th>0971880107</th>\n",
              "    </tr>\n",
              "    <tr>\n",
              "      <th>user_id</th>\n",
              "      <th></th>\n",
              "      <th></th>\n",
              "      <th></th>\n",
              "      <th></th>\n",
              "      <th></th>\n",
              "      <th></th>\n",
              "      <th></th>\n",
              "      <th></th>\n",
              "      <th></th>\n",
              "      <th></th>\n",
              "      <th></th>\n",
              "    </tr>\n",
              "  </thead>\n",
              "  <tbody>\n",
              "    <tr>\n",
              "      <th>11676</th>\n",
              "      <td>NaN</td>\n",
              "      <td>5.0</td>\n",
              "      <td>2.5</td>\n",
              "      <td>NaN</td>\n",
              "      <td>4.5</td>\n",
              "      <td>4.0</td>\n",
              "      <td>5.0</td>\n",
              "      <td>5.0</td>\n",
              "      <td>5.0</td>\n",
              "      <td>NaN</td>\n",
              "      <td>3.0</td>\n",
              "    </tr>\n",
              "    <tr>\n",
              "      <th>153662</th>\n",
              "      <td>NaN</td>\n",
              "      <td>NaN</td>\n",
              "      <td>NaN</td>\n",
              "      <td>NaN</td>\n",
              "      <td>NaN</td>\n",
              "      <td>NaN</td>\n",
              "      <td>NaN</td>\n",
              "      <td>5.0</td>\n",
              "      <td>5.0</td>\n",
              "      <td>NaN</td>\n",
              "      <td>NaN</td>\n",
              "    </tr>\n",
              "    <tr>\n",
              "      <th>16795</th>\n",
              "      <td>5.0</td>\n",
              "      <td>4.5</td>\n",
              "      <td>5.0</td>\n",
              "      <td>4.0</td>\n",
              "      <td>5.0</td>\n",
              "      <td>NaN</td>\n",
              "      <td>4.0</td>\n",
              "      <td>NaN</td>\n",
              "      <td>NaN</td>\n",
              "      <td>NaN</td>\n",
              "      <td>NaN</td>\n",
              "    </tr>\n",
              "    <tr>\n",
              "      <th>189835</th>\n",
              "      <td>NaN</td>\n",
              "      <td>4.5</td>\n",
              "      <td>NaN</td>\n",
              "      <td>NaN</td>\n",
              "      <td>NaN</td>\n",
              "      <td>NaN</td>\n",
              "      <td>NaN</td>\n",
              "      <td>NaN</td>\n",
              "      <td>NaN</td>\n",
              "      <td>NaN</td>\n",
              "      <td>NaN</td>\n",
              "    </tr>\n",
              "    <tr>\n",
              "      <th>235105</th>\n",
              "      <td>NaN</td>\n",
              "      <td>NaN</td>\n",
              "      <td>4.0</td>\n",
              "      <td>NaN</td>\n",
              "      <td>3.0</td>\n",
              "      <td>NaN</td>\n",
              "      <td>NaN</td>\n",
              "      <td>NaN</td>\n",
              "      <td>NaN</td>\n",
              "      <td>NaN</td>\n",
              "      <td>NaN</td>\n",
              "    </tr>\n",
              "    <tr>\n",
              "      <th>23902</th>\n",
              "      <td>NaN</td>\n",
              "      <td>NaN</td>\n",
              "      <td>NaN</td>\n",
              "      <td>NaN</td>\n",
              "      <td>NaN</td>\n",
              "      <td>3.0</td>\n",
              "      <td>NaN</td>\n",
              "      <td>NaN</td>\n",
              "      <td>NaN</td>\n",
              "      <td>NaN</td>\n",
              "      <td>NaN</td>\n",
              "    </tr>\n",
              "    <tr>\n",
              "      <th>248718</th>\n",
              "      <td>NaN</td>\n",
              "      <td>NaN</td>\n",
              "      <td>NaN</td>\n",
              "      <td>NaN</td>\n",
              "      <td>NaN</td>\n",
              "      <td>NaN</td>\n",
              "      <td>NaN</td>\n",
              "      <td>NaN</td>\n",
              "      <td>NaN</td>\n",
              "      <td>2.5</td>\n",
              "      <td>NaN</td>\n",
              "    </tr>\n",
              "    <tr>\n",
              "      <th>35859</th>\n",
              "      <td>4.5</td>\n",
              "      <td>5.0</td>\n",
              "      <td>3.0</td>\n",
              "      <td>NaN</td>\n",
              "      <td>NaN</td>\n",
              "      <td>NaN</td>\n",
              "      <td>NaN</td>\n",
              "      <td>5.0</td>\n",
              "      <td>NaN</td>\n",
              "      <td>NaN</td>\n",
              "      <td>NaN</td>\n",
              "    </tr>\n",
              "    <tr>\n",
              "      <th>56399</th>\n",
              "      <td>NaN</td>\n",
              "      <td>NaN</td>\n",
              "      <td>NaN</td>\n",
              "      <td>NaN</td>\n",
              "      <td>NaN</td>\n",
              "      <td>NaN</td>\n",
              "      <td>NaN</td>\n",
              "      <td>NaN</td>\n",
              "      <td>NaN</td>\n",
              "      <td>NaN</td>\n",
              "      <td>2.5</td>\n",
              "    </tr>\n",
              "    <tr>\n",
              "      <th>98391</th>\n",
              "      <td>NaN</td>\n",
              "      <td>NaN</td>\n",
              "      <td>4.5</td>\n",
              "      <td>NaN</td>\n",
              "      <td>5.0</td>\n",
              "      <td>NaN</td>\n",
              "      <td>NaN</td>\n",
              "      <td>NaN</td>\n",
              "      <td>NaN</td>\n",
              "      <td>NaN</td>\n",
              "      <td>NaN</td>\n",
              "    </tr>\n",
              "  </tbody>\n",
              "</table>\n",
              "</div>"
            ],
            "text/plain": [
              "book_id  0142001740  0312195516  0316666343  ...  067976402X  0679781587  0971880107\n",
              "user_id                                      ...                                    \n",
              "11676           NaN         5.0         2.5  ...         5.0         NaN         3.0\n",
              "153662          NaN         NaN         NaN  ...         5.0         NaN         NaN\n",
              "16795           5.0         4.5         5.0  ...         NaN         NaN         NaN\n",
              "189835          NaN         4.5         NaN  ...         NaN         NaN         NaN\n",
              "235105          NaN         NaN         4.0  ...         NaN         NaN         NaN\n",
              "23902           NaN         NaN         NaN  ...         NaN         NaN         NaN\n",
              "248718          NaN         NaN         NaN  ...         NaN         2.5         NaN\n",
              "35859           4.5         5.0         3.0  ...         NaN         NaN         NaN\n",
              "56399           NaN         NaN         NaN  ...         NaN         NaN         2.5\n",
              "98391           NaN         NaN         4.5  ...         NaN         NaN         NaN\n",
              "\n",
              "[10 rows x 11 columns]"
            ]
          },
          "metadata": {
            "tags": []
          },
          "execution_count": 11
        }
      ]
    },
    {
      "cell_type": "code",
      "metadata": {
        "colab": {
          "base_uri": "https://localhost:8080/"
        },
        "id": "gVBShY_JkYKH",
        "outputId": "33741166-c385-4fb1-8023-768cf0c4a947"
      },
      "source": [
        "df.isnull().sum()"
      ],
      "execution_count": 12,
      "outputs": [
        {
          "output_type": "execute_result",
          "data": {
            "text/plain": [
              "user_id    0\n",
              "book_id    0\n",
              "rating     0\n",
              "user       0\n",
              "book       0\n",
              "dtype: int64"
            ]
          },
          "metadata": {
            "tags": []
          },
          "execution_count": 12
        }
      ]
    },
    {
      "cell_type": "markdown",
      "metadata": {
        "id": "zCj5Cn5twXWv"
      },
      "source": [
        "# Preparar dados de treinamento e de teste"
      ]
    },
    {
      "cell_type": "code",
      "metadata": {
        "id": "pzQJuXDFiQln",
        "colab": {
          "base_uri": "https://localhost:8080/"
        },
        "outputId": "9b51fbbd-bdb7-48e8-84ee-86eef76cbd5e"
      },
      "source": [
        "# split into train and test\n",
        "\n",
        "df = df.sample(frac=1, random_state=42)\n",
        "x = df[[\"user\", \"book\"]].values\n",
        "# Normalize the targets between 0 and 1. Makes it easy to train.\n",
        "#y = df[\"rating\"].apply(lambda x: (x - min_rating) / (max_rating - min_rating)).values\n",
        "y= df[\"rating\"].values\n",
        "# Assuming training on 80% of the data and validating on 10%.\n",
        "train_indices = int(0.8 * df.shape[0])\n",
        "x_train, x_test, y_train, y_test = (\n",
        "    x[:train_indices],\n",
        "    x[train_indices:],\n",
        "    y[:train_indices],\n",
        "    y[train_indices:],\n",
        ")\n",
        "\n",
        "media = y_train.mean()\n",
        "\n",
        "x_train.shape, x_test.shape, y_train.shape, y_test.shape, media"
      ],
      "execution_count": 13,
      "outputs": [
        {
          "output_type": "execute_result",
          "data": {
            "text/plain": [
              "((346936, 2), (86735, 2), (346936,), (86735,), 3.8007572001752483)"
            ]
          },
          "metadata": {
            "tags": []
          },
          "execution_count": 13
        }
      ]
    },
    {
      "cell_type": "markdown",
      "metadata": {
        "id": "a2UB4q9mAbCx"
      },
      "source": [
        "# Construção do modelo"
      ]
    },
    {
      "cell_type": "code",
      "metadata": {
        "id": "f7aUMwB3m3__"
      },
      "source": [
        "from keras.models import Model\n",
        "from keras.layers import Input, Reshape, Dot\n",
        "from keras.layers import Add, Activation, Lambda, BatchNormalization, Flatten\n",
        "from keras.layers import Concatenate, Dense, Dropout\n",
        "from keras.layers.embeddings import Embedding\n",
        "from keras.optimizers import Adam, SGD\n",
        "from keras.regularizers import l2"
      ],
      "execution_count": 14,
      "outputs": []
    },
    {
      "cell_type": "code",
      "metadata": {
        "id": "14Ya86cCB1tt"
      },
      "source": [
        "n_factors = 20\n",
        "\n",
        "X_train_array = [x_train[:, 0], x_train[:, 1]]\n",
        "X_test_array = [x_test[:, 0], x_test[:, 1]]\n",
        "\n",
        "class EmbeddingLayer:\n",
        "    def __init__(self, n_items, n_factors):\n",
        "        self.n_items = n_items\n",
        "        self.n_factors = n_factors\n",
        "        \n",
        "    \n",
        "    def __call__(self, x):\n",
        "        x = Embedding(self.n_items, self.n_factors, embeddings_initializer='he_normal',\n",
        "                      embeddings_regularizer=l2(1e-6))(x)\n",
        "        x = Reshape((self.n_factors,))(x)\n",
        "        #x = Flatten()(x)\n",
        "        return x"
      ],
      "execution_count": 35,
      "outputs": []
    },
    {
      "cell_type": "code",
      "metadata": {
        "id": "VkQjnplOAzPG"
      },
      "source": [
        "def RecommenderNet(n_users, n_books, n_factors, min_rating, max_rating):\n",
        "    user = Input(shape=(1,))\n",
        "    u = EmbeddingLayer(n_users, n_factors)(user)\n",
        "    \n",
        "    book = Input(shape=(1,))\n",
        "    m = EmbeddingLayer(n_books, n_factors)(book)\n",
        "\n",
        "    x = Concatenate()([u, m])\n",
        "    x = Dropout(0.05)(x)\n",
        "\n",
        "    x = Dense(100, kernel_initializer='he_normal')(x)\n",
        "    x = Activation('relu')(x)\n",
        "\n",
        "    x = Dense(50, kernel_initializer='he_normal')(x)\n",
        "    x = Activation('relu')(x)\n",
        "    x = Dropout(0.2)(x)\n",
        "    \n",
        "    x = Dense(1, kernel_initializer='he_normal')(x)\n",
        "    x = Activation('relu')(x)\n",
        "    #x = Activation('sigmoid')(x)\n",
        "    #x = Lambda(lambda x: x * (max_rating - min_rating) + min_rating)(x)\n",
        "\n",
        "    model = Model(inputs=[user, book], outputs=x)\n",
        "    #opt = Adam(lr=0.001)\n",
        "    opt=SGD(lr=0.0025)\n",
        "    cosine = tf.keras.metrics.CosineSimilarity(axis=1)\n",
        "    model.compile(loss='mean_squared_error', optimizer=opt, metrics=['mse','mae',tf.keras.metrics.RootMeanSquaredError(),cosine])\n",
        "\n",
        "    return model"
      ],
      "execution_count": 43,
      "outputs": []
    },
    {
      "cell_type": "code",
      "metadata": {
        "id": "F3I57UQJuBFH",
        "colab": {
          "base_uri": "https://localhost:8080/"
        },
        "outputId": "314f36fe-41dc-444d-a232-c6e3bc771552"
      },
      "source": [
        "model = RecommenderNet(n_users, n_books, n_factors, min_rating, max_rating)\n",
        "model.summary()"
      ],
      "execution_count": 44,
      "outputs": [
        {
          "output_type": "stream",
          "text": [
            "Model: \"model_5\"\n",
            "__________________________________________________________________________________________________\n",
            "Layer (type)                    Output Shape         Param #     Connected to                     \n",
            "==================================================================================================\n",
            "input_11 (InputLayer)           [(None, 1)]          0                                            \n",
            "__________________________________________________________________________________________________\n",
            "input_12 (InputLayer)           [(None, 1)]          0                                            \n",
            "__________________________________________________________________________________________________\n",
            "embedding_10 (Embedding)        (None, 1, 20)        1556100     input_11[0][0]                   \n",
            "__________________________________________________________________________________________________\n",
            "embedding_11 (Embedding)        (None, 1, 20)        3719460     input_12[0][0]                   \n",
            "__________________________________________________________________________________________________\n",
            "reshape_10 (Reshape)            (None, 20)           0           embedding_10[0][0]               \n",
            "__________________________________________________________________________________________________\n",
            "reshape_11 (Reshape)            (None, 20)           0           embedding_11[0][0]               \n",
            "__________________________________________________________________________________________________\n",
            "concatenate_5 (Concatenate)     (None, 40)           0           reshape_10[0][0]                 \n",
            "                                                                 reshape_11[0][0]                 \n",
            "__________________________________________________________________________________________________\n",
            "dropout_10 (Dropout)            (None, 40)           0           concatenate_5[0][0]              \n",
            "__________________________________________________________________________________________________\n",
            "dense_15 (Dense)                (None, 100)          4100        dropout_10[0][0]                 \n",
            "__________________________________________________________________________________________________\n",
            "activation_15 (Activation)      (None, 100)          0           dense_15[0][0]                   \n",
            "__________________________________________________________________________________________________\n",
            "dense_16 (Dense)                (None, 50)           5050        activation_15[0][0]              \n",
            "__________________________________________________________________________________________________\n",
            "activation_16 (Activation)      (None, 50)           0           dense_16[0][0]                   \n",
            "__________________________________________________________________________________________________\n",
            "dropout_11 (Dropout)            (None, 50)           0           activation_16[0][0]              \n",
            "__________________________________________________________________________________________________\n",
            "dense_17 (Dense)                (None, 1)            51          dropout_11[0][0]                 \n",
            "__________________________________________________________________________________________________\n",
            "activation_17 (Activation)      (None, 1)            0           dense_17[0][0]                   \n",
            "==================================================================================================\n",
            "Total params: 5,284,761\n",
            "Trainable params: 5,284,761\n",
            "Non-trainable params: 0\n",
            "__________________________________________________________________________________________________\n"
          ],
          "name": "stdout"
        }
      ]
    },
    {
      "cell_type": "code",
      "metadata": {
        "colab": {
          "base_uri": "https://localhost:8080/"
        },
        "id": "Bf50Fx7fuHid",
        "outputId": "42de3318-a421-4e66-e1d9-9e422538767f"
      },
      "source": [
        "history = model.fit(x=X_train_array, \n",
        "                    y=y_train - media, \n",
        "                    batch_size=256, \n",
        "                    epochs=40,\n",
        "                    verbose=1, \n",
        "                    validation_data=(X_test_array, y_test - media)\n",
        "                    )"
      ],
      "execution_count": 45,
      "outputs": [
        {
          "output_type": "stream",
          "text": [
            "Epoch 1/40\n",
            "1356/1356 [==============================] - 34s 25ms/step - loss: 0.8505 - mse: 0.8504 - mae: 0.7471 - root_mean_squared_error: 0.9222 - cosine_similarity: 0.1040 - val_loss: 0.8484 - val_mse: 0.8483 - val_mae: 0.7451 - val_root_mean_squared_error: 0.9210 - val_cosine_similarity: 0.1516\n",
            "Epoch 2/40\n",
            "1356/1356 [==============================] - 33s 24ms/step - loss: 0.8463 - mse: 0.8462 - mae: 0.7433 - root_mean_squared_error: 0.9199 - cosine_similarity: 0.1485 - val_loss: 0.8451 - val_mse: 0.8450 - val_mae: 0.7420 - val_root_mean_squared_error: 0.9192 - val_cosine_similarity: 0.1574\n",
            "Epoch 3/40\n",
            "1356/1356 [==============================] - 33s 24ms/step - loss: 0.8437 - mse: 0.8436 - mae: 0.7407 - root_mean_squared_error: 0.9185 - cosine_similarity: 0.1559 - val_loss: 0.8412 - val_mse: 0.8411 - val_mae: 0.7390 - val_root_mean_squared_error: 0.9171 - val_cosine_similarity: 0.1634\n",
            "Epoch 4/40\n",
            "1356/1356 [==============================] - 34s 25ms/step - loss: 0.8390 - mse: 0.8389 - mae: 0.7365 - root_mean_squared_error: 0.9159 - cosine_similarity: 0.1658 - val_loss: 0.8371 - val_mse: 0.8370 - val_mae: 0.7357 - val_root_mean_squared_error: 0.9149 - val_cosine_similarity: 0.1690\n",
            "Epoch 5/40\n",
            "1356/1356 [==============================] - 33s 25ms/step - loss: 0.8398 - mse: 0.8398 - mae: 0.7363 - root_mean_squared_error: 0.9164 - cosine_similarity: 0.1709 - val_loss: 0.8329 - val_mse: 0.8328 - val_mae: 0.7329 - val_root_mean_squared_error: 0.9126 - val_cosine_similarity: 0.1745\n",
            "Epoch 6/40\n",
            "1356/1356 [==============================] - 33s 25ms/step - loss: 0.8309 - mse: 0.8308 - mae: 0.7310 - root_mean_squared_error: 0.9115 - cosine_similarity: 0.1742 - val_loss: 0.8286 - val_mse: 0.8285 - val_mae: 0.7304 - val_root_mean_squared_error: 0.9102 - val_cosine_similarity: 0.1810\n",
            "Epoch 7/40\n",
            "1356/1356 [==============================] - 33s 25ms/step - loss: 0.8290 - mse: 0.8289 - mae: 0.7283 - root_mean_squared_error: 0.9104 - cosine_similarity: 0.1797 - val_loss: 0.8250 - val_mse: 0.8249 - val_mae: 0.7234 - val_root_mean_squared_error: 0.9082 - val_cosine_similarity: 0.1714\n",
            "Epoch 8/40\n",
            "1356/1356 [==============================] - 33s 25ms/step - loss: 0.8237 - mse: 0.8236 - mae: 0.7243 - root_mean_squared_error: 0.9075 - cosine_similarity: 0.1840 - val_loss: 0.8197 - val_mse: 0.8196 - val_mae: 0.7236 - val_root_mean_squared_error: 0.9053 - val_cosine_similarity: 0.1903\n",
            "Epoch 9/40\n",
            "1356/1356 [==============================] - 33s 24ms/step - loss: 0.8206 - mse: 0.8205 - mae: 0.7214 - root_mean_squared_error: 0.9058 - cosine_similarity: 0.1900 - val_loss: 0.8152 - val_mse: 0.8151 - val_mae: 0.7186 - val_root_mean_squared_error: 0.9028 - val_cosine_similarity: 0.1897\n",
            "Epoch 10/40\n",
            "1356/1356 [==============================] - 33s 24ms/step - loss: 0.8117 - mse: 0.8116 - mae: 0.7155 - root_mean_squared_error: 0.9009 - cosine_similarity: 0.1957 - val_loss: 0.8110 - val_mse: 0.8109 - val_mae: 0.7133 - val_root_mean_squared_error: 0.9005 - val_cosine_similarity: 0.1889\n",
            "Epoch 11/40\n",
            "1356/1356 [==============================] - 33s 24ms/step - loss: 0.8074 - mse: 0.8073 - mae: 0.7121 - root_mean_squared_error: 0.8985 - cosine_similarity: 0.1974 - val_loss: 0.8062 - val_mse: 0.8061 - val_mae: 0.7127 - val_root_mean_squared_error: 0.8978 - val_cosine_similarity: 0.2013\n",
            "Epoch 12/40\n",
            "1356/1356 [==============================] - 33s 25ms/step - loss: 0.8043 - mse: 0.8042 - mae: 0.7091 - root_mean_squared_error: 0.8968 - cosine_similarity: 0.2023 - val_loss: 0.8022 - val_mse: 0.8021 - val_mae: 0.7058 - val_root_mean_squared_error: 0.8956 - val_cosine_similarity: 0.1948\n",
            "Epoch 13/40\n",
            "1356/1356 [==============================] - 33s 25ms/step - loss: 0.7984 - mse: 0.7983 - mae: 0.7049 - root_mean_squared_error: 0.8935 - cosine_similarity: 0.2078 - val_loss: 0.7973 - val_mse: 0.7972 - val_mae: 0.7048 - val_root_mean_squared_error: 0.8929 - val_cosine_similarity: 0.2058\n",
            "Epoch 14/40\n",
            "1356/1356 [==============================] - 33s 25ms/step - loss: 0.7889 - mse: 0.7888 - mae: 0.6991 - root_mean_squared_error: 0.8881 - cosine_similarity: 0.2141 - val_loss: 0.7937 - val_mse: 0.7936 - val_mae: 0.6998 - val_root_mean_squared_error: 0.8909 - val_cosine_similarity: 0.2038\n",
            "Epoch 15/40\n",
            "1356/1356 [==============================] - 33s 25ms/step - loss: 0.7899 - mse: 0.7898 - mae: 0.6978 - root_mean_squared_error: 0.8887 - cosine_similarity: 0.2177 - val_loss: 0.7897 - val_mse: 0.7896 - val_mae: 0.6978 - val_root_mean_squared_error: 0.8886 - val_cosine_similarity: 0.2120\n",
            "Epoch 16/40\n",
            "1356/1356 [==============================] - 33s 25ms/step - loss: 0.7823 - mse: 0.7822 - mae: 0.6933 - root_mean_squared_error: 0.8844 - cosine_similarity: 0.2235 - val_loss: 0.7869 - val_mse: 0.7868 - val_mae: 0.6937 - val_root_mean_squared_error: 0.8870 - val_cosine_similarity: 0.2110\n",
            "Epoch 17/40\n",
            "1356/1356 [==============================] - 33s 24ms/step - loss: 0.7820 - mse: 0.7819 - mae: 0.6914 - root_mean_squared_error: 0.8843 - cosine_similarity: 0.2269 - val_loss: 0.7846 - val_mse: 0.7845 - val_mae: 0.6903 - val_root_mean_squared_error: 0.8857 - val_cosine_similarity: 0.2102\n",
            "Epoch 18/40\n",
            "1356/1356 [==============================] - 33s 25ms/step - loss: 0.7722 - mse: 0.7722 - mae: 0.6856 - root_mean_squared_error: 0.8787 - cosine_similarity: 0.2331 - val_loss: 0.7814 - val_mse: 0.7814 - val_mae: 0.6890 - val_root_mean_squared_error: 0.8839 - val_cosine_similarity: 0.2180\n",
            "Epoch 19/40\n",
            "1356/1356 [==============================] - 33s 25ms/step - loss: 0.7688 - mse: 0.7687 - mae: 0.6831 - root_mean_squared_error: 0.8768 - cosine_similarity: 0.2361 - val_loss: 0.7786 - val_mse: 0.7785 - val_mae: 0.6899 - val_root_mean_squared_error: 0.8823 - val_cosine_similarity: 0.2229\n",
            "Epoch 20/40\n",
            "1356/1356 [==============================] - 33s 25ms/step - loss: 0.7681 - mse: 0.7680 - mae: 0.6815 - root_mean_squared_error: 0.8764 - cosine_similarity: 0.2420 - val_loss: 0.7766 - val_mse: 0.7765 - val_mae: 0.6878 - val_root_mean_squared_error: 0.8812 - val_cosine_similarity: 0.2247\n",
            "Epoch 21/40\n",
            "1356/1356 [==============================] - 34s 25ms/step - loss: 0.7605 - mse: 0.7605 - mae: 0.6771 - root_mean_squared_error: 0.8720 - cosine_similarity: 0.2478 - val_loss: 0.7764 - val_mse: 0.7764 - val_mae: 0.6825 - val_root_mean_squared_error: 0.8811 - val_cosine_similarity: 0.2210\n",
            "Epoch 22/40\n",
            "1356/1356 [==============================] - 34s 25ms/step - loss: 0.7591 - mse: 0.7590 - mae: 0.6749 - root_mean_squared_error: 0.8712 - cosine_similarity: 0.2493 - val_loss: 0.7735 - val_mse: 0.7735 - val_mae: 0.6828 - val_root_mean_squared_error: 0.8795 - val_cosine_similarity: 0.2267\n",
            "Epoch 23/40\n",
            "1356/1356 [==============================] - 34s 25ms/step - loss: 0.7550 - mse: 0.7549 - mae: 0.6717 - root_mean_squared_error: 0.8688 - cosine_similarity: 0.2534 - val_loss: 0.7722 - val_mse: 0.7721 - val_mae: 0.6817 - val_root_mean_squared_error: 0.8787 - val_cosine_similarity: 0.2279\n",
            "Epoch 24/40\n",
            "1356/1356 [==============================] - 34s 25ms/step - loss: 0.7550 - mse: 0.7549 - mae: 0.6715 - root_mean_squared_error: 0.8689 - cosine_similarity: 0.2566 - val_loss: 0.7719 - val_mse: 0.7718 - val_mae: 0.6793 - val_root_mean_squared_error: 0.8785 - val_cosine_similarity: 0.2281\n",
            "Epoch 25/40\n",
            "1356/1356 [==============================] - 34s 25ms/step - loss: 0.7491 - mse: 0.7490 - mae: 0.6681 - root_mean_squared_error: 0.8655 - cosine_similarity: 0.2599 - val_loss: 0.7703 - val_mse: 0.7702 - val_mae: 0.6784 - val_root_mean_squared_error: 0.8776 - val_cosine_similarity: 0.2296\n",
            "Epoch 26/40\n",
            "1356/1356 [==============================] - 33s 25ms/step - loss: 0.7475 - mse: 0.7474 - mae: 0.6664 - root_mean_squared_error: 0.8645 - cosine_similarity: 0.2646 - val_loss: 0.7686 - val_mse: 0.7685 - val_mae: 0.6785 - val_root_mean_squared_error: 0.8767 - val_cosine_similarity: 0.2309\n",
            "Epoch 27/40\n",
            "1356/1356 [==============================] - 34s 25ms/step - loss: 0.7421 - mse: 0.7420 - mae: 0.6631 - root_mean_squared_error: 0.8614 - cosine_similarity: 0.2688 - val_loss: 0.7676 - val_mse: 0.7675 - val_mae: 0.6780 - val_root_mean_squared_error: 0.8761 - val_cosine_similarity: 0.2319\n",
            "Epoch 28/40\n",
            "1356/1356 [==============================] - 34s 25ms/step - loss: 0.7400 - mse: 0.7399 - mae: 0.6608 - root_mean_squared_error: 0.8602 - cosine_similarity: 0.2721 - val_loss: 0.7686 - val_mse: 0.7685 - val_mae: 0.6752 - val_root_mean_squared_error: 0.8767 - val_cosine_similarity: 0.2323\n",
            "Epoch 29/40\n",
            "1356/1356 [==============================] - 33s 25ms/step - loss: 0.7358 - mse: 0.7357 - mae: 0.6587 - root_mean_squared_error: 0.8577 - cosine_similarity: 0.2755 - val_loss: 0.7701 - val_mse: 0.7700 - val_mae: 0.6733 - val_root_mean_squared_error: 0.8775 - val_cosine_similarity: 0.2301\n",
            "Epoch 30/40\n",
            "1356/1356 [==============================] - 34s 25ms/step - loss: 0.7371 - mse: 0.7370 - mae: 0.6583 - root_mean_squared_error: 0.8585 - cosine_similarity: 0.2755 - val_loss: 0.7711 - val_mse: 0.7710 - val_mae: 0.6721 - val_root_mean_squared_error: 0.8781 - val_cosine_similarity: 0.2284\n",
            "Epoch 31/40\n",
            "1356/1356 [==============================] - 34s 25ms/step - loss: 0.7304 - mse: 0.7304 - mae: 0.6546 - root_mean_squared_error: 0.8546 - cosine_similarity: 0.2803 - val_loss: 0.7657 - val_mse: 0.7656 - val_mae: 0.6737 - val_root_mean_squared_error: 0.8750 - val_cosine_similarity: 0.2352\n",
            "Epoch 32/40\n",
            "1356/1356 [==============================] - 34s 25ms/step - loss: 0.7270 - mse: 0.7269 - mae: 0.6525 - root_mean_squared_error: 0.8526 - cosine_similarity: 0.2831 - val_loss: 0.7673 - val_mse: 0.7672 - val_mae: 0.6720 - val_root_mean_squared_error: 0.8759 - val_cosine_similarity: 0.2348\n",
            "Epoch 33/40\n",
            "1356/1356 [==============================] - 34s 25ms/step - loss: 0.7225 - mse: 0.7224 - mae: 0.6502 - root_mean_squared_error: 0.8500 - cosine_similarity: 0.2869 - val_loss: 0.7664 - val_mse: 0.7663 - val_mae: 0.6721 - val_root_mean_squared_error: 0.8754 - val_cosine_similarity: 0.2356\n",
            "Epoch 34/40\n",
            "1356/1356 [==============================] - 34s 25ms/step - loss: 0.7208 - mse: 0.7207 - mae: 0.6484 - root_mean_squared_error: 0.8489 - cosine_similarity: 0.2898 - val_loss: 0.7667 - val_mse: 0.7666 - val_mae: 0.6713 - val_root_mean_squared_error: 0.8756 - val_cosine_similarity: 0.2367\n",
            "Epoch 35/40\n",
            "1356/1356 [==============================] - 34s 25ms/step - loss: 0.7217 - mse: 0.7216 - mae: 0.6482 - root_mean_squared_error: 0.8494 - cosine_similarity: 0.2902 - val_loss: 0.7670 - val_mse: 0.7669 - val_mae: 0.6706 - val_root_mean_squared_error: 0.8757 - val_cosine_similarity: 0.2370\n",
            "Epoch 36/40\n",
            "1356/1356 [==============================] - 33s 25ms/step - loss: 0.7184 - mse: 0.7183 - mae: 0.6449 - root_mean_squared_error: 0.8475 - cosine_similarity: 0.2971 - val_loss: 0.7642 - val_mse: 0.7642 - val_mae: 0.6717 - val_root_mean_squared_error: 0.8742 - val_cosine_similarity: 0.2376\n",
            "Epoch 37/40\n",
            "1356/1356 [==============================] - 34s 25ms/step - loss: 0.7111 - mse: 0.7110 - mae: 0.6424 - root_mean_squared_error: 0.8432 - cosine_similarity: 0.2974 - val_loss: 0.7709 - val_mse: 0.7708 - val_mae: 0.6691 - val_root_mean_squared_error: 0.8779 - val_cosine_similarity: 0.2343\n",
            "Epoch 38/40\n",
            "1356/1356 [==============================] - 33s 24ms/step - loss: 0.7104 - mse: 0.7103 - mae: 0.6397 - root_mean_squared_error: 0.8428 - cosine_similarity: 0.3017 - val_loss: 0.7651 - val_mse: 0.7650 - val_mae: 0.6701 - val_root_mean_squared_error: 0.8746 - val_cosine_similarity: 0.2379\n",
            "Epoch 39/40\n",
            "1356/1356 [==============================] - 33s 25ms/step - loss: 0.7067 - mse: 0.7066 - mae: 0.6372 - root_mean_squared_error: 0.8406 - cosine_similarity: 0.3045 - val_loss: 0.7738 - val_mse: 0.7737 - val_mae: 0.6690 - val_root_mean_squared_error: 0.8796 - val_cosine_similarity: 0.2328\n",
            "Epoch 40/40\n",
            "1356/1356 [==============================] - 33s 25ms/step - loss: 0.7001 - mse: 0.7000 - mae: 0.6340 - root_mean_squared_error: 0.8367 - cosine_similarity: 0.3063 - val_loss: 0.7669 - val_mse: 0.7668 - val_mae: 0.6691 - val_root_mean_squared_error: 0.8757 - val_cosine_similarity: 0.2388\n"
          ],
          "name": "stdout"
        }
      ]
    },
    {
      "cell_type": "code",
      "metadata": {
        "id": "qCnNtYjiuKnx",
        "colab": {
          "base_uri": "https://localhost:8080/",
          "height": 265
        },
        "outputId": "06252a6f-923a-4d86-af2a-016d438cef63"
      },
      "source": [
        "# plot losses\n",
        "plt.plot(history.history['loss'], label=\"train loss\")\n",
        "plt.plot(history.history['val_loss'], label=\"test loss\")\n",
        "plt.legend()\n",
        "plt.show()"
      ],
      "execution_count": 46,
      "outputs": [
        {
          "output_type": "display_data",
          "data": {
            "image/png": "[encoded data removed]",
            "text/plain": [
              "<Figure size 432x288 with 1 Axes>"
            ]
          },
          "metadata": {
            "tags": [],
            "needs_background": "light"
          }
        }
      ]
    },
    {
      "cell_type": "code",
      "metadata": {
        "id": "YwlffFQFMw7K",
        "colab": {
          "base_uri": "https://localhost:8080/",
          "height": 265
        },
        "outputId": "300c242a-5012-4d1f-9cd8-dcbbf4b37687"
      },
      "source": [
        "# plot mse\n",
        "plt.plot(history.history['mse'], label=\"train mse\")\n",
        "plt.plot(history.history['val_mse'], label=\"test mse\")\n",
        "plt.legend()\n",
        "plt.show()"
      ],
      "execution_count": 47,
      "outputs": [
        {
          "output_type": "display_data",
          "data": {
            "image/png": "[encoded data removed]",
            "text/plain": [
              "<Figure size 432x288 with 1 Axes>"
            ]
          },
          "metadata": {
            "tags": [],
            "needs_background": "light"
          }
        }
      ]
    },
    {
      "cell_type": "code",
      "metadata": {
        "colab": {
          "base_uri": "https://localhost:8080/",
          "height": 265
        },
        "id": "lfJ3k6qaHjJf",
        "outputId": "f633ad3f-7e86-4a7e-af0c-3abe59a8175e"
      },
      "source": [
        "# plot mae\n",
        "plt.plot(history.history['mae'], label=\"train mae\")\n",
        "plt.plot(history.history['val_mae'], label=\"test mae\")\n",
        "plt.legend()\n",
        "plt.show()"
      ],
      "execution_count": 48,
      "outputs": [
        {
          "output_type": "display_data",
          "data": {
            "image/png": "[encoded data removed]",
            "text/plain": [
              "<Figure size 432x288 with 1 Axes>"
            ]
          },
          "metadata": {
            "tags": [],
            "needs_background": "light"
          }
        }
      ]
    }
  ]
}